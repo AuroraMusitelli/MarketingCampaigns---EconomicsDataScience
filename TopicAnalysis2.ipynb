{
 "cells": [
  {
   "cell_type": "code",
   "execution_count": null,
   "metadata": {
    "colab": {
     "base_uri": "https://localhost:8080/"
    },
    "executionInfo": {
     "elapsed": 20327,
     "status": "ok",
     "timestamp": 1653481854038,
     "user": {
      "displayName": "Giorgia Gossi",
      "userId": "12769328602676688820"
     },
     "user_tz": -120
    },
    "id": "9q_okmAyedQD",
    "outputId": "ef365dc0-fd24-419c-b0f3-b16916014302"
   },
   "outputs": [
    {
     "name": "stdout",
     "output_type": "stream",
     "text": [
      "Mounted at /content/drive\n"
     ]
    }
   ],
   "source": [
    "from google.colab import drive\n",
    "drive.mount('/content/drive')"
   ]
  },
  {
   "cell_type": "code",
   "execution_count": null,
   "metadata": {
    "id": "pk6Dw1CCei94"
   },
   "outputs": [],
   "source": [
    "filepath = '/content/drive/MyDrive/statistica spaziale2/'"
   ]
  },
  {
   "cell_type": "code",
   "execution_count": null,
   "metadata": {
    "id": "JeH1zpqgdnrp"
   },
   "outputs": [],
   "source": [
    "import dill \n",
    "dill.load_session(filepath+'topic_analysis1.pkl')"
   ]
  },
  {
   "cell_type": "code",
   "execution_count": null,
   "metadata": {
    "id": "PZYxFTo7Mlyv"
   },
   "outputs": [],
   "source": [
    "# import dill \n",
    "# dill.load_session(filepath+'topic_analysis2.pkl')"
   ]
  },
  {
   "cell_type": "markdown",
   "metadata": {
    "id": "oFRpUVbNqxnH"
   },
   "source": [
    "##Osserviamo le parole più importanti in comune tra i topic per rappresentarle in una tabella"
   ]
  },
  {
   "cell_type": "markdown",
   "metadata": {
    "id": "ORoon-7FsZbV"
   },
   "source": [
    "life"
   ]
  },
  {
   "cell_type": "code",
   "execution_count": null,
   "metadata": {
    "colab": {
     "base_uri": "https://localhost:8080/"
    },
    "executionInfo": {
     "elapsed": 19,
     "status": "ok",
     "timestamp": 1653310785670,
     "user": {
      "displayName": "Giorgia Gossi",
      "userId": "12769328602676688820"
     },
     "user_tz": -120
    },
    "id": "dhs8a9gt9v5g",
    "outputId": "cde5b9ce-9eb3-46e9-dd15-6c603facc528"
   },
   "outputs": [
    {
     "name": "stdout",
     "output_type": "stream",
     "text": [
      "10\n",
      "['life', 'live', 'day', 'hear', 'true', 'blow', 'year', 'knock', 'come_home', 'swing']\n"
     ]
    }
   ],
   "source": [
    "i=0\n",
    "li_mu=[]\n",
    "for el in life:\n",
    "  if el in music:\n",
    "    i+=1\n",
    "    li_mu.append(el)\n",
    "print(i)\n",
    "print(li_mu)"
   ]
  },
  {
   "cell_type": "code",
   "execution_count": null,
   "metadata": {
    "colab": {
     "base_uri": "https://localhost:8080/"
    },
    "executionInfo": {
     "elapsed": 18,
     "status": "ok",
     "timestamp": 1653310785671,
     "user": {
      "displayName": "Giorgia Gossi",
      "userId": "12769328602676688820"
     },
     "user_tz": -120
    },
    "id": "khZOrp5pqkuP",
    "outputId": "b536de50-05ad-4007-bf96-d438f86e54ba"
   },
   "outputs": [
    {
     "name": "stdout",
     "output_type": "stream",
     "text": [
      "11\n",
      "['life', 'world', 'live', 'give', 'forgive', 'trust', 'count', 'room', 'true', 'good_time', 'night']\n"
     ]
    }
   ],
   "source": [
    "i2=0\n",
    "li_ni=[]\n",
    "for el in life:\n",
    "  if el in night_time:\n",
    "    i2+=1\n",
    "    li_ni.append(el)\n",
    "print(i2)\n",
    "print(li_ni)"
   ]
  },
  {
   "cell_type": "code",
   "execution_count": null,
   "metadata": {
    "colab": {
     "base_uri": "https://localhost:8080/"
    },
    "executionInfo": {
     "elapsed": 3,
     "status": "ok",
     "timestamp": 1653310786070,
     "user": {
      "displayName": "Giorgia Gossi",
      "userId": "12769328602676688820"
     },
     "user_tz": -120
    },
    "id": "QDxHxhthq5-O",
    "outputId": "1eb54ca5-655b-4017-e918-963bcbbd5839"
   },
   "outputs": [
    {
     "name": "stdout",
     "output_type": "stream",
     "text": [
      "6\n",
      "['tryin', 'drop', 'kick', 'beat', 'play_game', 'smoke']\n"
     ]
    }
   ],
   "source": [
    "i3=0\n",
    "li_ob=[]\n",
    "for el in life:\n",
    "  if el in obscene:\n",
    "    i3+=1\n",
    "    li_ob.append(el)\n",
    "print(i3)\n",
    "print(li_ob)"
   ]
  },
  {
   "cell_type": "code",
   "execution_count": null,
   "metadata": {
    "colab": {
     "base_uri": "https://localhost:8080/"
    },
    "executionInfo": {
     "elapsed": 2,
     "status": "ok",
     "timestamp": 1653310787370,
     "user": {
      "displayName": "Giorgia Gossi",
      "userId": "12769328602676688820"
     },
     "user_tz": -120
    },
    "id": "sl478KTortAU",
    "outputId": "6a4495af-37d3-4640-9e43-5743206a1cee"
   },
   "outputs": [
    {
     "name": "stdout",
     "output_type": "stream",
     "text": [
      "12\n",
      "['world', 'believe', 'day', 'today', 'dream', 'count', 'forever', 'share', 'true', 'moment', 'tell', 'close']\n"
     ]
    }
   ],
   "source": [
    "i4=0\n",
    "li_ro=[]\n",
    "for el in life:\n",
    "  if el in romantic:\n",
    "    i4+=1\n",
    "    li_ro.append(el)\n",
    "print(i4)\n",
    "print(li_ro)"
   ]
  },
  {
   "cell_type": "code",
   "execution_count": null,
   "metadata": {
    "colab": {
     "base_uri": "https://localhost:8080/"
    },
    "executionInfo": {
     "elapsed": 309,
     "status": "ok",
     "timestamp": 1653310790681,
     "user": {
      "displayName": "Giorgia Gossi",
      "userId": "12769328602676688820"
     },
     "user_tz": -120
    },
    "id": "Vi3WY481r2a0",
    "outputId": "fe4ed57f-cba2-4194-ea08-ed298a861a9a"
   },
   "outputs": [
    {
     "name": "stdout",
     "output_type": "stream",
     "text": [
      "3\n",
      "['sorrow', 'everyday', 'neck']\n"
     ]
    }
   ],
   "source": [
    "i5=0\n",
    "li_sa=[]\n",
    "for el in life:\n",
    "  if el in sadness:\n",
    "    i5+=1\n",
    "    li_sa.append(el)\n",
    "print(i5)\n",
    "print(li_sa)"
   ]
  },
  {
   "cell_type": "code",
   "execution_count": null,
   "metadata": {
    "colab": {
     "base_uri": "https://localhost:8080/"
    },
    "executionInfo": {
     "elapsed": 269,
     "status": "ok",
     "timestamp": 1653310793671,
     "user": {
      "displayName": "Giorgia Gossi",
      "userId": "12769328602676688820"
     },
     "user_tz": -120
    },
    "id": "LUlho0kjsA0f",
    "outputId": "4e15c440-2ade-4633-ecc9-3de6f3dbd67f"
   },
   "outputs": [
    {
     "name": "stdout",
     "output_type": "stream",
     "text": [
      "9\n",
      "['day', 'yesterday', 'mouth', 'crawl', 'shut', 'neck', 'cold', 'knock', 'brain']\n"
     ]
    }
   ],
   "source": [
    "i6=0\n",
    "li_vi=[]\n",
    "for el in life:\n",
    "  if el in violence:\n",
    "    i6+=1\n",
    "    li_vi.append(el)\n",
    "print(i6)\n",
    "print(li_vi)"
   ]
  },
  {
   "cell_type": "markdown",
   "metadata": {
    "id": "KoSx4vDPscYe"
   },
   "source": [
    "music"
   ]
  },
  {
   "cell_type": "code",
   "execution_count": null,
   "metadata": {
    "colab": {
     "base_uri": "https://localhost:8080/"
    },
    "executionInfo": {
     "elapsed": 12,
     "status": "ok",
     "timestamp": 1653310796784,
     "user": {
      "displayName": "Giorgia Gossi",
      "userId": "12769328602676688820"
     },
     "user_tz": -120
    },
    "id": "-Fs95_HUsYEG",
    "outputId": "8d756ab1-7058-4a4e-ff8d-4340209ef138"
   },
   "outputs": [
    {
     "name": "stdout",
     "output_type": "stream",
     "text": [
      "10\n",
      "['come_home', 'hear', 'blow', 'year', 'swing', 'life', 'knock', 'day', 'live', 'true']\n"
     ]
    }
   ],
   "source": [
    "#vediamo che è simmetrico CONTROLLO\n",
    "i7=0\n",
    "mu_li=[]\n",
    "for el in music:\n",
    "  if el in life:\n",
    "    i7+=1\n",
    "    mu_li.append(el)\n",
    "print(i7)\n",
    "print(mu_li)"
   ]
  },
  {
   "cell_type": "code",
   "execution_count": null,
   "metadata": {
    "colab": {
     "base_uri": "https://localhost:8080/"
    },
    "executionInfo": {
     "elapsed": 235,
     "status": "ok",
     "timestamp": 1653310799687,
     "user": {
      "displayName": "Giorgia Gossi",
      "userId": "12769328602676688820"
     },
     "user_tz": -120
    },
    "id": "bUmTzdhQtACG",
    "outputId": "8177e50a-a838-4189-c52b-849218cb74a5"
   },
   "outputs": [
    {
     "name": "stdout",
     "output_type": "stream",
     "text": [
      "13\n",
      "['sing_song', 'song', 'home', 'blue', 'ring', 'life', 'word', 'face', 'instrumental', 'mind', 'live', 'fight', 'true']\n"
     ]
    }
   ],
   "source": [
    "i8=0\n",
    "mu_ni=[]\n",
    "for el in music:\n",
    "  if el in night_time:\n",
    "    i8+=1\n",
    "    mu_ni.append(el)\n",
    "print(i8)\n",
    "print(mu_ni)"
   ]
  },
  {
   "cell_type": "code",
   "execution_count": null,
   "metadata": {
    "colab": {
     "base_uri": "https://localhost:8080/"
    },
    "executionInfo": {
     "elapsed": 324,
     "status": "ok",
     "timestamp": 1653310801654,
     "user": {
      "displayName": "Giorgia Gossi",
      "userId": "12769328602676688820"
     },
     "user_tz": -120
    },
    "id": "zpv19ND1tIS9",
    "outputId": "02244656-7301-43fa-c521-44de1332c7fe"
   },
   "outputs": [
    {
     "name": "stdout",
     "output_type": "stream",
     "text": [
      "5\n",
      "['play', 'record', 'playin', 'throw', 'wanna']\n"
     ]
    }
   ],
   "source": [
    "i9=0\n",
    "mu_ob=[]\n",
    "for el in music:\n",
    "  if el in obscene:\n",
    "    i9+=1\n",
    "    mu_ob.append(el)\n",
    "print(i9)\n",
    "print(mu_ob)"
   ]
  },
  {
   "cell_type": "code",
   "execution_count": null,
   "metadata": {
    "colab": {
     "base_uri": "https://localhost:8080/"
    },
    "executionInfo": {
     "elapsed": 341,
     "status": "ok",
     "timestamp": 1653310803670,
     "user": {
      "displayName": "Giorgia Gossi",
      "userId": "12769328602676688820"
     },
     "user_tz": -120
    },
    "id": "Zmz2U708tQLt",
    "outputId": "0e6190d7-edac-46a7-b4bd-0d2967c7af22"
   },
   "outputs": [
    {
     "name": "stdout",
     "output_type": "stream",
     "text": [
      "10\n",
      "['call', 'listen', 'band', 'hold', 'bring', 'kiss', 'day', 'sail', 'fight', 'true']\n"
     ]
    }
   ],
   "source": [
    "i10=0\n",
    "mu_ro=[]\n",
    "for el in music:\n",
    "  if el in romantic:\n",
    "    i10+=1\n",
    "    mu_ro.append(el)\n",
    "print(i10)\n",
    "print(mu_ro)"
   ]
  },
  {
   "cell_type": "code",
   "execution_count": null,
   "metadata": {
    "colab": {
     "base_uri": "https://localhost:8080/"
    },
    "executionInfo": {
     "elapsed": 267,
     "status": "ok",
     "timestamp": 1653310806033,
     "user": {
      "displayName": "Giorgia Gossi",
      "userId": "12769328602676688820"
     },
     "user_tz": -120
    },
    "id": "bpK_C-qctYFd",
    "outputId": "c8b86307-320f-46a0-9da8-63f0dd97e1db"
   },
   "outputs": [
    {
     "name": "stdout",
     "output_type": "stream",
     "text": [
      "9\n",
      "['song', 'music', 'tune', 'playin', 'go_away', 'read', 'cry', 'piece', 'folk']\n"
     ]
    }
   ],
   "source": [
    "i11=0\n",
    "mu_sa=[]\n",
    "for el in music:\n",
    "  if el in sadness:\n",
    "    i11+=1\n",
    "    mu_sa.append(el)\n",
    "print(i11)\n",
    "print(mu_sa)"
   ]
  },
  {
   "cell_type": "code",
   "execution_count": null,
   "metadata": {
    "colab": {
     "base_uri": "https://localhost:8080/"
    },
    "executionInfo": {
     "elapsed": 267,
     "status": "ok",
     "timestamp": 1653310807736,
     "user": {
      "displayName": "Giorgia Gossi",
      "userId": "12769328602676688820"
     },
     "user_tz": -120
    },
    "id": "6m5FGWbttePS",
    "outputId": "7e012107-6026-48b2-d1bf-dba0ee1b76de"
   },
   "outputs": [
    {
     "name": "stdout",
     "output_type": "stream",
     "text": [
      "7\n",
      "['home', 'play', 'blind', 'face', 'knock', 'day', 'fight']\n"
     ]
    }
   ],
   "source": [
    "i12=0\n",
    "mu_vi=[]\n",
    "for el in music:\n",
    "  if el in violence:\n",
    "    i12+=1\n",
    "    mu_vi.append(el)\n",
    "print(i12)\n",
    "print(mu_vi)"
   ]
  },
  {
   "cell_type": "markdown",
   "metadata": {
    "id": "uyScyzbmtk54"
   },
   "source": [
    "night_time"
   ]
  },
  {
   "cell_type": "code",
   "execution_count": null,
   "metadata": {
    "colab": {
     "base_uri": "https://localhost:8080/"
    },
    "executionInfo": {
     "elapsed": 252,
     "status": "ok",
     "timestamp": 1653310809779,
     "user": {
      "displayName": "Giorgia Gossi",
      "userId": "12769328602676688820"
     },
     "user_tz": -120
    },
    "id": "rWaj4u-Ktkqo",
    "outputId": "92109f58-ac15-41d2-a305-560f2b0d2095"
   },
   "outputs": [
    {
     "name": "stdout",
     "output_type": "stream",
     "text": [
      "2\n",
      "['game', 'nothin']\n"
     ]
    }
   ],
   "source": [
    "i13=0\n",
    "ni_ob=[]\n",
    "for el in night_time:\n",
    "  if el in obscene:\n",
    "    i13+=1\n",
    "    ni_ob.append(el)\n",
    "print(i13)\n",
    "print(ni_ob)"
   ]
  },
  {
   "cell_type": "code",
   "execution_count": null,
   "metadata": {
    "colab": {
     "base_uri": "https://localhost:8080/"
    },
    "executionInfo": {
     "elapsed": 433,
     "status": "ok",
     "timestamp": 1653310812314,
     "user": {
      "displayName": "Giorgia Gossi",
      "userId": "12769328602676688820"
     },
     "user_tz": -120
    },
    "id": "kU3UU4kTtz9w",
    "outputId": "a1dc08f1-9433-47db-dd40-af9d12d2823d"
   },
   "outputs": [
    {
     "name": "stdout",
     "output_type": "stream",
     "text": [
      "14\n",
      "['time', 'true', 'stay', 'save', 'warm', 'game', 'hurt', 'world', 'fight', 'know_want', 'arm', 'hand', 'free', 'count']\n"
     ]
    }
   ],
   "source": [
    "i14=0\n",
    "ni_ro=[]\n",
    "for el in night_time:\n",
    "  if el in romantic:\n",
    "    i14+=1\n",
    "    ni_ro.append(el)\n",
    "print(i14)\n",
    "print(ni_ro)"
   ]
  },
  {
   "cell_type": "code",
   "execution_count": null,
   "metadata": {
    "colab": {
     "base_uri": "https://localhost:8080/"
    },
    "executionInfo": {
     "elapsed": 223,
     "status": "ok",
     "timestamp": 1653310814072,
     "user": {
      "displayName": "Giorgia Gossi",
      "userId": "12769328602676688820"
     },
     "user_tz": -120
    },
    "id": "g-AZ7xXEuCdb",
    "outputId": "b599dcf7-fb25-4a0f-fcfd-00840390ee77"
   },
   "outputs": [
    {
     "name": "stdout",
     "output_type": "stream",
     "text": [
      "9\n",
      "['long_time', 'ready', 'tear', 'walk', 'second', 'hurt', 'song', 'pain', 'follow']\n"
     ]
    }
   ],
   "source": [
    "i15=0\n",
    "ni_sa=[]\n",
    "for el in night_time:\n",
    "  if el in sadness:\n",
    "    i15+=1\n",
    "    ni_sa.append(el)\n",
    "print(i15)\n",
    "print(ni_sa)"
   ]
  },
  {
   "cell_type": "code",
   "execution_count": null,
   "metadata": {
    "colab": {
     "base_uri": "https://localhost:8080/"
    },
    "executionInfo": {
     "elapsed": 317,
     "status": "ok",
     "timestamp": 1653310815770,
     "user": {
      "displayName": "Giorgia Gossi",
      "userId": "12769328602676688820"
     },
     "user_tz": -120
    },
    "id": "QPdvUUfnuIz1",
    "outputId": "fe94a9d5-38ab-4e2d-b318-36d24e3be16e"
   },
   "outputs": [
    {
     "name": "stdout",
     "output_type": "stream",
     "text": [
      "10\n",
      "['grind', 'fight', 'wall', 'home', 'follow', 'truth', 'speak', 'nothin', 'face', 'kill']\n"
     ]
    }
   ],
   "source": [
    "i15=0\n",
    "ni_vi=[]\n",
    "for el in night_time:\n",
    "  if el in violence:\n",
    "    i15+=1\n",
    "    ni_vi.append(el)\n",
    "print(i15)\n",
    "print(ni_vi)"
   ]
  },
  {
   "cell_type": "markdown",
   "metadata": {
    "id": "_ua9z1UluP4y"
   },
   "source": [
    "obscene"
   ]
  },
  {
   "cell_type": "code",
   "execution_count": null,
   "metadata": {
    "colab": {
     "base_uri": "https://localhost:8080/"
    },
    "executionInfo": {
     "elapsed": 249,
     "status": "ok",
     "timestamp": 1653310817385,
     "user": {
      "displayName": "Giorgia Gossi",
      "userId": "12769328602676688820"
     },
     "user_tz": -120
    },
    "id": "ElGS80pNuTGI",
    "outputId": "d08908a2-5bfe-4c0e-c4c7-df63610ce157"
   },
   "outputs": [
    {
     "name": "stdout",
     "output_type": "stream",
     "text": [
      "6\n",
      "['game', 'like', 'stick', 'goin', 'kid', 'gonna']\n"
     ]
    }
   ],
   "source": [
    "i16=0\n",
    "ob_ro=[]\n",
    "for el in obscene:\n",
    "  if el in romantic:\n",
    "    i16+=1\n",
    "    ob_ro.append(el)\n",
    "print(i16)\n",
    "print(ob_ro)"
   ]
  },
  {
   "cell_type": "code",
   "execution_count": null,
   "metadata": {
    "colab": {
     "base_uri": "https://localhost:8080/"
    },
    "executionInfo": {
     "elapsed": 330,
     "status": "ok",
     "timestamp": 1653310819517,
     "user": {
      "displayName": "Giorgia Gossi",
      "userId": "12769328602676688820"
     },
     "user_tz": -120
    },
    "id": "p17ii2hBudFR",
    "outputId": "531cdb5b-68ae-40d2-b20d-ee35727ca8a2"
   },
   "outputs": [
    {
     "name": "stdout",
     "output_type": "stream",
     "text": [
      "7\n",
      "['money', 'fuck', 'check', 'party', 'talkin_bout', 'playin', 'grab']\n"
     ]
    }
   ],
   "source": [
    "i17=0\n",
    "ob_sa=[]\n",
    "for el in obscene:\n",
    "  if el in sadness:\n",
    "    i17+=1\n",
    "    ob_sa.append(el)\n",
    "print(i17)\n",
    "print(ob_sa)"
   ]
  },
  {
   "cell_type": "code",
   "execution_count": null,
   "metadata": {
    "colab": {
     "base_uri": "https://localhost:8080/"
    },
    "executionInfo": {
     "elapsed": 385,
     "status": "ok",
     "timestamp": 1653310821387,
     "user": {
      "displayName": "Giorgia Gossi",
      "userId": "12769328602676688820"
     },
     "user_tz": -120
    },
    "id": "1nFsoSAcurEQ",
    "outputId": "4dcc6e58-712c-4be5-bc8c-c3036cefa55e"
   },
   "outputs": [
    {
     "name": "stdout",
     "output_type": "stream",
     "text": [
      "3\n",
      "['nothin', 'style', 'play']\n"
     ]
    }
   ],
   "source": [
    "i18=0\n",
    "ob_vi=[]\n",
    "for el in obscene:\n",
    "  if el in violence:\n",
    "    i18+=1\n",
    "    ob_vi.append(el)\n",
    "print(i18)\n",
    "print(ob_vi)"
   ]
  },
  {
   "cell_type": "markdown",
   "metadata": {
    "id": "cidsAl49u0zk"
   },
   "source": [
    "romantic"
   ]
  },
  {
   "cell_type": "code",
   "execution_count": null,
   "metadata": {
    "colab": {
     "base_uri": "https://localhost:8080/"
    },
    "executionInfo": {
     "elapsed": 262,
     "status": "ok",
     "timestamp": 1653310823750,
     "user": {
      "displayName": "Giorgia Gossi",
      "userId": "12769328602676688820"
     },
     "user_tz": -120
    },
    "id": "mK9IO41zuzDN",
    "outputId": "1d67441f-6de6-4e8f-cdc8-5683b2335d27"
   },
   "outputs": [
    {
     "name": "stdout",
     "output_type": "stream",
     "text": [
      "10\n",
      "['woman', 'break', 'heart_break', 'hurt', 'heart', 'keep', 'hide', 'dead', 'fall', 'throw_away']\n"
     ]
    }
   ],
   "source": [
    "i19=0\n",
    "ro_sa=[]\n",
    "for el in romantic:\n",
    "  if el in sadness:\n",
    "    i19+=1\n",
    "    ro_sa.append(el)\n",
    "print(i19)\n",
    "print(ro_sa)"
   ]
  },
  {
   "cell_type": "code",
   "execution_count": null,
   "metadata": {
    "colab": {
     "base_uri": "https://localhost:8080/"
    },
    "executionInfo": {
     "elapsed": 372,
     "status": "ok",
     "timestamp": 1653310825547,
     "user": {
      "displayName": "Giorgia Gossi",
      "userId": "12769328602676688820"
     },
     "user_tz": -120
    },
    "id": "C9cz9M_Zu_bL",
    "outputId": "83e2ddc7-fa54-42e8-e5e1-f5933fa401ed"
   },
   "outputs": [
    {
     "name": "stdout",
     "output_type": "stream",
     "text": [
      "8\n",
      "['fight', 'day', 'die', 'dead', 'black', 'white', 'darkness', 'sense']\n"
     ]
    }
   ],
   "source": [
    "i20=0\n",
    "ro_vi=[]\n",
    "for el in romantic:\n",
    "  if el in violence:\n",
    "    i20+=1\n",
    "    ro_vi.append(el)\n",
    "print(i20)\n",
    "print(ro_vi)"
   ]
  },
  {
   "cell_type": "markdown",
   "metadata": {
    "id": "4Yf6M6lOvIS4"
   },
   "source": [
    "sadness"
   ]
  },
  {
   "cell_type": "code",
   "execution_count": null,
   "metadata": {
    "colab": {
     "base_uri": "https://localhost:8080/"
    },
    "executionInfo": {
     "elapsed": 4,
     "status": "ok",
     "timestamp": 1653310828004,
     "user": {
      "displayName": "Giorgia Gossi",
      "userId": "12769328602676688820"
     },
     "user_tz": -120
    },
    "id": "cPVE3JNWvHiO",
    "outputId": "99e1a6f5-f6c9-48f3-eb8e-5b00199f40ec"
   },
   "outputs": [
    {
     "name": "stdout",
     "output_type": "stream",
     "text": [
      "8\n",
      "['memory', 'lonely', 'dead', 'hell', 'devil', 'follow', 'shoot', 'neck']\n"
     ]
    }
   ],
   "source": [
    "i21=0\n",
    "sa_vi=[]\n",
    "for el in sadness:\n",
    "  if el in violence:\n",
    "    i21+=1\n",
    "    sa_vi.append(el)\n",
    "print(i21)\n",
    "print(sa_vi)"
   ]
  },
  {
   "cell_type": "markdown",
   "metadata": {
    "id": "MHc9iOhk-qe5"
   },
   "source": [
    "Tabella"
   ]
  },
  {
   "cell_type": "code",
   "execution_count": null,
   "metadata": {
    "colab": {
     "base_uri": "https://localhost:8080/"
    },
    "executionInfo": {
     "elapsed": 258,
     "status": "ok",
     "timestamp": 1653310830416,
     "user": {
      "displayName": "Giorgia Gossi",
      "userId": "12769328602676688820"
     },
     "user_tz": -120
    },
    "id": "VG9q-JgyvTTk",
    "outputId": "4cd166ff-5014-403e-c1ec-e73a0a9137b8"
   },
   "outputs": [
    {
     "name": "stdout",
     "output_type": "stream",
     "text": [
      "╒════════════╤════════╤═════════╤══════════════╤═══════════╤════════════╤═══════════╤════════════╕\n",
      "│            │   life │   music │   night_time │   obscene │   romantic │   sadness │   violence │\n",
      "╞════════════╪════════╪═════════╪══════════════╪═══════════╪════════════╪═══════════╪════════════╡\n",
      "│ life       │     85 │      10 │           11 │         6 │         12 │         3 │          9 │\n",
      "├────────────┼────────┼─────────┼──────────────┼───────────┼────────────┼───────────┼────────────┤\n",
      "│ music      │     10 │      85 │           10 │        13 │          5 │        10 │          9 │\n",
      "├────────────┼────────┼─────────┼──────────────┼───────────┼────────────┼───────────┼────────────┤\n",
      "│ night_time │     11 │      10 │           85 │         7 │          2 │        14 │         10 │\n",
      "├────────────┼────────┼─────────┼──────────────┼───────────┼────────────┼───────────┼────────────┤\n",
      "│ obscene    │      6 │      13 │            7 │        85 │          6 │         7 │          3 │\n",
      "├────────────┼────────┼─────────┼──────────────┼───────────┼────────────┼───────────┼────────────┤\n",
      "│ romantic   │     12 │       5 │            2 │         6 │         85 │        10 │          8 │\n",
      "├────────────┼────────┼─────────┼──────────────┼───────────┼────────────┼───────────┼────────────┤\n",
      "│ sadness    │      3 │      10 │           14 │         7 │         10 │        85 │          8 │\n",
      "├────────────┼────────┼─────────┼──────────────┼───────────┼────────────┼───────────┼────────────┤\n",
      "│ violence   │      9 │       9 │           10 │         3 │          8 │         8 │         85 │\n",
      "╘════════════╧════════╧═════════╧══════════════╧═══════════╧════════════╧═══════════╧════════════╛\n"
     ]
    }
   ],
   "source": [
    "from tabulate import tabulate\n",
    "data=[['life',85,i,i2,i3,i4,i5,i6],\n",
    "      ['music',i,85,i7,i8,i9,i10,i11],\n",
    "      ['night_time',i2,i7,85,i12,i13,i14,i15],\n",
    "      ['obscene',i3,i8,i12,85,i16,i17,i18],\n",
    "      ['romantic',i4,i9,i13,i16,85,i19,i20],\n",
    "      ['sadness',i5,i10,i14,i17,i19,85,i21],\n",
    "      ['violence',i6,i11,i15,i18,i20,i21,85]]\n",
    "col_names=[' ',\"life\",\"music\",\"night_time\",\"obscene\",\"romantic\",\"sadness\",\"violence\"]\n",
    "print(tabulate(data, headers=col_names, tablefmt=\"fancy_grid\",))\n",
    "#osserviamo un maggior numero di parole in comune tra sadness e night/time il minor numero di parole in comune tra night/time e romantic"
   ]
  },
  {
   "cell_type": "markdown",
   "metadata": {
    "id": "Prf85dEPmq-2"
   },
   "source": [
    "##Indice di associazione $X^2$ e analisi delle corrispondenze"
   ]
  },
  {
   "cell_type": "code",
   "execution_count": null,
   "metadata": {
    "colab": {
     "base_uri": "https://localhost:8080/"
    },
    "executionInfo": {
     "elapsed": 259,
     "status": "ok",
     "timestamp": 1653310906882,
     "user": {
      "displayName": "Giorgia Gossi",
      "userId": "12769328602676688820"
     },
     "user_tz": -120
    },
    "id": "oX5t5TSbqJfq",
    "outputId": "96aa8317-8d04-4827-b0db-2d6ec12b2dd2"
   },
   "outputs": [
    {
     "data": {
      "text/plain": [
       "Index(['Unnamed: 0', 'artist_name', 'track_name', 'release_date', 'genre',\n",
       "       'lyrics', 'len', 'dating', 'violence', 'world/life', 'night/time',\n",
       "       'shake the audience', 'family/gospel', 'romantic', 'communication',\n",
       "       'obscene', 'music', 'movement/places', 'light/visual perceptions',\n",
       "       'family/spiritual', 'like/girls', 'sadness', 'feelings', 'danceability',\n",
       "       'loudness', 'acousticness', 'instrumentalness', 'valence', 'energy',\n",
       "       'topic', 'age', 'new_topic'],\n",
       "      dtype='object')"
      ]
     },
     "execution_count": 28,
     "metadata": {},
     "output_type": "execute_result"
    }
   ],
   "source": [
    "df.columns"
   ]
  },
  {
   "cell_type": "markdown",
   "metadata": {
    "id": "TSfxFOddCEA5"
   },
   "source": [
    "Danceability"
   ]
  },
  {
   "cell_type": "code",
   "execution_count": null,
   "metadata": {
    "colab": {
     "base_uri": "https://localhost:8080/"
    },
    "executionInfo": {
     "elapsed": 221,
     "status": "ok",
     "timestamp": 1653310941064,
     "user": {
      "displayName": "Giorgia Gossi",
      "userId": "12769328602676688820"
     },
     "user_tz": -120
    },
    "id": "BwmUiyVkvl_d",
    "outputId": "8d8f2233-4d5e-44a5-89ef-f6c0b7e3af71"
   },
   "outputs": [
    {
     "data": {
      "text/plain": [
       "(-1.0, 0.25]     1665\n",
       "(0.25, 0.5]     10118\n",
       "(0.5, 0.75]     13490\n",
       "(0.75, 1.0]      3099\n",
       "Name: danceability_bin, dtype: int64"
      ]
     },
     "execution_count": 30,
     "metadata": {},
     "output_type": "execute_result"
    }
   ],
   "source": [
    "df['danceability_bin'] = pd.cut(df['danceability'],\n",
    "                         [-1, 0.25, 0.50, 0.75, 1])\n",
    "\n",
    "df['danceability_bin'].value_counts().sort_index()"
   ]
  },
  {
   "cell_type": "code",
   "execution_count": null,
   "metadata": {
    "colab": {
     "base_uri": "https://localhost:8080/"
    },
    "executionInfo": {
     "elapsed": 285,
     "status": "ok",
     "timestamp": 1653311090921,
     "user": {
      "displayName": "Giorgia Gossi",
      "userId": "12769328602676688820"
     },
     "user_tz": -120
    },
    "id": "vRA-B80bfLsA",
    "outputId": "b81ea058-a68e-4768-ff3d-2b5042dff48c"
   },
   "outputs": [
    {
     "name": "stdout",
     "output_type": "stream",
     "text": [
      "danceability_bin  (-1.0, 0.25]  (0.25, 0.5]  (0.5, 0.75]  (0.75, 1.0]\n",
      "new_topic                                                            \n",
      "life                       386         2311         2832          503\n",
      "music                      140          859         1120          184\n",
      "night/time                  92          595          982          156\n",
      "obscene                     87          974         2517         1304\n",
      "romantic                   120          597          708           99\n",
      "sadness                    353         2391         3001          351\n",
      "violence                   487         2391         2330          502\n",
      "Chi quadro danceability: 0.2260816427636871\n"
     ]
    }
   ],
   "source": [
    "dff2=pd.crosstab(index=df['new_topic'], columns=df['danceability_bin'])\n",
    "print(dff2)\n",
    "from scipy.stats import chi2_contingency\n",
    "stat, p, dof, expected = chi2_contingency(dff2)\n",
    "print('Chi quadro danceability: '+str(stat/len(df)*3))"
   ]
  },
  {
   "cell_type": "markdown",
   "metadata": {
    "id": "OELypceRCIoA"
   },
   "source": [
    "Loudness"
   ]
  },
  {
   "cell_type": "code",
   "execution_count": null,
   "metadata": {
    "colab": {
     "base_uri": "https://localhost:8080/"
    },
    "executionInfo": {
     "elapsed": 283,
     "status": "ok",
     "timestamp": 1653311097664,
     "user": {
      "displayName": "Giorgia Gossi",
      "userId": "12769328602676688820"
     },
     "user_tz": -120
    },
    "id": "Me7WCW3YBPGk",
    "outputId": "50e00848-037b-4588-aed9-1edb0a98453e"
   },
   "outputs": [
    {
     "data": {
      "text/plain": [
       "(-1.0, 0.25]       47\n",
       "(0.25, 0.5]      2101\n",
       "(0.5, 0.75]     19227\n",
       "(0.75, 1.0]      6997\n",
       "Name: loudness_bin, dtype: int64"
      ]
     },
     "execution_count": 34,
     "metadata": {},
     "output_type": "execute_result"
    }
   ],
   "source": [
    "df['loudness_bin'] = pd.cut(df['loudness'],\n",
    "                         [-1, 0.25, 0.50, 0.75, 1])\n",
    "df['loudness_bin'].value_counts().sort_index()"
   ]
  },
  {
   "cell_type": "code",
   "execution_count": null,
   "metadata": {
    "colab": {
     "base_uri": "https://localhost:8080/"
    },
    "executionInfo": {
     "elapsed": 356,
     "status": "ok",
     "timestamp": 1653311238505,
     "user": {
      "displayName": "Giorgia Gossi",
      "userId": "12769328602676688820"
     },
     "user_tz": -120
    },
    "id": "CmND6Z1gBakI",
    "outputId": "7dcabfc0-d201-48dc-8c2e-a2e7a17db9d0"
   },
   "outputs": [
    {
     "name": "stdout",
     "output_type": "stream",
     "text": [
      "loudness_bin  (-1.0, 0.25]  (0.25, 0.5]  (0.5, 0.75]  (0.75, 1.0]\n",
      "new_topic                                                        \n",
      "life                     6          494         4301         1231\n",
      "music                    6          253         1768          276\n",
      "night/time               3          140         1248          434\n",
      "obscene                 14          197         2998         1673\n",
      "romantic                 5          192         1159          168\n",
      "sadness                  8          524         4228         1336\n",
      "violence                 5          301         3525         1879\n",
      "Chi quadro loudness: 0.10777018410175673\n"
     ]
    }
   ],
   "source": [
    "dff3=pd.crosstab(index=df['new_topic'], columns=df['loudness_bin'])\n",
    "print(dff3)\n",
    "stat, p, dof, expected = chi2_contingency(dff3)\n",
    "print('Chi quadro loudness: '+str(stat/len(df)*3))"
   ]
  },
  {
   "cell_type": "markdown",
   "metadata": {
    "id": "G4P2T1McCKvm"
   },
   "source": [
    "Acousticness"
   ]
  },
  {
   "cell_type": "code",
   "execution_count": null,
   "metadata": {
    "colab": {
     "base_uri": "https://localhost:8080/"
    },
    "executionInfo": {
     "elapsed": 256,
     "status": "ok",
     "timestamp": 1653311283290,
     "user": {
      "displayName": "Giorgia Gossi",
      "userId": "12769328602676688820"
     },
     "user_tz": -120
    },
    "id": "GnqNvdWSB_tk",
    "outputId": "67e5fb9f-e70e-431e-c3f9-f22220925262"
   },
   "outputs": [
    {
     "data": {
      "text/plain": [
       "(-1.0, 0.25]    14780\n",
       "(0.25, 0.5]      4429\n",
       "(0.5, 0.75]      4146\n",
       "(0.75, 1.0]      5017\n",
       "Name: acousticness_bin, dtype: int64"
      ]
     },
     "execution_count": 36,
     "metadata": {},
     "output_type": "execute_result"
    }
   ],
   "source": [
    "df['acousticness_bin'] = pd.cut(df['acousticness'],\n",
    "                         [-1, 0.25, 0.50, 0.75, 1])\n",
    "df['acousticness_bin'].value_counts().sort_index()"
   ]
  },
  {
   "cell_type": "code",
   "execution_count": null,
   "metadata": {
    "colab": {
     "base_uri": "https://localhost:8080/"
    },
    "executionInfo": {
     "elapsed": 271,
     "status": "ok",
     "timestamp": 1653311388458,
     "user": {
      "displayName": "Giorgia Gossi",
      "userId": "12769328602676688820"
     },
     "user_tz": -120
    },
    "id": "avb_E5QcCS2Z",
    "outputId": "244f6b41-9446-4c22-f1f9-1d0092a32358"
   },
   "outputs": [
    {
     "name": "stdout",
     "output_type": "stream",
     "text": [
      "acousticness_bin  (-1.0, 0.25]  (0.25, 0.5]  (0.5, 0.75]  (0.75, 1.0]\n",
      "new_topic                                                            \n",
      "life                      2946          981          940         1165\n",
      "music                      766          381          469          687\n",
      "night/time                 935          317          289          284\n",
      "obscene                   3222          762          498          400\n",
      "romantic                   409          212          333          570\n",
      "sadness                   2752         1038         1050         1256\n",
      "violence                  3750          738          567          655\n",
      "Chi quadro acousticness: 0.21937621015073594\n"
     ]
    }
   ],
   "source": [
    "dff4=pd.crosstab(index=df['new_topic'], columns=df['acousticness_bin'])\n",
    "print(dff4)\n",
    "stat, p, dof, expected = chi2_contingency(dff4)\n",
    "print('Chi quadro acousticness: '+str(stat/len(df)*3))"
   ]
  },
  {
   "cell_type": "markdown",
   "metadata": {
    "id": "7NMnbQ_wCiSD"
   },
   "source": [
    "Instrumentalness"
   ]
  },
  {
   "cell_type": "code",
   "execution_count": null,
   "metadata": {
    "colab": {
     "base_uri": "https://localhost:8080/"
    },
    "executionInfo": {
     "elapsed": 264,
     "status": "ok",
     "timestamp": 1653311437509,
     "user": {
      "displayName": "Giorgia Gossi",
      "userId": "12769328602676688820"
     },
     "user_tz": -120
    },
    "id": "0Cj9S4C_ClGO",
    "outputId": "d9242d6c-036e-4ba3-df61-2f81348c6dea"
   },
   "outputs": [
    {
     "data": {
      "text/plain": [
       "(-1.0, 0.25]    25297\n",
       "(0.25, 0.5]       977\n",
       "(0.5, 0.75]       867\n",
       "(0.75, 1.0]      1231\n",
       "Name: instrumentalness_bin, dtype: int64"
      ]
     },
     "execution_count": 39,
     "metadata": {},
     "output_type": "execute_result"
    }
   ],
   "source": [
    "df['instrumentalness_bin'] = pd.cut(df['instrumentalness'],\n",
    "                         [-1, 0.25, 0.50, 0.75, 1])\n",
    "df['instrumentalness_bin'].value_counts().sort_index()"
   ]
  },
  {
   "cell_type": "code",
   "execution_count": null,
   "metadata": {
    "colab": {
     "base_uri": "https://localhost:8080/"
    },
    "executionInfo": {
     "elapsed": 286,
     "status": "ok",
     "timestamp": 1653311496398,
     "user": {
      "displayName": "Giorgia Gossi",
      "userId": "12769328602676688820"
     },
     "user_tz": -120
    },
    "id": "u-9aJCcMCoWt",
    "outputId": "f75e444b-475a-4f2f-ad70-d2a2e6fa64ed"
   },
   "outputs": [
    {
     "name": "stdout",
     "output_type": "stream",
     "text": [
      "instrumentalness_bin  (-1.0, 0.25]  (0.25, 0.5]  (0.5, 0.75]  (0.75, 1.0]\n",
      "new_topic                                                                \n",
      "life                          5454          193          169          216\n",
      "music                         2054           75           72          102\n",
      "night/time                    1617           72           60           76\n",
      "obscene                       4399          113          114          256\n",
      "romantic                      1390           39           33           62\n",
      "sadness                       5607          163          150          176\n",
      "violence                      4776          322          269          343\n",
      "Chi quadro instrumentalness: 0.03149316071558962\n"
     ]
    }
   ],
   "source": [
    "dff5=pd.crosstab(index=df['new_topic'], columns=df['instrumentalness_bin'])\n",
    "print(dff5)\n",
    "stat, p, dof, expected = chi2_contingency(dff5)\n",
    "print('Chi quadro instrumentalness: '+str(stat/len(df)*3))"
   ]
  },
  {
   "cell_type": "markdown",
   "metadata": {
    "id": "6mL2TdIMC-CM"
   },
   "source": [
    "Valence"
   ]
  },
  {
   "cell_type": "code",
   "execution_count": null,
   "metadata": {
    "colab": {
     "base_uri": "https://localhost:8080/"
    },
    "executionInfo": {
     "elapsed": 9,
     "status": "ok",
     "timestamp": 1653311545971,
     "user": {
      "displayName": "Giorgia Gossi",
      "userId": "12769328602676688820"
     },
     "user_tz": -120
    },
    "id": "eEFIdXw4C_If",
    "outputId": "1e25a2d1-0829-4349-ca12-a2a7a921eba3"
   },
   "outputs": [
    {
     "data": {
      "text/plain": [
       "(-1.0, 0.25]    4637\n",
       "(0.25, 0.5]     8138\n",
       "(0.5, 0.75]     8894\n",
       "(0.75, 1.0]     6703\n",
       "Name: valence_bin, dtype: int64"
      ]
     },
     "execution_count": 41,
     "metadata": {},
     "output_type": "execute_result"
    }
   ],
   "source": [
    "df['valence_bin'] = pd.cut(df['valence'],\n",
    "                         [-1, 0.25, 0.50, 0.75, 1])\n",
    "df['valence_bin'].value_counts().sort_index()"
   ]
  },
  {
   "cell_type": "code",
   "execution_count": null,
   "metadata": {
    "colab": {
     "base_uri": "https://localhost:8080/"
    },
    "executionInfo": {
     "elapsed": 249,
     "status": "ok",
     "timestamp": 1653311594431,
     "user": {
      "displayName": "Giorgia Gossi",
      "userId": "12769328602676688820"
     },
     "user_tz": -120
    },
    "id": "c357fnOmDC0w",
    "outputId": "b95df185-c919-431f-9eca-bc37923b4cd5"
   },
   "outputs": [
    {
     "name": "stdout",
     "output_type": "stream",
     "text": [
      "valence_bin  (-1.0, 0.25]  (0.25, 0.5]  (0.5, 0.75]  (0.75, 1.0]\n",
      "new_topic                                                       \n",
      "life                 1069         1913         1766         1284\n",
      "music                 346          658          696          603\n",
      "night/time            243          478          607          497\n",
      "obscene               390         1072         1804         1616\n",
      "romantic              297          397          471          359\n",
      "sadness              1144         1900         1832         1220\n",
      "violence             1148         1720         1718         1124\n",
      "Chi quadro valence: 0.08285476954140855\n"
     ]
    }
   ],
   "source": [
    "dff6=pd.crosstab(index=df['new_topic'], columns=df['valence_bin'])\n",
    "print(dff6)\n",
    "stat, p, dof, expected = chi2_contingency(dff6)\n",
    "print('Chi quadro valence: '+str(stat/len(df)*3))"
   ]
  },
  {
   "cell_type": "markdown",
   "metadata": {
    "id": "_620Par9DO4O"
   },
   "source": [
    "Energy"
   ]
  },
  {
   "cell_type": "code",
   "execution_count": null,
   "metadata": {
    "colab": {
     "base_uri": "https://localhost:8080/"
    },
    "executionInfo": {
     "elapsed": 308,
     "status": "ok",
     "timestamp": 1653311633884,
     "user": {
      "displayName": "Giorgia Gossi",
      "userId": "12769328602676688820"
     },
     "user_tz": -120
    },
    "id": "-9U_-JsLDQPx",
    "outputId": "46c0b27c-f131-45de-c2ef-0c6479bb3432"
   },
   "outputs": [
    {
     "data": {
      "text/plain": [
       "(-1.0, 0.25]    3371\n",
       "(0.25, 0.5]     7875\n",
       "(0.5, 0.75]     9284\n",
       "(0.75, 1.0]     7842\n",
       "Name: energy_bin, dtype: int64"
      ]
     },
     "execution_count": 43,
     "metadata": {},
     "output_type": "execute_result"
    }
   ],
   "source": [
    "df['energy_bin'] = pd.cut(df['energy'],\n",
    "                         [-1, 0.25, 0.50, 0.75, 1])\n",
    "df['energy_bin'].value_counts().sort_index()"
   ]
  },
  {
   "cell_type": "code",
   "execution_count": null,
   "metadata": {
    "colab": {
     "base_uri": "https://localhost:8080/"
    },
    "executionInfo": {
     "elapsed": 239,
     "status": "ok",
     "timestamp": 1653311667730,
     "user": {
      "displayName": "Giorgia Gossi",
      "userId": "12769328602676688820"
     },
     "user_tz": -120
    },
    "id": "uX4wy7lFDZ71",
    "outputId": "19a07db7-fb4e-4ef6-c88f-972eec3c701d"
   },
   "outputs": [
    {
     "name": "stdout",
     "output_type": "stream",
     "text": [
      "energy_bin  (-1.0, 0.25]  (0.25, 0.5]  (0.5, 0.75]  (0.75, 1.0]\n",
      "new_topic                                                      \n",
      "life                 813         1895         1942         1382\n",
      "music                455          799          662          387\n",
      "night/time           202          481          618          524\n",
      "obscene              203          945         2049         1685\n",
      "romantic             375          599          364          186\n",
      "sadness              889         1994         1869         1344\n",
      "violence             434         1162         1780         2334\n",
      "Chi quadro energy: 0.22505729364247612\n"
     ]
    }
   ],
   "source": [
    "dff7=pd.crosstab(index=df['new_topic'], columns=df['energy_bin'])\n",
    "print(dff7)\n",
    "stat, p, dof, expected = chi2_contingency(dff7)\n",
    "print('Chi quadro energy: '+str(stat/len(df)*3))"
   ]
  },
  {
   "cell_type": "markdown",
   "metadata": {
    "id": "y9gPeGyjDg3K"
   },
   "source": [
    "**Analisi delle corrispondenze**"
   ]
  },
  {
   "cell_type": "code",
   "execution_count": null,
   "metadata": {
    "colab": {
     "base_uri": "https://localhost:8080/"
    },
    "executionInfo": {
     "elapsed": 4388,
     "status": "ok",
     "timestamp": 1653481910937,
     "user": {
      "displayName": "Giorgia Gossi",
      "userId": "12769328602676688820"
     },
     "user_tz": -120
    },
    "id": "tYdbeBf_rJ0v",
    "outputId": "edd8d398-9093-4ae5-8163-ba31b4d53279"
   },
   "outputs": [
    {
     "name": "stdout",
     "output_type": "stream",
     "text": [
      "Looking in indexes: https://pypi.org/simple, https://us-python.pkg.dev/colab-wheels/public/simple/\n",
      "Collecting prince\n",
      "  Downloading prince-0.7.1-py3-none-any.whl (21 kB)\n",
      "Requirement already satisfied: matplotlib>=3.0.2 in /usr/local/lib/python3.7/dist-packages (from prince) (3.2.2)\n",
      "Requirement already satisfied: scikit-learn>=0.22.1 in /usr/local/lib/python3.7/dist-packages (from prince) (1.0.2)\n",
      "Requirement already satisfied: pandas>=1.0.3 in /usr/local/lib/python3.7/dist-packages (from prince) (1.3.5)\n",
      "Requirement already satisfied: scipy>=1.3.0 in /usr/local/lib/python3.7/dist-packages (from prince) (1.4.1)\n",
      "Requirement already satisfied: numpy>=1.17.1 in /usr/local/lib/python3.7/dist-packages (from prince) (1.21.6)\n",
      "Requirement already satisfied: python-dateutil>=2.1 in /usr/local/lib/python3.7/dist-packages (from matplotlib>=3.0.2->prince) (2.8.2)\n",
      "Requirement already satisfied: cycler>=0.10 in /usr/local/lib/python3.7/dist-packages (from matplotlib>=3.0.2->prince) (0.11.0)\n",
      "Requirement already satisfied: kiwisolver>=1.0.1 in /usr/local/lib/python3.7/dist-packages (from matplotlib>=3.0.2->prince) (1.4.2)\n",
      "Requirement already satisfied: pyparsing!=2.0.4,!=2.1.2,!=2.1.6,>=2.0.1 in /usr/local/lib/python3.7/dist-packages (from matplotlib>=3.0.2->prince) (3.0.9)\n",
      "Requirement already satisfied: typing-extensions in /usr/local/lib/python3.7/dist-packages (from kiwisolver>=1.0.1->matplotlib>=3.0.2->prince) (4.2.0)\n",
      "Requirement already satisfied: pytz>=2017.3 in /usr/local/lib/python3.7/dist-packages (from pandas>=1.0.3->prince) (2022.1)\n",
      "Requirement already satisfied: six>=1.5 in /usr/local/lib/python3.7/dist-packages (from python-dateutil>=2.1->matplotlib>=3.0.2->prince) (1.15.0)\n",
      "Requirement already satisfied: threadpoolctl>=2.0.0 in /usr/local/lib/python3.7/dist-packages (from scikit-learn>=0.22.1->prince) (3.1.0)\n",
      "Requirement already satisfied: joblib>=0.11 in /usr/local/lib/python3.7/dist-packages (from scikit-learn>=0.22.1->prince) (1.1.0)\n",
      "Installing collected packages: prince\n",
      "Successfully installed prince-0.7.1\n"
     ]
    }
   ],
   "source": [
    "!pip install prince"
   ]
  },
  {
   "cell_type": "markdown",
   "metadata": {
    "id": "9vCeFTzyDyhG"
   },
   "source": [
    "Danceability"
   ]
  },
  {
   "cell_type": "code",
   "execution_count": null,
   "metadata": {
    "colab": {
     "base_uri": "https://localhost:8080/"
    },
    "executionInfo": {
     "elapsed": 233,
     "status": "ok",
     "timestamp": 1653312136834,
     "user": {
      "displayName": "Giorgia Gossi",
      "userId": "12769328602676688820"
     },
     "user_tz": -120
    },
    "id": "MLoCeuGtqlNW",
    "outputId": "3ec185b7-64e3-464b-ff8c-37149953d161"
   },
   "outputs": [
    {
     "data": {
      "text/plain": [
       "CA()"
      ]
     },
     "execution_count": 58,
     "metadata": {},
     "output_type": "execute_result"
    }
   ],
   "source": [
    "import prince \n",
    "ca = prince.CA(n_components=2)\n",
    "ca.fit(dff2)"
   ]
  },
  {
   "cell_type": "code",
   "execution_count": null,
   "metadata": {
    "colab": {
     "base_uri": "https://localhost:8080/",
     "height": 621
    },
    "executionInfo": {
     "elapsed": 1199,
     "status": "ok",
     "timestamp": 1653312139625,
     "user": {
      "displayName": "Giorgia Gossi",
      "userId": "12769328602676688820"
     },
     "user_tz": -120
    },
    "id": "kwDlW5dQrUCA",
    "outputId": "9fe4a907-8b1a-4496-9eaf-b14f193a880c"
   },
   "outputs": [
    {
     "data": {
      "image/png": "[encoded data removed]",
      "text/plain": [
       "<Figure size 720x720 with 1 Axes>"
      ]
     },
     "metadata": {
      "needs_background": "light"
     },
     "output_type": "display_data"
    }
   ],
   "source": [
    "ca.plot_coordinates(dff2,\n",
    "                     figsize=(10, 10),\n",
    "                     show_row_labels=True,\n",
    "                     show_col_labels=True\n",
    "                    );"
   ]
  },
  {
   "cell_type": "markdown",
   "metadata": {
    "id": "Ftwam1oUEDhB"
   },
   "source": [
    "Loudness"
   ]
  },
  {
   "cell_type": "code",
   "execution_count": null,
   "metadata": {
    "colab": {
     "base_uri": "https://localhost:8080/"
    },
    "executionInfo": {
     "elapsed": 263,
     "status": "ok",
     "timestamp": 1653312152004,
     "user": {
      "displayName": "Giorgia Gossi",
      "userId": "12769328602676688820"
     },
     "user_tz": -120
    },
    "id": "VWwyxaXpxUSP",
    "outputId": "cfa6b479-8a8c-4780-9609-39f47274d391"
   },
   "outputs": [
    {
     "data": {
      "text/plain": [
       "CA()"
      ]
     },
     "execution_count": 60,
     "metadata": {},
     "output_type": "execute_result"
    }
   ],
   "source": [
    "ca3= prince.CA()\n",
    "ca3.fit(dff3)"
   ]
  },
  {
   "cell_type": "code",
   "execution_count": null,
   "metadata": {
    "colab": {
     "base_uri": "https://localhost:8080/",
     "height": 621
    },
    "executionInfo": {
     "elapsed": 1052,
     "status": "ok",
     "timestamp": 1653312155391,
     "user": {
      "displayName": "Giorgia Gossi",
      "userId": "12769328602676688820"
     },
     "user_tz": -120
    },
    "id": "Xgmg39bDxetN",
    "outputId": "47f21ae4-0063-41a2-826d-e97b80ba75bb"
   },
   "outputs": [
    {
     "data": {
      "image/png": "[encoded data removed]",
      "text/plain": [
       "<Figure size 720x720 with 1 Axes>"
      ]
     },
     "metadata": {
      "needs_background": "light"
     },
     "output_type": "display_data"
    }
   ],
   "source": [
    "ca3.plot_coordinates(dff3,\n",
    "                     figsize=(10, 10),\n",
    "                     show_row_labels=True,\n",
    "                     show_col_labels=True\n",
    "                    );"
   ]
  },
  {
   "cell_type": "markdown",
   "metadata": {
    "id": "-EFGWZEdEgti"
   },
   "source": [
    "Acousticness"
   ]
  },
  {
   "cell_type": "code",
   "execution_count": null,
   "metadata": {
    "colab": {
     "base_uri": "https://localhost:8080/"
    },
    "executionInfo": {
     "elapsed": 241,
     "status": "ok",
     "timestamp": 1653312163357,
     "user": {
      "displayName": "Giorgia Gossi",
      "userId": "12769328602676688820"
     },
     "user_tz": -120
    },
    "id": "DYWZnDe5x2y0",
    "outputId": "502e2c7e-070b-4770-93bc-0d9e686c1f1a"
   },
   "outputs": [
    {
     "data": {
      "text/plain": [
       "CA()"
      ]
     },
     "execution_count": 62,
     "metadata": {},
     "output_type": "execute_result"
    }
   ],
   "source": [
    "ca4= prince.CA(n_components=2)\n",
    "ca4.fit(dff4)"
   ]
  },
  {
   "cell_type": "code",
   "execution_count": null,
   "metadata": {
    "colab": {
     "base_uri": "https://localhost:8080/",
     "height": 621
    },
    "executionInfo": {
     "elapsed": 847,
     "status": "ok",
     "timestamp": 1653312165863,
     "user": {
      "displayName": "Giorgia Gossi",
      "userId": "12769328602676688820"
     },
     "user_tz": -120
    },
    "id": "QFJmqAimx28R",
    "outputId": "7a03ad1d-4343-4fe6-8059-acc7a4152287"
   },
   "outputs": [
    {
     "data": {
      "image/png": "[encoded data removed]",
      "text/plain": [
       "<Figure size 720x720 with 1 Axes>"
      ]
     },
     "metadata": {
      "needs_background": "light"
     },
     "output_type": "display_data"
    }
   ],
   "source": [
    "ca4.plot_coordinates(dff4,\n",
    "                     figsize=(10, 10),\n",
    "                     show_row_labels=True,\n",
    "                     show_col_labels=True\n",
    "                    );"
   ]
  },
  {
   "cell_type": "markdown",
   "metadata": {
    "id": "GuCh7WM6E4Ng"
   },
   "source": [
    "Instrumentalness"
   ]
  },
  {
   "cell_type": "code",
   "execution_count": null,
   "metadata": {
    "colab": {
     "base_uri": "https://localhost:8080/"
    },
    "executionInfo": {
     "elapsed": 243,
     "status": "ok",
     "timestamp": 1653312172977,
     "user": {
      "displayName": "Giorgia Gossi",
      "userId": "12769328602676688820"
     },
     "user_tz": -120
    },
    "id": "WIgkDZ-Gydb5",
    "outputId": "b8a4781b-6667-4c33-c3ef-4c80334d79b1"
   },
   "outputs": [
    {
     "data": {
      "text/plain": [
       "CA()"
      ]
     },
     "execution_count": 64,
     "metadata": {},
     "output_type": "execute_result"
    }
   ],
   "source": [
    "ca5= prince.CA(n_components=2)\n",
    "ca5.fit(dff5)"
   ]
  },
  {
   "cell_type": "code",
   "execution_count": null,
   "metadata": {
    "colab": {
     "base_uri": "https://localhost:8080/",
     "height": 621
    },
    "executionInfo": {
     "elapsed": 1160,
     "status": "ok",
     "timestamp": 1653312083174,
     "user": {
      "displayName": "Giorgia Gossi",
      "userId": "12769328602676688820"
     },
     "user_tz": -120
    },
    "id": "OBo3gLNmyfGi",
    "outputId": "8bb09c2c-f993-43e4-c38e-e66008f56bdc"
   },
   "outputs": [
    {
     "data": {
      "image/png": "[encoded data removed]",
      "text/plain": [
       "<Figure size 720x720 with 1 Axes>"
      ]
     },
     "metadata": {
      "needs_background": "light"
     },
     "output_type": "display_data"
    }
   ],
   "source": [
    "ca5.plot_coordinates(dff5,\n",
    "                     figsize=(10, 10),\n",
    "                     show_row_labels=True,\n",
    "                     show_col_labels=True\n",
    "                    );"
   ]
  },
  {
   "cell_type": "markdown",
   "metadata": {
    "id": "F42R5hP3FGV8"
   },
   "source": [
    "Valence"
   ]
  },
  {
   "cell_type": "code",
   "execution_count": null,
   "metadata": {
    "colab": {
     "base_uri": "https://localhost:8080/"
    },
    "executionInfo": {
     "elapsed": 252,
     "status": "ok",
     "timestamp": 1653312194102,
     "user": {
      "displayName": "Giorgia Gossi",
      "userId": "12769328602676688820"
     },
     "user_tz": -120
    },
    "id": "AmgULsZeyq_W",
    "outputId": "653cab09-4ca9-40a1-c529-9bc12b84fa0c"
   },
   "outputs": [
    {
     "data": {
      "text/plain": [
       "CA()"
      ]
     },
     "execution_count": 65,
     "metadata": {},
     "output_type": "execute_result"
    }
   ],
   "source": [
    "ca6= prince.CA(n_components=2)\n",
    "ca6.fit(dff6)"
   ]
  },
  {
   "cell_type": "code",
   "execution_count": null,
   "metadata": {
    "colab": {
     "base_uri": "https://localhost:8080/",
     "height": 621
    },
    "executionInfo": {
     "elapsed": 1123,
     "status": "ok",
     "timestamp": 1653312206608,
     "user": {
      "displayName": "Giorgia Gossi",
      "userId": "12769328602676688820"
     },
     "user_tz": -120
    },
    "id": "VwTBOjeTyxxv",
    "outputId": "95ad7bd6-23ac-4b1e-f00f-128fa8b4ac85"
   },
   "outputs": [
    {
     "data": {
      "image/png": "[encoded data removed]",
      "text/plain": [
       "<Figure size 720x720 with 1 Axes>"
      ]
     },
     "metadata": {
      "needs_background": "light"
     },
     "output_type": "display_data"
    }
   ],
   "source": [
    "ca6.plot_coordinates(dff6,\n",
    "                     figsize=(10, 10),\n",
    "                     show_row_labels=True,\n",
    "                     show_col_labels=True\n",
    "                    );"
   ]
  },
  {
   "cell_type": "markdown",
   "metadata": {
    "id": "e5LZHiqDFkp1"
   },
   "source": [
    "Energy"
   ]
  },
  {
   "cell_type": "code",
   "execution_count": null,
   "metadata": {
    "colab": {
     "base_uri": "https://localhost:8080/"
    },
    "executionInfo": {
     "elapsed": 250,
     "status": "ok",
     "timestamp": 1653312245723,
     "user": {
      "displayName": "Giorgia Gossi",
      "userId": "12769328602676688820"
     },
     "user_tz": -120
    },
    "id": "98TFhwOYzPBR",
    "outputId": "7785d27e-30d2-4a5d-e015-7988aee214ad"
   },
   "outputs": [
    {
     "data": {
      "text/plain": [
       "CA()"
      ]
     },
     "execution_count": 67,
     "metadata": {},
     "output_type": "execute_result"
    }
   ],
   "source": [
    "ca7= prince.CA(n_components=2)\n",
    "ca7.fit(dff7)"
   ]
  },
  {
   "cell_type": "code",
   "execution_count": null,
   "metadata": {
    "colab": {
     "base_uri": "https://localhost:8080/",
     "height": 621
    },
    "executionInfo": {
     "elapsed": 696,
     "status": "ok",
     "timestamp": 1653312264159,
     "user": {
      "displayName": "Giorgia Gossi",
      "userId": "12769328602676688820"
     },
     "user_tz": -120
    },
    "id": "3V0KbqI8zPTG",
    "outputId": "a53f2efd-ec47-4d8c-88f0-704da62cd491"
   },
   "outputs": [
    {
     "data": {
      "image/png": "[encoded data removed]",
      "text/plain": [
       "<Figure size 720x720 with 1 Axes>"
      ]
     },
     "metadata": {
      "needs_background": "light"
     },
     "output_type": "display_data"
    }
   ],
   "source": [
    "ca7.plot_coordinates(dff7,\n",
    "                     figsize=(10, 10),\n",
    "                     show_row_labels=True,\n",
    "                     show_col_labels=True\n",
    "                    );"
   ]
  },
  {
   "cell_type": "markdown",
   "metadata": {
    "id": "i7ARiMu68-yT"
   },
   "source": [
    "## Grafici test"
   ]
  },
  {
   "cell_type": "code",
   "execution_count": null,
   "metadata": {
    "colab": {
     "base_uri": "https://localhost:8080/"
    },
    "executionInfo": {
     "elapsed": 1296,
     "status": "ok",
     "timestamp": 1653312317756,
     "user": {
      "displayName": "Giorgia Gossi",
      "userId": "12769328602676688820"
     },
     "user_tz": -120
    },
    "id": "CLmtQhyV8_q-",
    "outputId": "bd81ed8a-d277-4de7-b362-09aade02ab99"
   },
   "outputs": [
    {
     "name": "stdout",
     "output_type": "stream",
     "text": [
      "[[0.15502592 0.03       0.01       ... 0.01       0.38497408 0.38      ]\n",
      " [0.18       0.06       0.         ... 0.         0.17       0.44      ]\n",
      " [0.05       0.03       0.01       ... 0.1        0.19       0.12      ]\n",
      " ...\n",
      " [0.06       0.02       0.04       ... 0.         0.06       0.53      ]\n",
      " [0.1        0.05       0.16       ... 0.01       0.15       0.46      ]\n",
      " [0.12       0.04       0.05       ... 0.21       0.41       0.07      ]]\n"
     ]
    }
   ],
   "source": [
    "pred_prob=best_model.predict_proba(x_test)\n",
    "print(pred_prob)"
   ]
  },
  {
   "cell_type": "markdown",
   "metadata": {
    "id": "BN6r_UfHGMKB"
   },
   "source": [
    "Associamo alle canzoni del test la loro posizione nel dataset intero"
   ]
  },
  {
   "cell_type": "code",
   "execution_count": null,
   "metadata": {
    "colab": {
     "base_uri": "https://localhost:8080/"
    },
    "executionInfo": {
     "elapsed": 379882,
     "status": "ok",
     "timestamp": 1653312779144,
     "user": {
      "displayName": "Giorgia Gossi",
      "userId": "12769328602676688820"
     },
     "user_tz": -120
    },
    "id": "p876K4wxPzO4",
    "outputId": "6c0c2f09-e0df-4e09-87ed-41ea4c8302c6"
   },
   "outputs": [
    {
     "data": {
      "text/plain": [
       "11825"
      ]
     },
     "execution_count": 70,
     "metadata": {},
     "output_type": "execute_result"
    }
   ],
   "source": [
    "x1=x.tolist()\n",
    "x_test1=x_test.tolist()\n",
    "y1=y.tolist()\n",
    "y_test1=y_test.tolist()\n",
    "ind=[]\n",
    "for i in range(len(x_test1)):\n",
    "  for a in range(len(x1)):\n",
    "    if x_test1[i]==x1[a] and y_test1[i]==y1[a]:\n",
    "      ind.append([i,a])\n",
    "len(ind)\n"
   ]
  },
  {
   "cell_type": "markdown",
   "metadata": {
    "id": "l-ertVytGZ-_"
   },
   "source": [
    "Tolgo le canzoni del test che avevano associata più di una canzone"
   ]
  },
  {
   "cell_type": "code",
   "execution_count": null,
   "metadata": {
    "id": "Gw4w4vYHMwK5"
   },
   "outputs": [],
   "source": [
    "ind1=pd.DataFrame(ind, columns=[\"test\", \"totale\"])\n",
    "ind2=ind1.drop_duplicates(subset='test', keep=False, ignore_index=True)"
   ]
  },
  {
   "cell_type": "code",
   "execution_count": null,
   "metadata": {
    "colab": {
     "base_uri": "https://localhost:8080/",
     "height": 424
    },
    "executionInfo": {
     "elapsed": 27,
     "status": "ok",
     "timestamp": 1653312779153,
     "user": {
      "displayName": "Giorgia Gossi",
      "userId": "12769328602676688820"
     },
     "user_tz": -120
    },
    "id": "lvTsoDR4S2_V",
    "outputId": "1516ffe2-9a00-4aeb-b294-a5f64f73caa2"
   },
   "outputs": [
    {
     "data": {
      "text/html": [
       "\n",
       "  <div id=\"df-24b6a273-c4e5-412e-9e51-91f6b36a019f\">\n",
       "    <div class=\"colab-df-container\">\n",
       "      <div>\n",
       "<style scoped>\n",
       "    .dataframe tbody tr th:only-of-type {\n",
       "        vertical-align: middle;\n",
       "    }\n",
       "\n",
       "    .dataframe tbody tr th {\n",
       "        vertical-align: top;\n",
       "    }\n",
       "\n",
       "    .dataframe thead th {\n",
       "        text-align: right;\n",
       "    }\n",
       "</style>\n",
       "<table border=\"1\" class=\"dataframe\">\n",
       "  <thead>\n",
       "    <tr style=\"text-align: right;\">\n",
       "      <th></th>\n",
       "      <th>test</th>\n",
       "      <th>totale</th>\n",
       "    </tr>\n",
       "  </thead>\n",
       "  <tbody>\n",
       "    <tr>\n",
       "      <th>0</th>\n",
       "      <td>0</td>\n",
       "      <td>26025</td>\n",
       "    </tr>\n",
       "    <tr>\n",
       "      <th>1</th>\n",
       "      <td>1</td>\n",
       "      <td>6731</td>\n",
       "    </tr>\n",
       "    <tr>\n",
       "      <th>2</th>\n",
       "      <td>2</td>\n",
       "      <td>6785</td>\n",
       "    </tr>\n",
       "    <tr>\n",
       "      <th>3</th>\n",
       "      <td>3</td>\n",
       "      <td>25077</td>\n",
       "    </tr>\n",
       "    <tr>\n",
       "      <th>4</th>\n",
       "      <td>4</td>\n",
       "      <td>22141</td>\n",
       "    </tr>\n",
       "    <tr>\n",
       "      <th>...</th>\n",
       "      <td>...</td>\n",
       "      <td>...</td>\n",
       "    </tr>\n",
       "    <tr>\n",
       "      <th>8230</th>\n",
       "      <td>8506</td>\n",
       "      <td>27966</td>\n",
       "    </tr>\n",
       "    <tr>\n",
       "      <th>8231</th>\n",
       "      <td>8507</td>\n",
       "      <td>18957</td>\n",
       "    </tr>\n",
       "    <tr>\n",
       "      <th>8232</th>\n",
       "      <td>8508</td>\n",
       "      <td>15655</td>\n",
       "    </tr>\n",
       "    <tr>\n",
       "      <th>8233</th>\n",
       "      <td>8509</td>\n",
       "      <td>23409</td>\n",
       "    </tr>\n",
       "    <tr>\n",
       "      <th>8234</th>\n",
       "      <td>8510</td>\n",
       "      <td>3117</td>\n",
       "    </tr>\n",
       "  </tbody>\n",
       "</table>\n",
       "<p>8235 rows × 2 columns</p>\n",
       "</div>\n",
       "      <button class=\"colab-df-convert\" onclick=\"convertToInteractive('df-24b6a273-c4e5-412e-9e51-91f6b36a019f')\"\n",
       "              title=\"Convert this dataframe to an interactive table.\"\n",
       "              style=\"display:none;\">\n",
       "        \n",
       "  <svg xmlns=\"http://www.w3.org/2000/svg\" height=\"24px\"viewBox=\"0 0 24 24\"\n",
       "       width=\"24px\">\n",
       "    <path d=\"M0 0h24v24H0V0z\" fill=\"none\"/>\n",
       "    <path d=\"M18.56 5.44l.94 2.06.94-2.06 2.06-.94-2.06-.94-.94-2.06-.94 2.06-2.06.94zm-11 1L8.5 8.5l.94-2.06 2.06-.94-2.06-.94L8.5 2.5l-.94 2.06-2.06.94zm10 10l.94 2.06.94-2.06 2.06-.94-2.06-.94-.94-2.06-.94 2.06-2.06.94z\"/><path d=\"M17.41 7.96l-1.37-1.37c-.4-.4-.92-.59-1.43-.59-.52 0-1.04.2-1.43.59L10.3 9.45l-7.72 7.72c-.78.78-.78 2.05 0 2.83L4 21.41c.39.39.9.59 1.41.59.51 0 1.02-.2 1.41-.59l7.78-7.78 2.81-2.81c.8-.78.8-2.07 0-2.86zM5.41 20L4 18.59l7.72-7.72 1.47 1.35L5.41 20z\"/>\n",
       "  </svg>\n",
       "      </button>\n",
       "      \n",
       "  <style>\n",
       "    .colab-df-container {\n",
       "      display:flex;\n",
       "      flex-wrap:wrap;\n",
       "      gap: 12px;\n",
       "    }\n",
       "\n",
       "    .colab-df-convert {\n",
       "      background-color: #E8F0FE;\n",
       "      border: none;\n",
       "      border-radius: 50%;\n",
       "      cursor: pointer;\n",
       "      display: none;\n",
       "      fill: #1967D2;\n",
       "      height: 32px;\n",
       "      padding: 0 0 0 0;\n",
       "      width: 32px;\n",
       "    }\n",
       "\n",
       "    .colab-df-convert:hover {\n",
       "      background-color: #E2EBFA;\n",
       "      box-shadow: 0px 1px 2px rgba(60, 64, 67, 0.3), 0px 1px 3px 1px rgba(60, 64, 67, 0.15);\n",
       "      fill: #174EA6;\n",
       "    }\n",
       "\n",
       "    [theme=dark] .colab-df-convert {\n",
       "      background-color: #3B4455;\n",
       "      fill: #D2E3FC;\n",
       "    }\n",
       "\n",
       "    [theme=dark] .colab-df-convert:hover {\n",
       "      background-color: #434B5C;\n",
       "      box-shadow: 0px 1px 3px 1px rgba(0, 0, 0, 0.15);\n",
       "      filter: drop-shadow(0px 1px 2px rgba(0, 0, 0, 0.3));\n",
       "      fill: #FFFFFF;\n",
       "    }\n",
       "  </style>\n",
       "\n",
       "      <script>\n",
       "        const buttonEl =\n",
       "          document.querySelector('#df-24b6a273-c4e5-412e-9e51-91f6b36a019f button.colab-df-convert');\n",
       "        buttonEl.style.display =\n",
       "          google.colab.kernel.accessAllowed ? 'block' : 'none';\n",
       "\n",
       "        async function convertToInteractive(key) {\n",
       "          const element = document.querySelector('#df-24b6a273-c4e5-412e-9e51-91f6b36a019f');\n",
       "          const dataTable =\n",
       "            await google.colab.kernel.invokeFunction('convertToInteractive',\n",
       "                                                     [key], {});\n",
       "          if (!dataTable) return;\n",
       "\n",
       "          const docLinkHtml = 'Like what you see? Visit the ' +\n",
       "            '<a target=\"_blank\" href=https://colab.research.google.com/notebooks/data_table.ipynb>data table notebook</a>'\n",
       "            + ' to learn more about interactive tables.';\n",
       "          element.innerHTML = '';\n",
       "          dataTable['output_type'] = 'display_data';\n",
       "          await google.colab.output.renderOutput(dataTable, element);\n",
       "          const docLink = document.createElement('div');\n",
       "          docLink.innerHTML = docLinkHtml;\n",
       "          element.appendChild(docLink);\n",
       "        }\n",
       "      </script>\n",
       "    </div>\n",
       "  </div>\n",
       "  "
      ],
      "text/plain": [
       "      test  totale\n",
       "0        0   26025\n",
       "1        1    6731\n",
       "2        2    6785\n",
       "3        3   25077\n",
       "4        4   22141\n",
       "...    ...     ...\n",
       "8230  8506   27966\n",
       "8231  8507   18957\n",
       "8232  8508   15655\n",
       "8233  8509   23409\n",
       "8234  8510    3117\n",
       "\n",
       "[8235 rows x 2 columns]"
      ]
     },
     "execution_count": 72,
     "metadata": {},
     "output_type": "execute_result"
    }
   ],
   "source": [
    "ind2"
   ]
  },
  {
   "cell_type": "code",
   "execution_count": null,
   "metadata": {
    "colab": {
     "base_uri": "https://localhost:8080/"
    },
    "executionInfo": {
     "elapsed": 4220,
     "status": "ok",
     "timestamp": 1653312847113,
     "user": {
      "displayName": "Giorgia Gossi",
      "userId": "12769328602676688820"
     },
     "user_tz": -120
    },
    "id": "0B0VVK52H6R7",
    "outputId": "585c4445-3fb1-4e8c-a7ae-8f12b672bbd0"
   },
   "outputs": [
    {
     "data": {
      "text/plain": [
       "18192"
      ]
     },
     "execution_count": 74,
     "metadata": {},
     "output_type": "execute_result"
    }
   ],
   "source": [
    "pr=best_model.predict(x)\n",
    "li1=[]\n",
    "for i in range(len(pr)):\n",
    "  if pr[i]==df.loc[i, 'new_topic']:\n",
    "    li1.append(i)\n",
    "len(li1)"
   ]
  },
  {
   "cell_type": "code",
   "execution_count": null,
   "metadata": {
    "colab": {
     "base_uri": "https://localhost:8080/",
     "height": 528
    },
    "executionInfo": {
     "elapsed": 16463,
     "status": "ok",
     "timestamp": 1653312957745,
     "user": {
      "displayName": "Giorgia Gossi",
      "userId": "12769328602676688820"
     },
     "user_tz": -120
    },
    "id": "2HIDAOm9HqhZ",
    "outputId": "6a7d55c4-d567-4837-ce09-233b91167d72"
   },
   "outputs": [
    {
     "name": "stderr",
     "output_type": "stream",
     "text": [
      "/usr/local/lib/python3.7/dist-packages/ipykernel_launcher.py:7: SettingWithCopyWarning: \n",
      "A value is trying to be set on a copy of a slice from a DataFrame.\n",
      "Try using .loc[row_indexer,col_indexer] = value instead\n",
      "\n",
      "See the caveats in the documentation: https://pandas.pydata.org/pandas-docs/stable/user_guide/indexing.html#returning-a-view-versus-a-copy\n",
      "  import sys\n"
     ]
    },
    {
     "data": {
      "text/html": [
       "\n",
       "  <div id=\"df-4b587bb1-2469-41d1-a43c-8f712ee6d3e3\">\n",
       "    <div class=\"colab-df-container\">\n",
       "      <div>\n",
       "<style scoped>\n",
       "    .dataframe tbody tr th:only-of-type {\n",
       "        vertical-align: middle;\n",
       "    }\n",
       "\n",
       "    .dataframe tbody tr th {\n",
       "        vertical-align: top;\n",
       "    }\n",
       "\n",
       "    .dataframe thead th {\n",
       "        text-align: right;\n",
       "    }\n",
       "</style>\n",
       "<table border=\"1\" class=\"dataframe\">\n",
       "  <thead>\n",
       "    <tr style=\"text-align: right;\">\n",
       "      <th></th>\n",
       "      <th>test</th>\n",
       "      <th>totale</th>\n",
       "      <th>target</th>\n",
       "    </tr>\n",
       "  </thead>\n",
       "  <tbody>\n",
       "    <tr>\n",
       "      <th>0</th>\n",
       "      <td>0</td>\n",
       "      <td>26025</td>\n",
       "      <td>no</td>\n",
       "    </tr>\n",
       "    <tr>\n",
       "      <th>1</th>\n",
       "      <td>1</td>\n",
       "      <td>6731</td>\n",
       "      <td>yes</td>\n",
       "    </tr>\n",
       "    <tr>\n",
       "      <th>2</th>\n",
       "      <td>2</td>\n",
       "      <td>6785</td>\n",
       "      <td>no</td>\n",
       "    </tr>\n",
       "    <tr>\n",
       "      <th>3</th>\n",
       "      <td>3</td>\n",
       "      <td>25077</td>\n",
       "      <td>no</td>\n",
       "    </tr>\n",
       "    <tr>\n",
       "      <th>4</th>\n",
       "      <td>4</td>\n",
       "      <td>22141</td>\n",
       "      <td>no</td>\n",
       "    </tr>\n",
       "    <tr>\n",
       "      <th>...</th>\n",
       "      <td>...</td>\n",
       "      <td>...</td>\n",
       "      <td>...</td>\n",
       "    </tr>\n",
       "    <tr>\n",
       "      <th>8230</th>\n",
       "      <td>8506</td>\n",
       "      <td>27966</td>\n",
       "      <td>yes</td>\n",
       "    </tr>\n",
       "    <tr>\n",
       "      <th>8231</th>\n",
       "      <td>8507</td>\n",
       "      <td>18957</td>\n",
       "      <td>yes</td>\n",
       "    </tr>\n",
       "    <tr>\n",
       "      <th>8232</th>\n",
       "      <td>8508</td>\n",
       "      <td>15655</td>\n",
       "      <td>yes</td>\n",
       "    </tr>\n",
       "    <tr>\n",
       "      <th>8233</th>\n",
       "      <td>8509</td>\n",
       "      <td>23409</td>\n",
       "      <td>no</td>\n",
       "    </tr>\n",
       "    <tr>\n",
       "      <th>8234</th>\n",
       "      <td>8510</td>\n",
       "      <td>3117</td>\n",
       "      <td>no</td>\n",
       "    </tr>\n",
       "  </tbody>\n",
       "</table>\n",
       "<p>8235 rows × 3 columns</p>\n",
       "</div>\n",
       "      <button class=\"colab-df-convert\" onclick=\"convertToInteractive('df-4b587bb1-2469-41d1-a43c-8f712ee6d3e3')\"\n",
       "              title=\"Convert this dataframe to an interactive table.\"\n",
       "              style=\"display:none;\">\n",
       "        \n",
       "  <svg xmlns=\"http://www.w3.org/2000/svg\" height=\"24px\"viewBox=\"0 0 24 24\"\n",
       "       width=\"24px\">\n",
       "    <path d=\"M0 0h24v24H0V0z\" fill=\"none\"/>\n",
       "    <path d=\"M18.56 5.44l.94 2.06.94-2.06 2.06-.94-2.06-.94-.94-2.06-.94 2.06-2.06.94zm-11 1L8.5 8.5l.94-2.06 2.06-.94-2.06-.94L8.5 2.5l-.94 2.06-2.06.94zm10 10l.94 2.06.94-2.06 2.06-.94-2.06-.94-.94-2.06-.94 2.06-2.06.94z\"/><path d=\"M17.41 7.96l-1.37-1.37c-.4-.4-.92-.59-1.43-.59-.52 0-1.04.2-1.43.59L10.3 9.45l-7.72 7.72c-.78.78-.78 2.05 0 2.83L4 21.41c.39.39.9.59 1.41.59.51 0 1.02-.2 1.41-.59l7.78-7.78 2.81-2.81c.8-.78.8-2.07 0-2.86zM5.41 20L4 18.59l7.72-7.72 1.47 1.35L5.41 20z\"/>\n",
       "  </svg>\n",
       "      </button>\n",
       "      \n",
       "  <style>\n",
       "    .colab-df-container {\n",
       "      display:flex;\n",
       "      flex-wrap:wrap;\n",
       "      gap: 12px;\n",
       "    }\n",
       "\n",
       "    .colab-df-convert {\n",
       "      background-color: #E8F0FE;\n",
       "      border: none;\n",
       "      border-radius: 50%;\n",
       "      cursor: pointer;\n",
       "      display: none;\n",
       "      fill: #1967D2;\n",
       "      height: 32px;\n",
       "      padding: 0 0 0 0;\n",
       "      width: 32px;\n",
       "    }\n",
       "\n",
       "    .colab-df-convert:hover {\n",
       "      background-color: #E2EBFA;\n",
       "      box-shadow: 0px 1px 2px rgba(60, 64, 67, 0.3), 0px 1px 3px 1px rgba(60, 64, 67, 0.15);\n",
       "      fill: #174EA6;\n",
       "    }\n",
       "\n",
       "    [theme=dark] .colab-df-convert {\n",
       "      background-color: #3B4455;\n",
       "      fill: #D2E3FC;\n",
       "    }\n",
       "\n",
       "    [theme=dark] .colab-df-convert:hover {\n",
       "      background-color: #434B5C;\n",
       "      box-shadow: 0px 1px 3px 1px rgba(0, 0, 0, 0.15);\n",
       "      filter: drop-shadow(0px 1px 2px rgba(0, 0, 0, 0.3));\n",
       "      fill: #FFFFFF;\n",
       "    }\n",
       "  </style>\n",
       "\n",
       "      <script>\n",
       "        const buttonEl =\n",
       "          document.querySelector('#df-4b587bb1-2469-41d1-a43c-8f712ee6d3e3 button.colab-df-convert');\n",
       "        buttonEl.style.display =\n",
       "          google.colab.kernel.accessAllowed ? 'block' : 'none';\n",
       "\n",
       "        async function convertToInteractive(key) {\n",
       "          const element = document.querySelector('#df-4b587bb1-2469-41d1-a43c-8f712ee6d3e3');\n",
       "          const dataTable =\n",
       "            await google.colab.kernel.invokeFunction('convertToInteractive',\n",
       "                                                     [key], {});\n",
       "          if (!dataTable) return;\n",
       "\n",
       "          const docLinkHtml = 'Like what you see? Visit the ' +\n",
       "            '<a target=\"_blank\" href=https://colab.research.google.com/notebooks/data_table.ipynb>data table notebook</a>'\n",
       "            + ' to learn more about interactive tables.';\n",
       "          element.innerHTML = '';\n",
       "          dataTable['output_type'] = 'display_data';\n",
       "          await google.colab.output.renderOutput(dataTable, element);\n",
       "          const docLink = document.createElement('div');\n",
       "          docLink.innerHTML = docLinkHtml;\n",
       "          element.appendChild(docLink);\n",
       "        }\n",
       "      </script>\n",
       "    </div>\n",
       "  </div>\n",
       "  "
      ],
      "text/plain": [
       "      test  totale target\n",
       "0        0   26025     no\n",
       "1        1    6731    yes\n",
       "2        2    6785     no\n",
       "3        3   25077     no\n",
       "4        4   22141     no\n",
       "...    ...     ...    ...\n",
       "8230  8506   27966    yes\n",
       "8231  8507   18957    yes\n",
       "8232  8508   15655    yes\n",
       "8233  8509   23409     no\n",
       "8234  8510    3117     no\n",
       "\n",
       "[8235 rows x 3 columns]"
      ]
     },
     "execution_count": 78,
     "metadata": {},
     "output_type": "execute_result"
    }
   ],
   "source": [
    "litarget=[]\n",
    "for i in range(len(ind2)):\n",
    "  if ind2.loc[i,'totale'] in li1:\n",
    "    litarget.append('yes')\n",
    "  else:\n",
    "    litarget.append('no')\n",
    "ind2['target']=litarget\n",
    "ind2"
   ]
  },
  {
   "cell_type": "code",
   "execution_count": null,
   "metadata": {
    "colab": {
     "base_uri": "https://localhost:8080/",
     "height": 632
    },
    "executionInfo": {
     "elapsed": 591,
     "status": "ok",
     "timestamp": 1653312968278,
     "user": {
      "displayName": "Giorgia Gossi",
      "userId": "12769328602676688820"
     },
     "user_tz": -120
    },
    "id": "8zs2VSy6HwYD",
    "outputId": "a7c7e64b-c674-443e-db3c-b8b9d8a4c991"
   },
   "outputs": [
    {
     "name": "stderr",
     "output_type": "stream",
     "text": [
      "/usr/local/lib/python3.7/dist-packages/ipykernel_launcher.py:6: SettingWithCopyWarning: \n",
      "A value is trying to be set on a copy of a slice from a DataFrame.\n",
      "Try using .loc[row_indexer,col_indexer] = value instead\n",
      "\n",
      "See the caveats in the documentation: https://pandas.pydata.org/pandas-docs/stable/user_guide/indexing.html#returning-a-view-versus-a-copy\n",
      "  \n",
      "/usr/local/lib/python3.7/dist-packages/ipykernel_launcher.py:7: SettingWithCopyWarning: \n",
      "A value is trying to be set on a copy of a slice from a DataFrame.\n",
      "Try using .loc[row_indexer,col_indexer] = value instead\n",
      "\n",
      "See the caveats in the documentation: https://pandas.pydata.org/pandas-docs/stable/user_guide/indexing.html#returning-a-view-versus-a-copy\n",
      "  import sys\n"
     ]
    },
    {
     "data": {
      "text/html": [
       "\n",
       "  <div id=\"df-9663427e-0d58-4d4f-b0ae-83b9a70622b3\">\n",
       "    <div class=\"colab-df-container\">\n",
       "      <div>\n",
       "<style scoped>\n",
       "    .dataframe tbody tr th:only-of-type {\n",
       "        vertical-align: middle;\n",
       "    }\n",
       "\n",
       "    .dataframe tbody tr th {\n",
       "        vertical-align: top;\n",
       "    }\n",
       "\n",
       "    .dataframe thead th {\n",
       "        text-align: right;\n",
       "    }\n",
       "</style>\n",
       "<table border=\"1\" class=\"dataframe\">\n",
       "  <thead>\n",
       "    <tr style=\"text-align: right;\">\n",
       "      <th></th>\n",
       "      <th>test</th>\n",
       "      <th>totale</th>\n",
       "      <th>target</th>\n",
       "      <th>titolo</th>\n",
       "      <th>artista</th>\n",
       "    </tr>\n",
       "  </thead>\n",
       "  <tbody>\n",
       "    <tr>\n",
       "      <th>0</th>\n",
       "      <td>0</td>\n",
       "      <td>26025</td>\n",
       "      <td>no</td>\n",
       "      <td>rose</td>\n",
       "      <td>a perfect circle</td>\n",
       "    </tr>\n",
       "    <tr>\n",
       "      <th>1</th>\n",
       "      <td>1</td>\n",
       "      <td>6731</td>\n",
       "      <td>yes</td>\n",
       "      <td>bad intentions</td>\n",
       "      <td>niykee heaton</td>\n",
       "    </tr>\n",
       "    <tr>\n",
       "      <th>2</th>\n",
       "      <td>2</td>\n",
       "      <td>6785</td>\n",
       "      <td>no</td>\n",
       "      <td>love so soft</td>\n",
       "      <td>kelly clarkson</td>\n",
       "    </tr>\n",
       "    <tr>\n",
       "      <th>3</th>\n",
       "      <td>3</td>\n",
       "      <td>25077</td>\n",
       "      <td>no</td>\n",
       "      <td>i am the law</td>\n",
       "      <td>anthrax</td>\n",
       "    </tr>\n",
       "    <tr>\n",
       "      <th>4</th>\n",
       "      <td>4</td>\n",
       "      <td>22141</td>\n",
       "      <td>no</td>\n",
       "      <td>kick down</td>\n",
       "      <td>long beach dub allstars</td>\n",
       "    </tr>\n",
       "    <tr>\n",
       "      <th>...</th>\n",
       "      <td>...</td>\n",
       "      <td>...</td>\n",
       "      <td>...</td>\n",
       "      <td>...</td>\n",
       "      <td>...</td>\n",
       "    </tr>\n",
       "    <tr>\n",
       "      <th>8230</th>\n",
       "      <td>8506</td>\n",
       "      <td>27966</td>\n",
       "      <td>yes</td>\n",
       "      <td>gold digger</td>\n",
       "      <td>epmd</td>\n",
       "    </tr>\n",
       "    <tr>\n",
       "      <th>8231</th>\n",
       "      <td>8507</td>\n",
       "      <td>18957</td>\n",
       "      <td>yes</td>\n",
       "      <td>i'm for real</td>\n",
       "      <td>nightmares on wax</td>\n",
       "    </tr>\n",
       "    <tr>\n",
       "      <th>8232</th>\n",
       "      <td>8508</td>\n",
       "      <td>15655</td>\n",
       "      <td>yes</td>\n",
       "      <td>elvis fucking christ</td>\n",
       "      <td>the cramps</td>\n",
       "    </tr>\n",
       "    <tr>\n",
       "      <th>8233</th>\n",
       "      <td>8509</td>\n",
       "      <td>23409</td>\n",
       "      <td>no</td>\n",
       "      <td>life is a circle</td>\n",
       "      <td>the movement</td>\n",
       "    </tr>\n",
       "    <tr>\n",
       "      <th>8234</th>\n",
       "      <td>8510</td>\n",
       "      <td>3117</td>\n",
       "      <td>no</td>\n",
       "      <td>the love parade</td>\n",
       "      <td>the dream academy</td>\n",
       "    </tr>\n",
       "  </tbody>\n",
       "</table>\n",
       "<p>8235 rows × 5 columns</p>\n",
       "</div>\n",
       "      <button class=\"colab-df-convert\" onclick=\"convertToInteractive('df-9663427e-0d58-4d4f-b0ae-83b9a70622b3')\"\n",
       "              title=\"Convert this dataframe to an interactive table.\"\n",
       "              style=\"display:none;\">\n",
       "        \n",
       "  <svg xmlns=\"http://www.w3.org/2000/svg\" height=\"24px\"viewBox=\"0 0 24 24\"\n",
       "       width=\"24px\">\n",
       "    <path d=\"M0 0h24v24H0V0z\" fill=\"none\"/>\n",
       "    <path d=\"M18.56 5.44l.94 2.06.94-2.06 2.06-.94-2.06-.94-.94-2.06-.94 2.06-2.06.94zm-11 1L8.5 8.5l.94-2.06 2.06-.94-2.06-.94L8.5 2.5l-.94 2.06-2.06.94zm10 10l.94 2.06.94-2.06 2.06-.94-2.06-.94-.94-2.06-.94 2.06-2.06.94z\"/><path d=\"M17.41 7.96l-1.37-1.37c-.4-.4-.92-.59-1.43-.59-.52 0-1.04.2-1.43.59L10.3 9.45l-7.72 7.72c-.78.78-.78 2.05 0 2.83L4 21.41c.39.39.9.59 1.41.59.51 0 1.02-.2 1.41-.59l7.78-7.78 2.81-2.81c.8-.78.8-2.07 0-2.86zM5.41 20L4 18.59l7.72-7.72 1.47 1.35L5.41 20z\"/>\n",
       "  </svg>\n",
       "      </button>\n",
       "      \n",
       "  <style>\n",
       "    .colab-df-container {\n",
       "      display:flex;\n",
       "      flex-wrap:wrap;\n",
       "      gap: 12px;\n",
       "    }\n",
       "\n",
       "    .colab-df-convert {\n",
       "      background-color: #E8F0FE;\n",
       "      border: none;\n",
       "      border-radius: 50%;\n",
       "      cursor: pointer;\n",
       "      display: none;\n",
       "      fill: #1967D2;\n",
       "      height: 32px;\n",
       "      padding: 0 0 0 0;\n",
       "      width: 32px;\n",
       "    }\n",
       "\n",
       "    .colab-df-convert:hover {\n",
       "      background-color: #E2EBFA;\n",
       "      box-shadow: 0px 1px 2px rgba(60, 64, 67, 0.3), 0px 1px 3px 1px rgba(60, 64, 67, 0.15);\n",
       "      fill: #174EA6;\n",
       "    }\n",
       "\n",
       "    [theme=dark] .colab-df-convert {\n",
       "      background-color: #3B4455;\n",
       "      fill: #D2E3FC;\n",
       "    }\n",
       "\n",
       "    [theme=dark] .colab-df-convert:hover {\n",
       "      background-color: #434B5C;\n",
       "      box-shadow: 0px 1px 3px 1px rgba(0, 0, 0, 0.15);\n",
       "      filter: drop-shadow(0px 1px 2px rgba(0, 0, 0, 0.3));\n",
       "      fill: #FFFFFF;\n",
       "    }\n",
       "  </style>\n",
       "\n",
       "      <script>\n",
       "        const buttonEl =\n",
       "          document.querySelector('#df-9663427e-0d58-4d4f-b0ae-83b9a70622b3 button.colab-df-convert');\n",
       "        buttonEl.style.display =\n",
       "          google.colab.kernel.accessAllowed ? 'block' : 'none';\n",
       "\n",
       "        async function convertToInteractive(key) {\n",
       "          const element = document.querySelector('#df-9663427e-0d58-4d4f-b0ae-83b9a70622b3');\n",
       "          const dataTable =\n",
       "            await google.colab.kernel.invokeFunction('convertToInteractive',\n",
       "                                                     [key], {});\n",
       "          if (!dataTable) return;\n",
       "\n",
       "          const docLinkHtml = 'Like what you see? Visit the ' +\n",
       "            '<a target=\"_blank\" href=https://colab.research.google.com/notebooks/data_table.ipynb>data table notebook</a>'\n",
       "            + ' to learn more about interactive tables.';\n",
       "          element.innerHTML = '';\n",
       "          dataTable['output_type'] = 'display_data';\n",
       "          await google.colab.output.renderOutput(dataTable, element);\n",
       "          const docLink = document.createElement('div');\n",
       "          docLink.innerHTML = docLinkHtml;\n",
       "          element.appendChild(docLink);\n",
       "        }\n",
       "      </script>\n",
       "    </div>\n",
       "  </div>\n",
       "  "
      ],
      "text/plain": [
       "      test  totale target                titolo                  artista\n",
       "0        0   26025     no                  rose         a perfect circle\n",
       "1        1    6731    yes        bad intentions            niykee heaton\n",
       "2        2    6785     no          love so soft           kelly clarkson\n",
       "3        3   25077     no          i am the law                  anthrax\n",
       "4        4   22141     no             kick down  long beach dub allstars\n",
       "...    ...     ...    ...                   ...                      ...\n",
       "8230  8506   27966    yes           gold digger                     epmd\n",
       "8231  8507   18957    yes          i'm for real        nightmares on wax\n",
       "8232  8508   15655    yes  elvis fucking christ               the cramps\n",
       "8233  8509   23409     no      life is a circle             the movement\n",
       "8234  8510    3117     no       the love parade        the dream academy\n",
       "\n",
       "[8235 rows x 5 columns]"
      ]
     },
     "execution_count": 79,
     "metadata": {},
     "output_type": "execute_result"
    }
   ],
   "source": [
    "titolo=[]\n",
    "artista=[]\n",
    "for i in range(len(ind2)):\n",
    "  titolo.append(df.loc[ind2.loc[i,'totale'], 'track_name'])\n",
    "  artista.append(df.loc[ind2.loc[i,'totale'], 'artist_name'])\n",
    "ind2['titolo']=titolo\n",
    "ind2['artista']=artista\n",
    "ind2"
   ]
  },
  {
   "cell_type": "markdown",
   "metadata": {
    "id": "lmiiialOIxNn"
   },
   "source": [
    "Canzoni scelte"
   ]
  },
  {
   "cell_type": "code",
   "execution_count": null,
   "metadata": {
    "id": "nJHYWanRIwyc"
   },
   "outputs": [],
   "source": [
    "# this is how we do katy perry test=799 tot=6311 yes obscene obscene\n",
    "# mr blue sky electric light orchestra test=2923 tot=1793 yes music music\n",
    "# happy togheter the turtles test=413 tot=1139 no sadness life"
   ]
  },
  {
   "cell_type": "markdown",
   "metadata": {
    "id": "dvveEzRyMcMK"
   },
   "source": [
    "##Grafici dataset test"
   ]
  },
  {
   "cell_type": "code",
   "execution_count": null,
   "metadata": {
    "colab": {
     "base_uri": "https://localhost:8080/",
     "height": 879
    },
    "executionInfo": {
     "elapsed": 1057,
     "status": "ok",
     "timestamp": 1653313547016,
     "user": {
      "displayName": "Giorgia Gossi",
      "userId": "12769328602676688820"
     },
     "user_tz": -120
    },
    "id": "BIQ9Bm4pJJ-h",
    "outputId": "2f1264fc-ee64-44df-c665-1a4c414985eb"
   },
   "outputs": [
    {
     "data": {
      "image/png": "[encoded data removed]",
      "text/plain": [
       "<Figure size 1080x1080 with 1 Axes>"
      ]
     },
     "metadata": {},
     "output_type": "display_data"
    }
   ],
   "source": [
    "import matplotlib.pyplot as plt\n",
    "\n",
    "fields=['life', 'music', 'night_time', 'obscene', 'romantic', 'sadness', 'violence']\n",
    "colors = ['#FCAE1E', '#74B72E', '#151E3D', \n",
    "          '#592693', '#FA86C4', '#0492C2', '#D0312D']\n",
    "values=pred_prob[799]\n",
    "plt.figure(figsize=(15,15))\n",
    "_, _, autotexts=plt.pie(values, colors=colors, labels=fields,\n",
    "        autopct='%1.1f%%', pctdistance=0.85)\n",
    "for ins in autotexts:\n",
    "    ins.set_color('white')\n",
    "centre_circle = plt.Circle((0, 0), 0.70, fc='white')\n",
    "fig = plt.gcf()\n",
    "fig.gca().add_artist(centre_circle)\n",
    "plt.title('This is how we do - Katy Perry')\n",
    "plt.rcParams.update({'font.size': 28})\n",
    "# plt.savefig(filepath+'katy_perry.png')"
   ]
  },
  {
   "cell_type": "code",
   "execution_count": null,
   "metadata": {
    "colab": {
     "base_uri": "https://localhost:8080/",
     "height": 879
    },
    "executionInfo": {
     "elapsed": 1462,
     "status": "ok",
     "timestamp": 1653313621837,
     "user": {
      "displayName": "Giorgia Gossi",
      "userId": "12769328602676688820"
     },
     "user_tz": -120
    },
    "id": "L3r_fLC1K4SL",
    "outputId": "92901c48-1887-46c7-f1f4-361034908325"
   },
   "outputs": [
    {
     "data": {
      "image/png": "[encoded data removed]",
      "text/plain": [
       "<Figure size 1080x1080 with 1 Axes>"
      ]
     },
     "metadata": {},
     "output_type": "display_data"
    }
   ],
   "source": [
    "import matplotlib.pyplot as plt\n",
    "\n",
    "fields=['life', 'music', 'night_time', 'obscene', 'romantic', 'sadness', 'violence']\n",
    "colors = ['#FCAE1E', '#74B72E', '#151E3D', \n",
    "          '#592693', '#FA86C4', '#0492C2', '#D0312D']\n",
    "values=pred_prob[2923]\n",
    "plt.figure(figsize=(15,15))\n",
    "_, _, autotexts=plt.pie(values, colors=colors, labels=fields,\n",
    "        autopct='%1.1f%%', pctdistance=0.85)\n",
    "for ins in autotexts:\n",
    "    ins.set_color('white')\n",
    "centre_circle = plt.Circle((0, 0), 0.70, fc='white')\n",
    "fig = plt.gcf()\n",
    "fig.gca().add_artist(centre_circle)\n",
    "plt.title('Mr blue sky - Electric light orchestra')\n",
    "plt.rcParams.update({'font.size': 28})\n",
    "# plt.savefig(filepath+'blue_sky.png')"
   ]
  },
  {
   "cell_type": "code",
   "execution_count": null,
   "metadata": {
    "colab": {
     "base_uri": "https://localhost:8080/",
     "height": 879
    },
    "executionInfo": {
     "elapsed": 1226,
     "status": "ok",
     "timestamp": 1653313750782,
     "user": {
      "displayName": "Giorgia Gossi",
      "userId": "12769328602676688820"
     },
     "user_tz": -120
    },
    "id": "umwVAiq_LBsd",
    "outputId": "b615fb61-4172-440f-872e-cfe3051cf758"
   },
   "outputs": [
    {
     "data": {
      "image/png": "[encoded data removed]",
      "text/plain": [
       "<Figure size 1080x1080 with 1 Axes>"
      ]
     },
     "metadata": {},
     "output_type": "display_data"
    }
   ],
   "source": [
    "import matplotlib.pyplot as plt\n",
    "\n",
    "fields=['life', 'music', 'night_time', 'obscene', 'romantic', 'sadness', 'violence']\n",
    "colors = ['#FCAE1E', '#74B72E', '#151E3D', \n",
    "          '#592693', '#FA86C4', '#0492C2', '#D0312D']\n",
    "values=pred_prob[413]\n",
    "plt.figure(figsize=(15,15))\n",
    "_, _, autotexts=plt.pie(values, colors=colors, labels=fields,\n",
    "        autopct='%1.1f%%', pctdistance=0.85)\n",
    "for ins in autotexts:\n",
    "    ins.set_color('white')\n",
    "centre_circle = plt.Circle((0, 0), 0.70, fc='white')\n",
    "fig = plt.gcf()\n",
    "fig.gca().add_artist(centre_circle)\n",
    "plt.title('Happy together - The Turtles')\n",
    "plt.rcParams.update({'font.size': 28})\n",
    "# plt.savefig(filepath+'happy.png')"
   ]
  },
  {
   "cell_type": "code",
   "execution_count": null,
   "metadata": {
    "id": "zwmA7JqSLnef"
   },
   "outputs": [],
   "source": [
    "import dill \n",
    "fileName1='/content/drive/MyDrive/statistica spaziale2/topic_analysis2.pkl'\n",
    "dill.dump_session(fileName1)"
   ]
  }
 ],
 "metadata": {
  "colab": {
   "collapsed_sections": [],
   "name": "topic_analysis2.ipynb",
   "provenance": []
  },
  "kernelspec": {
   "display_name": "Python 3",
   "language": "python",
   "name": "python3"
  },
  "language_info": {
   "codemirror_mode": {
    "name": "ipython",
    "version": 3
   },
   "file_extension": ".py",
   "mimetype": "text/x-python",
   "name": "python",
   "nbconvert_exporter": "python",
   "pygments_lexer": "ipython3",
   "version": "3.8.8"
  }
 },
 "nbformat": 4,
 "nbformat_minor": 1
}
