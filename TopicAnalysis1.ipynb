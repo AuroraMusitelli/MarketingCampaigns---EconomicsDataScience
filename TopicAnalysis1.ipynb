{
 "cells": [
  {
   "cell_type": "markdown",
   "metadata": {
    "id": "Ode4qerjQ4GZ"
   },
   "source": [
    "**TOPIC ANALYSIS CANZONI**"
   ]
  },
  {
   "cell_type": "code",
   "execution_count": null,
   "metadata": {
    "colab": {
     "base_uri": "https://localhost:8080/"
    },
    "executionInfo": {
     "elapsed": 2412,
     "status": "ok",
     "timestamp": 1654095842038,
     "user": {
      "displayName": "Giorgia Gossi",
      "userId": "12769328602676688820"
     },
     "user_tz": -120
    },
    "id": "rUcrYfBdxlu7",
    "outputId": "122111f2-239f-4320-bbbb-0b74955e501a"
   },
   "outputs": [
    {
     "name": "stdout",
     "output_type": "stream",
     "text": [
      "Drive already mounted at /content/drive; to attempt to forcibly remount, call drive.mount(\"/content/drive\", force_remount=True).\n"
     ]
    }
   ],
   "source": [
    "from google.colab import drive\n",
    "drive.mount('/content/drive')"
   ]
  },
  {
   "cell_type": "code",
   "execution_count": null,
   "metadata": {
    "id": "vtqOlFYScXrt"
   },
   "outputs": [],
   "source": [
    "filepath = '/content/drive/MyDrive/statistica spaziale2/'"
   ]
  },
  {
   "cell_type": "code",
   "execution_count": null,
   "metadata": {
    "id": "ob61mu_9MZk_"
   },
   "outputs": [],
   "source": [
    "import dill \n",
    "dill.load_session(filepath+'topic_analysis1.pkl')"
   ]
  },
  {
   "cell_type": "markdown",
   "metadata": {
    "id": "0aFR9cbixcmU"
   },
   "source": [
    "\n",
    "### Importiamo il dataset"
   ]
  },
  {
   "cell_type": "markdown",
   "metadata": {
    "id": "cDoNNUacRP9_"
   },
   "source": [
    "Importiamo il dataset"
   ]
  },
  {
   "cell_type": "code",
   "execution_count": null,
   "metadata": {
    "colab": {
     "base_uri": "https://localhost:8080/",
     "height": 699
    },
    "executionInfo": {
     "elapsed": 1974,
     "status": "ok",
     "timestamp": 1654095847723,
     "user": {
      "displayName": "Giorgia Gossi",
      "userId": "12769328602676688820"
     },
     "user_tz": -120
    },
    "id": "f3jnN-zxxcmW",
    "outputId": "811be8c7-522a-4880-e8c9-b43d08389d05"
   },
   "outputs": [
    {
     "data": {
      "text/html": [
       "\n",
       "  <div id=\"df-43287fde-c475-44c4-a6d9-ad08c65c8be4\">\n",
       "    <div class=\"colab-df-container\">\n",
       "      <div>\n",
       "<style scoped>\n",
       "    .dataframe tbody tr th:only-of-type {\n",
       "        vertical-align: middle;\n",
       "    }\n",
       "\n",
       "    .dataframe tbody tr th {\n",
       "        vertical-align: top;\n",
       "    }\n",
       "\n",
       "    .dataframe thead th {\n",
       "        text-align: right;\n",
       "    }\n",
       "</style>\n",
       "<table border=\"1\" class=\"dataframe\">\n",
       "  <thead>\n",
       "    <tr style=\"text-align: right;\">\n",
       "      <th></th>\n",
       "      <th>Unnamed: 0</th>\n",
       "      <th>artist_name</th>\n",
       "      <th>track_name</th>\n",
       "      <th>release_date</th>\n",
       "      <th>genre</th>\n",
       "      <th>lyrics</th>\n",
       "      <th>len</th>\n",
       "      <th>dating</th>\n",
       "      <th>violence</th>\n",
       "      <th>world/life</th>\n",
       "      <th>...</th>\n",
       "      <th>sadness</th>\n",
       "      <th>feelings</th>\n",
       "      <th>danceability</th>\n",
       "      <th>loudness</th>\n",
       "      <th>acousticness</th>\n",
       "      <th>instrumentalness</th>\n",
       "      <th>valence</th>\n",
       "      <th>energy</th>\n",
       "      <th>topic</th>\n",
       "      <th>age</th>\n",
       "    </tr>\n",
       "  </thead>\n",
       "  <tbody>\n",
       "    <tr>\n",
       "      <th>0</th>\n",
       "      <td>0</td>\n",
       "      <td>mukesh</td>\n",
       "      <td>mohabbat bhi jhoothi</td>\n",
       "      <td>1950</td>\n",
       "      <td>pop</td>\n",
       "      <td>hold time feel break feel untrue convince spea...</td>\n",
       "      <td>95</td>\n",
       "      <td>0.000598</td>\n",
       "      <td>0.063746</td>\n",
       "      <td>0.000598</td>\n",
       "      <td>...</td>\n",
       "      <td>0.380299</td>\n",
       "      <td>0.117175</td>\n",
       "      <td>0.357739</td>\n",
       "      <td>0.454119</td>\n",
       "      <td>0.997992</td>\n",
       "      <td>0.901822</td>\n",
       "      <td>0.339448</td>\n",
       "      <td>0.137110</td>\n",
       "      <td>sadness</td>\n",
       "      <td>1.0</td>\n",
       "    </tr>\n",
       "    <tr>\n",
       "      <th>1</th>\n",
       "      <td>4</td>\n",
       "      <td>frankie laine</td>\n",
       "      <td>i believe</td>\n",
       "      <td>1950</td>\n",
       "      <td>pop</td>\n",
       "      <td>believe drop rain fall grow believe darkest ni...</td>\n",
       "      <td>51</td>\n",
       "      <td>0.035537</td>\n",
       "      <td>0.096777</td>\n",
       "      <td>0.443435</td>\n",
       "      <td>...</td>\n",
       "      <td>0.001284</td>\n",
       "      <td>0.001284</td>\n",
       "      <td>0.331745</td>\n",
       "      <td>0.647540</td>\n",
       "      <td>0.954819</td>\n",
       "      <td>0.000002</td>\n",
       "      <td>0.325021</td>\n",
       "      <td>0.263240</td>\n",
       "      <td>world/life</td>\n",
       "      <td>1.0</td>\n",
       "    </tr>\n",
       "    <tr>\n",
       "      <th>2</th>\n",
       "      <td>6</td>\n",
       "      <td>johnnie ray</td>\n",
       "      <td>cry</td>\n",
       "      <td>1950</td>\n",
       "      <td>pop</td>\n",
       "      <td>sweetheart send letter goodbye secret feel bet...</td>\n",
       "      <td>24</td>\n",
       "      <td>0.002770</td>\n",
       "      <td>0.002770</td>\n",
       "      <td>0.002770</td>\n",
       "      <td>...</td>\n",
       "      <td>0.002770</td>\n",
       "      <td>0.225422</td>\n",
       "      <td>0.456298</td>\n",
       "      <td>0.585288</td>\n",
       "      <td>0.840361</td>\n",
       "      <td>0.000000</td>\n",
       "      <td>0.351814</td>\n",
       "      <td>0.139112</td>\n",
       "      <td>music</td>\n",
       "      <td>1.0</td>\n",
       "    </tr>\n",
       "    <tr>\n",
       "      <th>3</th>\n",
       "      <td>10</td>\n",
       "      <td>pérez prado</td>\n",
       "      <td>patricia</td>\n",
       "      <td>1950</td>\n",
       "      <td>pop</td>\n",
       "      <td>kiss lips want stroll charm mambo chacha merin...</td>\n",
       "      <td>54</td>\n",
       "      <td>0.048249</td>\n",
       "      <td>0.001548</td>\n",
       "      <td>0.001548</td>\n",
       "      <td>...</td>\n",
       "      <td>0.225889</td>\n",
       "      <td>0.001548</td>\n",
       "      <td>0.686992</td>\n",
       "      <td>0.744404</td>\n",
       "      <td>0.083935</td>\n",
       "      <td>0.199393</td>\n",
       "      <td>0.775350</td>\n",
       "      <td>0.743736</td>\n",
       "      <td>romantic</td>\n",
       "      <td>1.0</td>\n",
       "    </tr>\n",
       "    <tr>\n",
       "      <th>4</th>\n",
       "      <td>12</td>\n",
       "      <td>giorgos papadopoulos</td>\n",
       "      <td>apopse eida oneiro</td>\n",
       "      <td>1950</td>\n",
       "      <td>pop</td>\n",
       "      <td>till darling till matter know till dream live ...</td>\n",
       "      <td>48</td>\n",
       "      <td>0.001350</td>\n",
       "      <td>0.001350</td>\n",
       "      <td>0.417772</td>\n",
       "      <td>...</td>\n",
       "      <td>0.068800</td>\n",
       "      <td>0.001350</td>\n",
       "      <td>0.291671</td>\n",
       "      <td>0.646489</td>\n",
       "      <td>0.975904</td>\n",
       "      <td>0.000246</td>\n",
       "      <td>0.597073</td>\n",
       "      <td>0.394375</td>\n",
       "      <td>romantic</td>\n",
       "      <td>1.0</td>\n",
       "    </tr>\n",
       "  </tbody>\n",
       "</table>\n",
       "<p>5 rows × 31 columns</p>\n",
       "</div>\n",
       "      <button class=\"colab-df-convert\" onclick=\"convertToInteractive('df-43287fde-c475-44c4-a6d9-ad08c65c8be4')\"\n",
       "              title=\"Convert this dataframe to an interactive table.\"\n",
       "              style=\"display:none;\">\n",
       "        \n",
       "  <svg xmlns=\"http://www.w3.org/2000/svg\" height=\"24px\"viewBox=\"0 0 24 24\"\n",
       "       width=\"24px\">\n",
       "    <path d=\"M0 0h24v24H0V0z\" fill=\"none\"/>\n",
       "    <path d=\"M18.56 5.44l.94 2.06.94-2.06 2.06-.94-2.06-.94-.94-2.06-.94 2.06-2.06.94zm-11 1L8.5 8.5l.94-2.06 2.06-.94-2.06-.94L8.5 2.5l-.94 2.06-2.06.94zm10 10l.94 2.06.94-2.06 2.06-.94-2.06-.94-.94-2.06-.94 2.06-2.06.94z\"/><path d=\"M17.41 7.96l-1.37-1.37c-.4-.4-.92-.59-1.43-.59-.52 0-1.04.2-1.43.59L10.3 9.45l-7.72 7.72c-.78.78-.78 2.05 0 2.83L4 21.41c.39.39.9.59 1.41.59.51 0 1.02-.2 1.41-.59l7.78-7.78 2.81-2.81c.8-.78.8-2.07 0-2.86zM5.41 20L4 18.59l7.72-7.72 1.47 1.35L5.41 20z\"/>\n",
       "  </svg>\n",
       "      </button>\n",
       "      \n",
       "  <style>\n",
       "    .colab-df-container {\n",
       "      display:flex;\n",
       "      flex-wrap:wrap;\n",
       "      gap: 12px;\n",
       "    }\n",
       "\n",
       "    .colab-df-convert {\n",
       "      background-color: #E8F0FE;\n",
       "      border: none;\n",
       "      border-radius: 50%;\n",
       "      cursor: pointer;\n",
       "      display: none;\n",
       "      fill: #1967D2;\n",
       "      height: 32px;\n",
       "      padding: 0 0 0 0;\n",
       "      width: 32px;\n",
       "    }\n",
       "\n",
       "    .colab-df-convert:hover {\n",
       "      background-color: #E2EBFA;\n",
       "      box-shadow: 0px 1px 2px rgba(60, 64, 67, 0.3), 0px 1px 3px 1px rgba(60, 64, 67, 0.15);\n",
       "      fill: #174EA6;\n",
       "    }\n",
       "\n",
       "    [theme=dark] .colab-df-convert {\n",
       "      background-color: #3B4455;\n",
       "      fill: #D2E3FC;\n",
       "    }\n",
       "\n",
       "    [theme=dark] .colab-df-convert:hover {\n",
       "      background-color: #434B5C;\n",
       "      box-shadow: 0px 1px 3px 1px rgba(0, 0, 0, 0.15);\n",
       "      filter: drop-shadow(0px 1px 2px rgba(0, 0, 0, 0.3));\n",
       "      fill: #FFFFFF;\n",
       "    }\n",
       "  </style>\n",
       "\n",
       "      <script>\n",
       "        const buttonEl =\n",
       "          document.querySelector('#df-43287fde-c475-44c4-a6d9-ad08c65c8be4 button.colab-df-convert');\n",
       "        buttonEl.style.display =\n",
       "          google.colab.kernel.accessAllowed ? 'block' : 'none';\n",
       "\n",
       "        async function convertToInteractive(key) {\n",
       "          const element = document.querySelector('#df-43287fde-c475-44c4-a6d9-ad08c65c8be4');\n",
       "          const dataTable =\n",
       "            await google.colab.kernel.invokeFunction('convertToInteractive',\n",
       "                                                     [key], {});\n",
       "          if (!dataTable) return;\n",
       "\n",
       "          const docLinkHtml = 'Like what you see? Visit the ' +\n",
       "            '<a target=\"_blank\" href=https://colab.research.google.com/notebooks/data_table.ipynb>data table notebook</a>'\n",
       "            + ' to learn more about interactive tables.';\n",
       "          element.innerHTML = '';\n",
       "          dataTable['output_type'] = 'display_data';\n",
       "          await google.colab.output.renderOutput(dataTable, element);\n",
       "          const docLink = document.createElement('div');\n",
       "          docLink.innerHTML = docLinkHtml;\n",
       "          element.appendChild(docLink);\n",
       "        }\n",
       "      </script>\n",
       "    </div>\n",
       "  </div>\n",
       "  "
      ],
      "text/plain": [
       "   Unnamed: 0           artist_name            track_name  release_date genre  \\\n",
       "0           0                mukesh  mohabbat bhi jhoothi          1950   pop   \n",
       "1           4         frankie laine             i believe          1950   pop   \n",
       "2           6           johnnie ray                   cry          1950   pop   \n",
       "3          10           pérez prado              patricia          1950   pop   \n",
       "4          12  giorgos papadopoulos    apopse eida oneiro          1950   pop   \n",
       "\n",
       "                                              lyrics  len    dating  violence  \\\n",
       "0  hold time feel break feel untrue convince spea...   95  0.000598  0.063746   \n",
       "1  believe drop rain fall grow believe darkest ni...   51  0.035537  0.096777   \n",
       "2  sweetheart send letter goodbye secret feel bet...   24  0.002770  0.002770   \n",
       "3  kiss lips want stroll charm mambo chacha merin...   54  0.048249  0.001548   \n",
       "4  till darling till matter know till dream live ...   48  0.001350  0.001350   \n",
       "\n",
       "   world/life  ...   sadness  feelings  danceability  loudness  acousticness  \\\n",
       "0    0.000598  ...  0.380299  0.117175      0.357739  0.454119      0.997992   \n",
       "1    0.443435  ...  0.001284  0.001284      0.331745  0.647540      0.954819   \n",
       "2    0.002770  ...  0.002770  0.225422      0.456298  0.585288      0.840361   \n",
       "3    0.001548  ...  0.225889  0.001548      0.686992  0.744404      0.083935   \n",
       "4    0.417772  ...  0.068800  0.001350      0.291671  0.646489      0.975904   \n",
       "\n",
       "   instrumentalness   valence    energy       topic  age  \n",
       "0          0.901822  0.339448  0.137110     sadness  1.0  \n",
       "1          0.000002  0.325021  0.263240  world/life  1.0  \n",
       "2          0.000000  0.351814  0.139112       music  1.0  \n",
       "3          0.199393  0.775350  0.743736    romantic  1.0  \n",
       "4          0.000246  0.597073  0.394375    romantic  1.0  \n",
       "\n",
       "[5 rows x 31 columns]"
      ]
     },
     "execution_count": 5,
     "metadata": {},
     "output_type": "execute_result"
    }
   ],
   "source": [
    "import pandas as pd\n",
    "df = pd.read_csv(filepath+'data/tcc_ceds_music.csv')\n",
    "df.head()"
   ]
  },
  {
   "cell_type": "code",
   "execution_count": null,
   "metadata": {
    "colab": {
     "base_uri": "https://localhost:8080/"
    },
    "executionInfo": {
     "elapsed": 711,
     "status": "ok",
     "timestamp": 1654095851464,
     "user": {
      "displayName": "Giorgia Gossi",
      "userId": "12769328602676688820"
     },
     "user_tz": -120
    },
    "id": "T_p16YDBTizt",
    "outputId": "5589d5af-0349-4b8d-b90b-fcc2e56cb7c3"
   },
   "outputs": [
    {
     "data": {
      "text/plain": [
       "Unnamed: 0                  0\n",
       "artist_name                 0\n",
       "track_name                  0\n",
       "release_date                0\n",
       "genre                       0\n",
       "lyrics                      0\n",
       "len                         0\n",
       "dating                      0\n",
       "violence                    0\n",
       "world/life                  0\n",
       "night/time                  0\n",
       "shake the audience          0\n",
       "family/gospel               0\n",
       "romantic                    0\n",
       "communication               0\n",
       "obscene                     0\n",
       "music                       0\n",
       "movement/places             0\n",
       "light/visual perceptions    0\n",
       "family/spiritual            0\n",
       "like/girls                  0\n",
       "sadness                     0\n",
       "feelings                    0\n",
       "danceability                0\n",
       "loudness                    0\n",
       "acousticness                0\n",
       "instrumentalness            0\n",
       "valence                     0\n",
       "energy                      0\n",
       "topic                       0\n",
       "age                         0\n",
       "dtype: int64"
      ]
     },
     "execution_count": 6,
     "metadata": {},
     "output_type": "execute_result"
    }
   ],
   "source": [
    "#controllo valori mancanti\n",
    "df.isna().sum()"
   ]
  },
  {
   "cell_type": "code",
   "execution_count": null,
   "metadata": {
    "colab": {
     "base_uri": "https://localhost:8080/"
    },
    "executionInfo": {
     "elapsed": 423,
     "status": "ok",
     "timestamp": 1654095853465,
     "user": {
      "displayName": "Giorgia Gossi",
      "userId": "12769328602676688820"
     },
     "user_tz": -120
    },
    "id": "5hQGd89UUjn4",
    "outputId": "de932abb-9c8d-4f57-c555-7d8bfa359edc"
   },
   "outputs": [
    {
     "data": {
      "text/plain": [
       "sadness       6096\n",
       "violence      5710\n",
       "world/life    5420\n",
       "obscene       4882\n",
       "music         2303\n",
       "night/time    1825\n",
       "romantic      1524\n",
       "feelings       612\n",
       "Name: topic, dtype: int64"
      ]
     },
     "execution_count": 7,
     "metadata": {},
     "output_type": "execute_result"
    }
   ],
   "source": [
    "#valori unici del target\n",
    "df.topic.value_counts()"
   ]
  },
  {
   "cell_type": "markdown",
   "metadata": {
    "id": "C6nBH8iRUqnc"
   },
   "source": [
    "Raggruppiamo i due livelli word/life e feeling in unico livello 'life' (tot. 7 livelli)\n"
   ]
  },
  {
   "cell_type": "code",
   "execution_count": null,
   "metadata": {
    "colab": {
     "base_uri": "https://localhost:8080/",
     "height": 1000
    },
    "executionInfo": {
     "elapsed": 879,
     "status": "ok",
     "timestamp": 1654095856910,
     "user": {
      "displayName": "Giorgia Gossi",
      "userId": "12769328602676688820"
     },
     "user_tz": -120
    },
    "id": "1Gf1wPqXUsED",
    "outputId": "7848cf58-6e57-44cd-8c99-af5a97a3a22d"
   },
   "outputs": [
    {
     "data": {
      "text/html": [
       "\n",
       "  <div id=\"df-5ca023eb-52ae-4738-bdba-718e7167bdd5\">\n",
       "    <div class=\"colab-df-container\">\n",
       "      <div>\n",
       "<style scoped>\n",
       "    .dataframe tbody tr th:only-of-type {\n",
       "        vertical-align: middle;\n",
       "    }\n",
       "\n",
       "    .dataframe tbody tr th {\n",
       "        vertical-align: top;\n",
       "    }\n",
       "\n",
       "    .dataframe thead th {\n",
       "        text-align: right;\n",
       "    }\n",
       "</style>\n",
       "<table border=\"1\" class=\"dataframe\">\n",
       "  <thead>\n",
       "    <tr style=\"text-align: right;\">\n",
       "      <th></th>\n",
       "      <th>Unnamed: 0</th>\n",
       "      <th>artist_name</th>\n",
       "      <th>track_name</th>\n",
       "      <th>release_date</th>\n",
       "      <th>genre</th>\n",
       "      <th>lyrics</th>\n",
       "      <th>len</th>\n",
       "      <th>dating</th>\n",
       "      <th>violence</th>\n",
       "      <th>world/life</th>\n",
       "      <th>...</th>\n",
       "      <th>feelings</th>\n",
       "      <th>danceability</th>\n",
       "      <th>loudness</th>\n",
       "      <th>acousticness</th>\n",
       "      <th>instrumentalness</th>\n",
       "      <th>valence</th>\n",
       "      <th>energy</th>\n",
       "      <th>topic</th>\n",
       "      <th>age</th>\n",
       "      <th>new_topic</th>\n",
       "    </tr>\n",
       "  </thead>\n",
       "  <tbody>\n",
       "    <tr>\n",
       "      <th>0</th>\n",
       "      <td>0</td>\n",
       "      <td>mukesh</td>\n",
       "      <td>mohabbat bhi jhoothi</td>\n",
       "      <td>1950</td>\n",
       "      <td>pop</td>\n",
       "      <td>hold time feel break feel untrue convince spea...</td>\n",
       "      <td>95</td>\n",
       "      <td>0.000598</td>\n",
       "      <td>0.063746</td>\n",
       "      <td>0.000598</td>\n",
       "      <td>...</td>\n",
       "      <td>0.117175</td>\n",
       "      <td>0.357739</td>\n",
       "      <td>0.454119</td>\n",
       "      <td>0.997992</td>\n",
       "      <td>0.901822</td>\n",
       "      <td>0.339448</td>\n",
       "      <td>0.137110</td>\n",
       "      <td>sadness</td>\n",
       "      <td>1.000000</td>\n",
       "      <td>sadness</td>\n",
       "    </tr>\n",
       "    <tr>\n",
       "      <th>1</th>\n",
       "      <td>4</td>\n",
       "      <td>frankie laine</td>\n",
       "      <td>i believe</td>\n",
       "      <td>1950</td>\n",
       "      <td>pop</td>\n",
       "      <td>believe drop rain fall grow believe darkest ni...</td>\n",
       "      <td>51</td>\n",
       "      <td>0.035537</td>\n",
       "      <td>0.096777</td>\n",
       "      <td>0.443435</td>\n",
       "      <td>...</td>\n",
       "      <td>0.001284</td>\n",
       "      <td>0.331745</td>\n",
       "      <td>0.647540</td>\n",
       "      <td>0.954819</td>\n",
       "      <td>0.000002</td>\n",
       "      <td>0.325021</td>\n",
       "      <td>0.263240</td>\n",
       "      <td>world/life</td>\n",
       "      <td>1.000000</td>\n",
       "      <td>life</td>\n",
       "    </tr>\n",
       "    <tr>\n",
       "      <th>2</th>\n",
       "      <td>6</td>\n",
       "      <td>johnnie ray</td>\n",
       "      <td>cry</td>\n",
       "      <td>1950</td>\n",
       "      <td>pop</td>\n",
       "      <td>sweetheart send letter goodbye secret feel bet...</td>\n",
       "      <td>24</td>\n",
       "      <td>0.002770</td>\n",
       "      <td>0.002770</td>\n",
       "      <td>0.002770</td>\n",
       "      <td>...</td>\n",
       "      <td>0.225422</td>\n",
       "      <td>0.456298</td>\n",
       "      <td>0.585288</td>\n",
       "      <td>0.840361</td>\n",
       "      <td>0.000000</td>\n",
       "      <td>0.351814</td>\n",
       "      <td>0.139112</td>\n",
       "      <td>music</td>\n",
       "      <td>1.000000</td>\n",
       "      <td>music</td>\n",
       "    </tr>\n",
       "    <tr>\n",
       "      <th>3</th>\n",
       "      <td>10</td>\n",
       "      <td>pérez prado</td>\n",
       "      <td>patricia</td>\n",
       "      <td>1950</td>\n",
       "      <td>pop</td>\n",
       "      <td>kiss lips want stroll charm mambo chacha merin...</td>\n",
       "      <td>54</td>\n",
       "      <td>0.048249</td>\n",
       "      <td>0.001548</td>\n",
       "      <td>0.001548</td>\n",
       "      <td>...</td>\n",
       "      <td>0.001548</td>\n",
       "      <td>0.686992</td>\n",
       "      <td>0.744404</td>\n",
       "      <td>0.083935</td>\n",
       "      <td>0.199393</td>\n",
       "      <td>0.775350</td>\n",
       "      <td>0.743736</td>\n",
       "      <td>romantic</td>\n",
       "      <td>1.000000</td>\n",
       "      <td>romantic</td>\n",
       "    </tr>\n",
       "    <tr>\n",
       "      <th>4</th>\n",
       "      <td>12</td>\n",
       "      <td>giorgos papadopoulos</td>\n",
       "      <td>apopse eida oneiro</td>\n",
       "      <td>1950</td>\n",
       "      <td>pop</td>\n",
       "      <td>till darling till matter know till dream live ...</td>\n",
       "      <td>48</td>\n",
       "      <td>0.001350</td>\n",
       "      <td>0.001350</td>\n",
       "      <td>0.417772</td>\n",
       "      <td>...</td>\n",
       "      <td>0.001350</td>\n",
       "      <td>0.291671</td>\n",
       "      <td>0.646489</td>\n",
       "      <td>0.975904</td>\n",
       "      <td>0.000246</td>\n",
       "      <td>0.597073</td>\n",
       "      <td>0.394375</td>\n",
       "      <td>romantic</td>\n",
       "      <td>1.000000</td>\n",
       "      <td>romantic</td>\n",
       "    </tr>\n",
       "    <tr>\n",
       "      <th>...</th>\n",
       "      <td>...</td>\n",
       "      <td>...</td>\n",
       "      <td>...</td>\n",
       "      <td>...</td>\n",
       "      <td>...</td>\n",
       "      <td>...</td>\n",
       "      <td>...</td>\n",
       "      <td>...</td>\n",
       "      <td>...</td>\n",
       "      <td>...</td>\n",
       "      <td>...</td>\n",
       "      <td>...</td>\n",
       "      <td>...</td>\n",
       "      <td>...</td>\n",
       "      <td>...</td>\n",
       "      <td>...</td>\n",
       "      <td>...</td>\n",
       "      <td>...</td>\n",
       "      <td>...</td>\n",
       "      <td>...</td>\n",
       "      <td>...</td>\n",
       "    </tr>\n",
       "    <tr>\n",
       "      <th>28367</th>\n",
       "      <td>82447</td>\n",
       "      <td>mack 10</td>\n",
       "      <td>10 million ways</td>\n",
       "      <td>2019</td>\n",
       "      <td>hip hop</td>\n",
       "      <td>cause fuck leave scar tick tock clock come kno...</td>\n",
       "      <td>78</td>\n",
       "      <td>0.001350</td>\n",
       "      <td>0.001350</td>\n",
       "      <td>0.001350</td>\n",
       "      <td>...</td>\n",
       "      <td>0.001350</td>\n",
       "      <td>0.889527</td>\n",
       "      <td>0.759711</td>\n",
       "      <td>0.062549</td>\n",
       "      <td>0.000000</td>\n",
       "      <td>0.751649</td>\n",
       "      <td>0.695686</td>\n",
       "      <td>obscene</td>\n",
       "      <td>0.014286</td>\n",
       "      <td>obscene</td>\n",
       "    </tr>\n",
       "    <tr>\n",
       "      <th>28368</th>\n",
       "      <td>82448</td>\n",
       "      <td>m.o.p.</td>\n",
       "      <td>ante up (robbin hoodz theory)</td>\n",
       "      <td>2019</td>\n",
       "      <td>hip hop</td>\n",
       "      <td>minks things chain ring braclets yap fame come...</td>\n",
       "      <td>67</td>\n",
       "      <td>0.001284</td>\n",
       "      <td>0.001284</td>\n",
       "      <td>0.035338</td>\n",
       "      <td>...</td>\n",
       "      <td>0.001284</td>\n",
       "      <td>0.662082</td>\n",
       "      <td>0.789580</td>\n",
       "      <td>0.004607</td>\n",
       "      <td>0.000002</td>\n",
       "      <td>0.922712</td>\n",
       "      <td>0.797791</td>\n",
       "      <td>obscene</td>\n",
       "      <td>0.014286</td>\n",
       "      <td>obscene</td>\n",
       "    </tr>\n",
       "    <tr>\n",
       "      <th>28369</th>\n",
       "      <td>82449</td>\n",
       "      <td>nine</td>\n",
       "      <td>whutcha want?</td>\n",
       "      <td>2019</td>\n",
       "      <td>hip hop</td>\n",
       "      <td>get ban get ban stick crack relax plan attack ...</td>\n",
       "      <td>77</td>\n",
       "      <td>0.001504</td>\n",
       "      <td>0.154302</td>\n",
       "      <td>0.168988</td>\n",
       "      <td>...</td>\n",
       "      <td>0.001504</td>\n",
       "      <td>0.663165</td>\n",
       "      <td>0.726970</td>\n",
       "      <td>0.104417</td>\n",
       "      <td>0.000001</td>\n",
       "      <td>0.838211</td>\n",
       "      <td>0.767761</td>\n",
       "      <td>obscene</td>\n",
       "      <td>0.014286</td>\n",
       "      <td>obscene</td>\n",
       "    </tr>\n",
       "    <tr>\n",
       "      <th>28370</th>\n",
       "      <td>82450</td>\n",
       "      <td>will smith</td>\n",
       "      <td>switch</td>\n",
       "      <td>2019</td>\n",
       "      <td>hip hop</td>\n",
       "      <td>check check yeah yeah hear thing call switch g...</td>\n",
       "      <td>67</td>\n",
       "      <td>0.001196</td>\n",
       "      <td>0.001196</td>\n",
       "      <td>0.001196</td>\n",
       "      <td>...</td>\n",
       "      <td>0.001196</td>\n",
       "      <td>0.883028</td>\n",
       "      <td>0.786888</td>\n",
       "      <td>0.007027</td>\n",
       "      <td>0.000503</td>\n",
       "      <td>0.508450</td>\n",
       "      <td>0.885882</td>\n",
       "      <td>obscene</td>\n",
       "      <td>0.014286</td>\n",
       "      <td>obscene</td>\n",
       "    </tr>\n",
       "    <tr>\n",
       "      <th>28371</th>\n",
       "      <td>82451</td>\n",
       "      <td>jeezy</td>\n",
       "      <td>r.i.p.</td>\n",
       "      <td>2019</td>\n",
       "      <td>hip hop</td>\n",
       "      <td>remix killer alive remix thriller trap bitch s...</td>\n",
       "      <td>83</td>\n",
       "      <td>0.001012</td>\n",
       "      <td>0.075202</td>\n",
       "      <td>0.001012</td>\n",
       "      <td>...</td>\n",
       "      <td>0.033995</td>\n",
       "      <td>0.828875</td>\n",
       "      <td>0.674794</td>\n",
       "      <td>0.015862</td>\n",
       "      <td>0.000000</td>\n",
       "      <td>0.475474</td>\n",
       "      <td>0.492477</td>\n",
       "      <td>obscene</td>\n",
       "      <td>0.014286</td>\n",
       "      <td>obscene</td>\n",
       "    </tr>\n",
       "  </tbody>\n",
       "</table>\n",
       "<p>28372 rows × 32 columns</p>\n",
       "</div>\n",
       "      <button class=\"colab-df-convert\" onclick=\"convertToInteractive('df-5ca023eb-52ae-4738-bdba-718e7167bdd5')\"\n",
       "              title=\"Convert this dataframe to an interactive table.\"\n",
       "              style=\"display:none;\">\n",
       "        \n",
       "  <svg xmlns=\"http://www.w3.org/2000/svg\" height=\"24px\"viewBox=\"0 0 24 24\"\n",
       "       width=\"24px\">\n",
       "    <path d=\"M0 0h24v24H0V0z\" fill=\"none\"/>\n",
       "    <path d=\"M18.56 5.44l.94 2.06.94-2.06 2.06-.94-2.06-.94-.94-2.06-.94 2.06-2.06.94zm-11 1L8.5 8.5l.94-2.06 2.06-.94-2.06-.94L8.5 2.5l-.94 2.06-2.06.94zm10 10l.94 2.06.94-2.06 2.06-.94-2.06-.94-.94-2.06-.94 2.06-2.06.94z\"/><path d=\"M17.41 7.96l-1.37-1.37c-.4-.4-.92-.59-1.43-.59-.52 0-1.04.2-1.43.59L10.3 9.45l-7.72 7.72c-.78.78-.78 2.05 0 2.83L4 21.41c.39.39.9.59 1.41.59.51 0 1.02-.2 1.41-.59l7.78-7.78 2.81-2.81c.8-.78.8-2.07 0-2.86zM5.41 20L4 18.59l7.72-7.72 1.47 1.35L5.41 20z\"/>\n",
       "  </svg>\n",
       "      </button>\n",
       "      \n",
       "  <style>\n",
       "    .colab-df-container {\n",
       "      display:flex;\n",
       "      flex-wrap:wrap;\n",
       "      gap: 12px;\n",
       "    }\n",
       "\n",
       "    .colab-df-convert {\n",
       "      background-color: #E8F0FE;\n",
       "      border: none;\n",
       "      border-radius: 50%;\n",
       "      cursor: pointer;\n",
       "      display: none;\n",
       "      fill: #1967D2;\n",
       "      height: 32px;\n",
       "      padding: 0 0 0 0;\n",
       "      width: 32px;\n",
       "    }\n",
       "\n",
       "    .colab-df-convert:hover {\n",
       "      background-color: #E2EBFA;\n",
       "      box-shadow: 0px 1px 2px rgba(60, 64, 67, 0.3), 0px 1px 3px 1px rgba(60, 64, 67, 0.15);\n",
       "      fill: #174EA6;\n",
       "    }\n",
       "\n",
       "    [theme=dark] .colab-df-convert {\n",
       "      background-color: #3B4455;\n",
       "      fill: #D2E3FC;\n",
       "    }\n",
       "\n",
       "    [theme=dark] .colab-df-convert:hover {\n",
       "      background-color: #434B5C;\n",
       "      box-shadow: 0px 1px 3px 1px rgba(0, 0, 0, 0.15);\n",
       "      filter: drop-shadow(0px 1px 2px rgba(0, 0, 0, 0.3));\n",
       "      fill: #FFFFFF;\n",
       "    }\n",
       "  </style>\n",
       "\n",
       "      <script>\n",
       "        const buttonEl =\n",
       "          document.querySelector('#df-5ca023eb-52ae-4738-bdba-718e7167bdd5 button.colab-df-convert');\n",
       "        buttonEl.style.display =\n",
       "          google.colab.kernel.accessAllowed ? 'block' : 'none';\n",
       "\n",
       "        async function convertToInteractive(key) {\n",
       "          const element = document.querySelector('#df-5ca023eb-52ae-4738-bdba-718e7167bdd5');\n",
       "          const dataTable =\n",
       "            await google.colab.kernel.invokeFunction('convertToInteractive',\n",
       "                                                     [key], {});\n",
       "          if (!dataTable) return;\n",
       "\n",
       "          const docLinkHtml = 'Like what you see? Visit the ' +\n",
       "            '<a target=\"_blank\" href=https://colab.research.google.com/notebooks/data_table.ipynb>data table notebook</a>'\n",
       "            + ' to learn more about interactive tables.';\n",
       "          element.innerHTML = '';\n",
       "          dataTable['output_type'] = 'display_data';\n",
       "          await google.colab.output.renderOutput(dataTable, element);\n",
       "          const docLink = document.createElement('div');\n",
       "          docLink.innerHTML = docLinkHtml;\n",
       "          element.appendChild(docLink);\n",
       "        }\n",
       "      </script>\n",
       "    </div>\n",
       "  </div>\n",
       "  "
      ],
      "text/plain": [
       "       Unnamed: 0           artist_name                     track_name  \\\n",
       "0               0                mukesh           mohabbat bhi jhoothi   \n",
       "1               4         frankie laine                      i believe   \n",
       "2               6           johnnie ray                            cry   \n",
       "3              10           pérez prado                       patricia   \n",
       "4              12  giorgos papadopoulos             apopse eida oneiro   \n",
       "...           ...                   ...                            ...   \n",
       "28367       82447               mack 10                10 million ways   \n",
       "28368       82448                m.o.p.  ante up (robbin hoodz theory)   \n",
       "28369       82449                  nine                  whutcha want?   \n",
       "28370       82450            will smith                         switch   \n",
       "28371       82451                 jeezy                         r.i.p.   \n",
       "\n",
       "       release_date    genre  \\\n",
       "0              1950      pop   \n",
       "1              1950      pop   \n",
       "2              1950      pop   \n",
       "3              1950      pop   \n",
       "4              1950      pop   \n",
       "...             ...      ...   \n",
       "28367          2019  hip hop   \n",
       "28368          2019  hip hop   \n",
       "28369          2019  hip hop   \n",
       "28370          2019  hip hop   \n",
       "28371          2019  hip hop   \n",
       "\n",
       "                                                  lyrics  len    dating  \\\n",
       "0      hold time feel break feel untrue convince spea...   95  0.000598   \n",
       "1      believe drop rain fall grow believe darkest ni...   51  0.035537   \n",
       "2      sweetheart send letter goodbye secret feel bet...   24  0.002770   \n",
       "3      kiss lips want stroll charm mambo chacha merin...   54  0.048249   \n",
       "4      till darling till matter know till dream live ...   48  0.001350   \n",
       "...                                                  ...  ...       ...   \n",
       "28367  cause fuck leave scar tick tock clock come kno...   78  0.001350   \n",
       "28368  minks things chain ring braclets yap fame come...   67  0.001284   \n",
       "28369  get ban get ban stick crack relax plan attack ...   77  0.001504   \n",
       "28370  check check yeah yeah hear thing call switch g...   67  0.001196   \n",
       "28371  remix killer alive remix thriller trap bitch s...   83  0.001012   \n",
       "\n",
       "       violence  world/life  ...  feelings  danceability  loudness  \\\n",
       "0      0.063746    0.000598  ...  0.117175      0.357739  0.454119   \n",
       "1      0.096777    0.443435  ...  0.001284      0.331745  0.647540   \n",
       "2      0.002770    0.002770  ...  0.225422      0.456298  0.585288   \n",
       "3      0.001548    0.001548  ...  0.001548      0.686992  0.744404   \n",
       "4      0.001350    0.417772  ...  0.001350      0.291671  0.646489   \n",
       "...         ...         ...  ...       ...           ...       ...   \n",
       "28367  0.001350    0.001350  ...  0.001350      0.889527  0.759711   \n",
       "28368  0.001284    0.035338  ...  0.001284      0.662082  0.789580   \n",
       "28369  0.154302    0.168988  ...  0.001504      0.663165  0.726970   \n",
       "28370  0.001196    0.001196  ...  0.001196      0.883028  0.786888   \n",
       "28371  0.075202    0.001012  ...  0.033995      0.828875  0.674794   \n",
       "\n",
       "       acousticness  instrumentalness   valence    energy       topic  \\\n",
       "0          0.997992          0.901822  0.339448  0.137110     sadness   \n",
       "1          0.954819          0.000002  0.325021  0.263240  world/life   \n",
       "2          0.840361          0.000000  0.351814  0.139112       music   \n",
       "3          0.083935          0.199393  0.775350  0.743736    romantic   \n",
       "4          0.975904          0.000246  0.597073  0.394375    romantic   \n",
       "...             ...               ...       ...       ...         ...   \n",
       "28367      0.062549          0.000000  0.751649  0.695686     obscene   \n",
       "28368      0.004607          0.000002  0.922712  0.797791     obscene   \n",
       "28369      0.104417          0.000001  0.838211  0.767761     obscene   \n",
       "28370      0.007027          0.000503  0.508450  0.885882     obscene   \n",
       "28371      0.015862          0.000000  0.475474  0.492477     obscene   \n",
       "\n",
       "            age  new_topic  \n",
       "0      1.000000    sadness  \n",
       "1      1.000000       life  \n",
       "2      1.000000      music  \n",
       "3      1.000000   romantic  \n",
       "4      1.000000   romantic  \n",
       "...         ...        ...  \n",
       "28367  0.014286    obscene  \n",
       "28368  0.014286    obscene  \n",
       "28369  0.014286    obscene  \n",
       "28370  0.014286    obscene  \n",
       "28371  0.014286    obscene  \n",
       "\n",
       "[28372 rows x 32 columns]"
      ]
     },
     "execution_count": 8,
     "metadata": {},
     "output_type": "execute_result"
    }
   ],
   "source": [
    "def raggruppamento(row):\n",
    "  if row['topic'] == 'world/life':\n",
    "    value = 'life' \n",
    "  elif row['topic'] == 'feelings':\n",
    "    value = 'life'\n",
    "  else:\n",
    "    value = row['topic']\n",
    "  return value \n",
    "\n",
    "df['new_topic'] = df.apply(raggruppamento, axis=1)\n",
    "df"
   ]
  },
  {
   "cell_type": "code",
   "execution_count": null,
   "metadata": {
    "colab": {
     "base_uri": "https://localhost:8080/"
    },
    "executionInfo": {
     "elapsed": 291,
     "status": "ok",
     "timestamp": 1654095860514,
     "user": {
      "displayName": "Giorgia Gossi",
      "userId": "12769328602676688820"
     },
     "user_tz": -120
    },
    "id": "32RftWU1U8eH",
    "outputId": "389ab776-5b7f-48c2-cb51-178ecea33436"
   },
   "outputs": [
    {
     "data": {
      "text/plain": [
       "sadness       6096\n",
       "life          6032\n",
       "violence      5710\n",
       "obscene       4882\n",
       "music         2303\n",
       "night/time    1825\n",
       "romantic      1524\n",
       "Name: new_topic, dtype: int64"
      ]
     },
     "execution_count": 9,
     "metadata": {},
     "output_type": "execute_result"
    }
   ],
   "source": [
    "df.new_topic.value_counts()"
   ]
  },
  {
   "cell_type": "code",
   "execution_count": null,
   "metadata": {
    "id": "xoPeNuRkCY1Y"
   },
   "outputs": [],
   "source": [
    "#definiamo la colonna con tutti i testi raw delle canzoni\n",
    "raw_text = df['lyrics']"
   ]
  },
  {
   "cell_type": "markdown",
   "metadata": {
    "id": "k5pj6DiKQRST"
   },
   "source": [
    "### Pre-process e pulizia del testo"
   ]
  },
  {
   "cell_type": "code",
   "execution_count": null,
   "metadata": {
    "colab": {
     "base_uri": "https://localhost:8080/",
     "height": 140
    },
    "executionInfo": {
     "elapsed": 277,
     "status": "ok",
     "timestamp": 1654095863695,
     "user": {
      "displayName": "Giorgia Gossi",
      "userId": "12769328602676688820"
     },
     "user_tz": -120
    },
    "id": "G4DZ8GLDMBtx",
    "outputId": "2065c747-4625-4219-d947-75f549acdbe2"
   },
   "outputs": [
    {
     "data": {
      "application/vnd.google.colaboratory.intrinsic+json": {
       "type": "string"
      },
      "text/plain": [
       "'hold time feel break feel untrue convince speak voice tear try hold hurt try forgive okay play break string feel heart want feel tell real truth hurt lie worse anymore little turn dust play house ruin run leave save like chase train late late tear try hold hurt try forgive okay play break string feel heart want feel tell real truth hurt lie worse anymore little run leave save like chase train know late late play break string feel heart want feel tell real truth hurt lie worse anymore little know little hold time feel'"
      ]
     },
     "execution_count": 11,
     "metadata": {},
     "output_type": "execute_result"
    }
   ],
   "source": [
    "raw_text[0]\n",
    "# testo già parzialmente pulito "
   ]
  },
  {
   "cell_type": "code",
   "execution_count": null,
   "metadata": {
    "colab": {
     "base_uri": "https://localhost:8080/"
    },
    "executionInfo": {
     "elapsed": 1360,
     "status": "ok",
     "timestamp": 1654095866431,
     "user": {
      "displayName": "Giorgia Gossi",
      "userId": "12769328602676688820"
     },
     "user_tz": -120
    },
    "id": "cbnNeyxcDOxM",
    "outputId": "fa032811-a5c8-495b-9f40-7eac248b697e"
   },
   "outputs": [
    {
     "name": "stdout",
     "output_type": "stream",
     "text": [
      "[nltk_data] Downloading package wordnet to /root/nltk_data...\n",
      "[nltk_data]   Unzipping corpora/wordnet.zip.\n",
      "[nltk_data] Downloading package stopwords to /root/nltk_data...\n",
      "[nltk_data]   Unzipping corpora/stopwords.zip.\n"
     ]
    },
    {
     "data": {
      "text/plain": [
       "True"
      ]
     },
     "execution_count": 12,
     "metadata": {},
     "output_type": "execute_result"
    }
   ],
   "source": [
    "import nltk\n",
    "nltk.download('wordnet')\n",
    "nltk.download('stopwords')"
   ]
  },
  {
   "cell_type": "markdown",
   "metadata": {
    "id": "VT7AFakRR9IW"
   },
   "source": [
    "Lemmatization"
   ]
  },
  {
   "cell_type": "code",
   "execution_count": null,
   "metadata": {
    "colab": {
     "base_uri": "https://localhost:8080/"
    },
    "executionInfo": {
     "elapsed": 12343,
     "status": "ok",
     "timestamp": 1654095880439,
     "user": {
      "displayName": "Giorgia Gossi",
      "userId": "12769328602676688820"
     },
     "user_tz": -120
    },
    "id": "h_ZlQGNoC2Ke",
    "outputId": "ae9e2189-f98a-4cdb-f467-ae5322176f22"
   },
   "outputs": [
    {
     "name": "stdout",
     "output_type": "stream",
     "text": [
      "CPU times: user 10.5 s, sys: 142 ms, total: 10.7 s\n",
      "Wall time: 10.7 s\n"
     ]
    },
    {
     "data": {
      "text/plain": [
       "0    [hold, time, feel, break, feel, untrue, convin...\n",
       "1    [believe, drop, rain, fall, grow, believe, dar...\n",
       "2    [sweetheart, send, letter, goodbye, secret, fe...\n",
       "3    [kiss, lip, want, stroll, charm, mambo, chacha...\n",
       "4    [till, darling, till, matter, know, till, drea...\n",
       "Name: lyrics, dtype: object"
      ]
     },
     "execution_count": 13,
     "metadata": {},
     "output_type": "execute_result"
    }
   ],
   "source": [
    "from tqdm import tqdm\n",
    "from nltk.stem import WordNetLemmatizer\n",
    "lemmatizer = WordNetLemmatizer()\n",
    "\n",
    "text = raw_text.str.lower().str.replace('[^\\w\\s\\d]',' ', regex=True) # \\d tiene anche i caratteri numerici\n",
    "text = text.str.split()\n",
    "%time text = text.apply(lambda x: [lemmatizer.lemmatize(sent) for sent in x])\n",
    "for row in text:\n",
    "    [row.remove(i) for i in row if len(i) < 2]\n",
    "text.head()\n",
    "#output: insieme di liste di parole"
   ]
  },
  {
   "cell_type": "markdown",
   "metadata": {
    "id": "worUOOQgSNuz"
   },
   "source": [
    "N-gram e Bi-gram"
   ]
  },
  {
   "cell_type": "code",
   "execution_count": null,
   "metadata": {
    "colab": {
     "base_uri": "https://localhost:8080/",
     "height": 501
    },
    "executionInfo": {
     "elapsed": 33,
     "status": "error",
     "timestamp": 1654095880443,
     "user": {
      "displayName": "Giorgia Gossi",
      "userId": "12769328602676688820"
     },
     "user_tz": -120
    },
    "id": "3Edgw1yODLhL",
    "outputId": "8ce6dad7-d0ae-4bc6-a54a-7312e337b86d"
   },
   "outputs": [
    {
     "ename": "TypeError",
     "evalue": "ignored",
     "output_type": "error",
     "traceback": [
      "\u001b[0;31m---------------------------------------------------------------------------\u001b[0m",
      "\u001b[0;31mTypeError\u001b[0m                                 Traceback (most recent call last)",
      "\u001b[0;32m<ipython-input-14-f539ca1c63f1>\u001b[0m in \u001b[0;36m<module>\u001b[0;34m()\u001b[0m\n\u001b[1;32m      4\u001b[0m \u001b[0;34m\u001b[0m\u001b[0m\n\u001b[1;32m      5\u001b[0m \u001b[0;31m# bigram = Phrases(text, min_count=5, threshold=0.2, connector_words=connectors) #gensim 4\u001b[0m\u001b[0;34m\u001b[0m\u001b[0;34m\u001b[0m\u001b[0;34m\u001b[0m\u001b[0m\n\u001b[0;32m----> 6\u001b[0;31m \u001b[0mget_ipython\u001b[0m\u001b[0;34m(\u001b[0m\u001b[0;34m)\u001b[0m\u001b[0;34m.\u001b[0m\u001b[0mmagic\u001b[0m\u001b[0;34m(\u001b[0m\u001b[0;34m'time bigram = Phrases(text, min_count=5, threshold=0.2, common_terms=connectors) #gensim 3'\u001b[0m\u001b[0;34m)\u001b[0m\u001b[0;34m\u001b[0m\u001b[0;34m\u001b[0m\u001b[0m\n\u001b[0m\u001b[1;32m      7\u001b[0m \u001b[0mget_ipython\u001b[0m\u001b[0;34m(\u001b[0m\u001b[0;34m)\u001b[0m\u001b[0;34m.\u001b[0m\u001b[0mmagic\u001b[0m\u001b[0;34m(\u001b[0m\u001b[0;34m'time bigrams = [bigram[item] for item in text]'\u001b[0m\u001b[0;34m)\u001b[0m\u001b[0;34m\u001b[0m\u001b[0;34m\u001b[0m\u001b[0m\n\u001b[1;32m      8\u001b[0m \u001b[0;34m\u001b[0m\u001b[0m\n",
      "\u001b[0;32m/usr/local/lib/python3.7/dist-packages/IPython/core/interactiveshell.py\u001b[0m in \u001b[0;36mmagic\u001b[0;34m(self, arg_s)\u001b[0m\n\u001b[1;32m   2158\u001b[0m         \u001b[0mmagic_name\u001b[0m\u001b[0;34m,\u001b[0m \u001b[0m_\u001b[0m\u001b[0;34m,\u001b[0m \u001b[0mmagic_arg_s\u001b[0m \u001b[0;34m=\u001b[0m \u001b[0marg_s\u001b[0m\u001b[0;34m.\u001b[0m\u001b[0mpartition\u001b[0m\u001b[0;34m(\u001b[0m\u001b[0;34m' '\u001b[0m\u001b[0;34m)\u001b[0m\u001b[0;34m\u001b[0m\u001b[0;34m\u001b[0m\u001b[0m\n\u001b[1;32m   2159\u001b[0m         \u001b[0mmagic_name\u001b[0m \u001b[0;34m=\u001b[0m \u001b[0mmagic_name\u001b[0m\u001b[0;34m.\u001b[0m\u001b[0mlstrip\u001b[0m\u001b[0;34m(\u001b[0m\u001b[0mprefilter\u001b[0m\u001b[0;34m.\u001b[0m\u001b[0mESC_MAGIC\u001b[0m\u001b[0;34m)\u001b[0m\u001b[0;34m\u001b[0m\u001b[0;34m\u001b[0m\u001b[0m\n\u001b[0;32m-> 2160\u001b[0;31m         \u001b[0;32mreturn\u001b[0m \u001b[0mself\u001b[0m\u001b[0;34m.\u001b[0m\u001b[0mrun_line_magic\u001b[0m\u001b[0;34m(\u001b[0m\u001b[0mmagic_name\u001b[0m\u001b[0;34m,\u001b[0m \u001b[0mmagic_arg_s\u001b[0m\u001b[0;34m)\u001b[0m\u001b[0;34m\u001b[0m\u001b[0;34m\u001b[0m\u001b[0m\n\u001b[0m\u001b[1;32m   2161\u001b[0m \u001b[0;34m\u001b[0m\u001b[0m\n\u001b[1;32m   2162\u001b[0m     \u001b[0;31m#-------------------------------------------------------------------------\u001b[0m\u001b[0;34m\u001b[0m\u001b[0;34m\u001b[0m\u001b[0;34m\u001b[0m\u001b[0m\n",
      "\u001b[0;32m/usr/local/lib/python3.7/dist-packages/IPython/core/interactiveshell.py\u001b[0m in \u001b[0;36mrun_line_magic\u001b[0;34m(self, magic_name, line)\u001b[0m\n\u001b[1;32m   2079\u001b[0m                 \u001b[0mkwargs\u001b[0m\u001b[0;34m[\u001b[0m\u001b[0;34m'local_ns'\u001b[0m\u001b[0;34m]\u001b[0m \u001b[0;34m=\u001b[0m \u001b[0msys\u001b[0m\u001b[0;34m.\u001b[0m\u001b[0m_getframe\u001b[0m\u001b[0;34m(\u001b[0m\u001b[0mstack_depth\u001b[0m\u001b[0;34m)\u001b[0m\u001b[0;34m.\u001b[0m\u001b[0mf_locals\u001b[0m\u001b[0;34m\u001b[0m\u001b[0;34m\u001b[0m\u001b[0m\n\u001b[1;32m   2080\u001b[0m             \u001b[0;32mwith\u001b[0m \u001b[0mself\u001b[0m\u001b[0;34m.\u001b[0m\u001b[0mbuiltin_trap\u001b[0m\u001b[0;34m:\u001b[0m\u001b[0;34m\u001b[0m\u001b[0;34m\u001b[0m\u001b[0m\n\u001b[0;32m-> 2081\u001b[0;31m                 \u001b[0mresult\u001b[0m \u001b[0;34m=\u001b[0m \u001b[0mfn\u001b[0m\u001b[0;34m(\u001b[0m\u001b[0;34m*\u001b[0m\u001b[0margs\u001b[0m\u001b[0;34m,\u001b[0m\u001b[0;34m**\u001b[0m\u001b[0mkwargs\u001b[0m\u001b[0;34m)\u001b[0m\u001b[0;34m\u001b[0m\u001b[0;34m\u001b[0m\u001b[0m\n\u001b[0m\u001b[1;32m   2082\u001b[0m             \u001b[0;32mreturn\u001b[0m \u001b[0mresult\u001b[0m\u001b[0;34m\u001b[0m\u001b[0;34m\u001b[0m\u001b[0m\n\u001b[1;32m   2083\u001b[0m \u001b[0;34m\u001b[0m\u001b[0m\n",
      "\u001b[0;32m<decorator-gen-53>\u001b[0m in \u001b[0;36mtime\u001b[0;34m(self, line, cell, local_ns)\u001b[0m\n",
      "\u001b[0;32m/usr/local/lib/python3.7/dist-packages/IPython/core/magic.py\u001b[0m in \u001b[0;36m<lambda>\u001b[0;34m(f, *a, **k)\u001b[0m\n\u001b[1;32m    186\u001b[0m     \u001b[0;31m# but it's overkill for just that one bit of state.\u001b[0m\u001b[0;34m\u001b[0m\u001b[0;34m\u001b[0m\u001b[0;34m\u001b[0m\u001b[0m\n\u001b[1;32m    187\u001b[0m     \u001b[0;32mdef\u001b[0m \u001b[0mmagic_deco\u001b[0m\u001b[0;34m(\u001b[0m\u001b[0marg\u001b[0m\u001b[0;34m)\u001b[0m\u001b[0;34m:\u001b[0m\u001b[0;34m\u001b[0m\u001b[0;34m\u001b[0m\u001b[0m\n\u001b[0;32m--> 188\u001b[0;31m         \u001b[0mcall\u001b[0m \u001b[0;34m=\u001b[0m \u001b[0;32mlambda\u001b[0m \u001b[0mf\u001b[0m\u001b[0;34m,\u001b[0m \u001b[0;34m*\u001b[0m\u001b[0ma\u001b[0m\u001b[0;34m,\u001b[0m \u001b[0;34m**\u001b[0m\u001b[0mk\u001b[0m\u001b[0;34m:\u001b[0m \u001b[0mf\u001b[0m\u001b[0;34m(\u001b[0m\u001b[0;34m*\u001b[0m\u001b[0ma\u001b[0m\u001b[0;34m,\u001b[0m \u001b[0;34m**\u001b[0m\u001b[0mk\u001b[0m\u001b[0;34m)\u001b[0m\u001b[0;34m\u001b[0m\u001b[0;34m\u001b[0m\u001b[0m\n\u001b[0m\u001b[1;32m    189\u001b[0m \u001b[0;34m\u001b[0m\u001b[0m\n\u001b[1;32m    190\u001b[0m         \u001b[0;32mif\u001b[0m \u001b[0mcallable\u001b[0m\u001b[0;34m(\u001b[0m\u001b[0marg\u001b[0m\u001b[0;34m)\u001b[0m\u001b[0;34m:\u001b[0m\u001b[0;34m\u001b[0m\u001b[0;34m\u001b[0m\u001b[0m\n",
      "\u001b[0;32m/usr/local/lib/python3.7/dist-packages/IPython/core/magics/execution.py\u001b[0m in \u001b[0;36mtime\u001b[0;34m(self, line, cell, local_ns)\u001b[0m\n\u001b[1;32m   1191\u001b[0m         \u001b[0;32melse\u001b[0m\u001b[0;34m:\u001b[0m\u001b[0;34m\u001b[0m\u001b[0;34m\u001b[0m\u001b[0m\n\u001b[1;32m   1192\u001b[0m             \u001b[0mst\u001b[0m \u001b[0;34m=\u001b[0m \u001b[0mclock2\u001b[0m\u001b[0;34m(\u001b[0m\u001b[0;34m)\u001b[0m\u001b[0;34m\u001b[0m\u001b[0;34m\u001b[0m\u001b[0m\n\u001b[0;32m-> 1193\u001b[0;31m             \u001b[0mexec\u001b[0m\u001b[0;34m(\u001b[0m\u001b[0mcode\u001b[0m\u001b[0;34m,\u001b[0m \u001b[0mglob\u001b[0m\u001b[0;34m,\u001b[0m \u001b[0mlocal_ns\u001b[0m\u001b[0;34m)\u001b[0m\u001b[0;34m\u001b[0m\u001b[0;34m\u001b[0m\u001b[0m\n\u001b[0m\u001b[1;32m   1194\u001b[0m             \u001b[0mend\u001b[0m \u001b[0;34m=\u001b[0m \u001b[0mclock2\u001b[0m\u001b[0;34m(\u001b[0m\u001b[0;34m)\u001b[0m\u001b[0;34m\u001b[0m\u001b[0;34m\u001b[0m\u001b[0m\n\u001b[1;32m   1195\u001b[0m             \u001b[0mout\u001b[0m \u001b[0;34m=\u001b[0m \u001b[0;32mNone\u001b[0m\u001b[0;34m\u001b[0m\u001b[0;34m\u001b[0m\u001b[0m\n",
      "\u001b[0;32m<timed exec>\u001b[0m in \u001b[0;36m<module>\u001b[0;34m()\u001b[0m\n",
      "\u001b[0;31mTypeError\u001b[0m: __init__() got an unexpected keyword argument 'common_terms'"
     ]
    }
   ],
   "source": [
    "from gensim.models.phrases import Phrases\n",
    "from nltk.corpus import stopwords\n",
    "connectors = stopwords.words('english')\n",
    "\n",
    "# bigram = Phrases(text, min_count=5, threshold=0.2, connector_words=connectors) #gensim 4\n",
    "%time bigram = Phrases(text, min_count=5, threshold=0.2, common_terms=connectors) #gensim 3\n",
    "%time bigrams = [bigram[item] for item in text]\n",
    "\n",
    "# ngram = Phrases(bigrams, min_count=5, threshold=0.2, connector_words=connectors) # gensim 4\n",
    "%time ngram = Phrases(bigrams, min_count=5, threshold=0.2, common_terms=connectors) # gensim 3\n",
    "%time ngrams = [ngram[item] for item in bigrams]"
   ]
  },
  {
   "cell_type": "markdown",
   "metadata": {
    "id": "GIdf-V9NlKnq"
   },
   "source": [
    "Eliminiamo gli ngrams con parole uguali"
   ]
  },
  {
   "cell_type": "code",
   "execution_count": null,
   "metadata": {
    "id": "K2T0VrIPUab8"
   },
   "outputs": [],
   "source": [
    "controllo=[]\n",
    "for li in ngrams:\n",
    "  for el in li:\n",
    "    l=el.split('_')\n",
    "    if len(l)==2:\n",
    "      if l[0]==l[1]:\n",
    "        li.remove(el)\n",
    "        controllo.append(el)\n",
    "    elif len(l)==3:\n",
    "      if l[0]==l[1]==l[2]:\n",
    "        li.remove(el)\n",
    "        controllo.append(el)"
   ]
  },
  {
   "cell_type": "markdown",
   "metadata": {
    "id": "4ZDkG9ZoSfM6"
   },
   "source": [
    "Rimozione delle stopwords e aggiunta di n-grams "
   ]
  },
  {
   "cell_type": "code",
   "execution_count": null,
   "metadata": {
    "id": "uvoI_U02D9u9"
   },
   "outputs": [],
   "source": [
    "from nltk.corpus import stopwords\n",
    "stop = stopwords.words('english')\n",
    "stop.extend(['mmmmm', 'instrumental_break'])\n",
    "train_sentences = []\n",
    "for row in ngrams:\n",
    "    train_sentences.append([item for item in row if item not in stop])\n",
    "print(train_sentences[0]) "
   ]
  },
  {
   "cell_type": "markdown",
   "metadata": {
    "id": "JIV-xA5mVC08"
   },
   "source": [
    "Creiamo una lista di stringhe dove le parole sono separate dallo spazio "
   ]
  },
  {
   "cell_type": "code",
   "execution_count": null,
   "metadata": {
    "id": "EagxGn3IPo80"
   },
   "outputs": [],
   "source": [
    "train_sentences1=[]\n",
    "for el in train_sentences:\n",
    "    train_sentences1.append(' '.join(el))"
   ]
  },
  {
   "cell_type": "code",
   "execution_count": null,
   "metadata": {
    "colab": {
     "base_uri": "https://localhost:8080/",
     "height": 87
    },
    "executionInfo": {
     "elapsed": 197,
     "status": "ok",
     "timestamp": 1653309458124,
     "user": {
      "displayName": "Giorgia Gossi",
      "userId": "12769328602676688820"
     },
     "user_tz": -120
    },
    "id": "ni_9_EkXP_0T",
    "outputId": "55a579d9-ba7a-45fb-95f9-9feb52c42da2"
   },
   "outputs": [
    {
     "data": {
      "application/vnd.google.colaboratory.intrinsic+json": {
       "type": "string"
      },
      "text/plain": [
       "'hold_time feel_break feel untrue convince speak_voice tear_try hold hurt_try forgive okay play break_string feel_heart want_feel tell_real truth_hurt lie worse anymore_little turn_dust play_house ruin run leave_save like_chase train tear_try hold hurt_try forgive okay play break_string feel_heart want_feel tell_real truth_hurt lie worse anymore_little run leave_save like_chase train know_late late play break_string feel_heart want_feel tell_real truth_hurt lie worse anymore_little know_little hold_time feel'"
      ]
     },
     "execution_count": 16,
     "metadata": {},
     "output_type": "execute_result"
    }
   ],
   "source": [
    "#visualizziamo\n",
    "train_sentences1[0]"
   ]
  },
  {
   "cell_type": "markdown",
   "metadata": {
    "id": "jz7y2mS87HH0"
   },
   "source": [
    "Rimozione canzoni con meno di 5 parole nel testo"
   ]
  },
  {
   "cell_type": "code",
   "execution_count": null,
   "metadata": {
    "colab": {
     "base_uri": "https://localhost:8080/"
    },
    "executionInfo": {
     "elapsed": 209,
     "status": "ok",
     "timestamp": 1653309634680,
     "user": {
      "displayName": "Giorgia Gossi",
      "userId": "12769328602676688820"
     },
     "user_tz": -120
    },
    "id": "gdAPafF7F1Jb",
    "outputId": "11796d1e-5eae-4f78-edf6-e885f9689692"
   },
   "outputs": [
    {
     "data": {
      "text/plain": [
       "4"
      ]
     },
     "execution_count": 26,
     "metadata": {},
     "output_type": "execute_result"
    }
   ],
   "source": [
    "indice1= [i for i in range(len(train_sentences1)) if len(train_sentences1[i]) < 5]\n",
    "len(indice1)"
   ]
  },
  {
   "cell_type": "code",
   "execution_count": null,
   "metadata": {
    "colab": {
     "base_uri": "https://localhost:8080/"
    },
    "executionInfo": {
     "elapsed": 207,
     "status": "ok",
     "timestamp": 1653309638963,
     "user": {
      "displayName": "Giorgia Gossi",
      "userId": "12769328602676688820"
     },
     "user_tz": -120
    },
    "id": "8oPkQ5dIGFpO",
    "outputId": "1450d771-62ee-4159-c4b0-1effdbba9d96"
   },
   "outputs": [
    {
     "data": {
      "text/plain": [
       "[18097, 18885, 20580, 20800]"
      ]
     },
     "execution_count": 27,
     "metadata": {},
     "output_type": "execute_result"
    }
   ],
   "source": [
    "indice1"
   ]
  },
  {
   "cell_type": "code",
   "execution_count": null,
   "metadata": {
    "colab": {
     "base_uri": "https://localhost:8080/",
     "height": 35
    },
    "executionInfo": {
     "elapsed": 223,
     "status": "ok",
     "timestamp": 1653309500520,
     "user": {
      "displayName": "Giorgia Gossi",
      "userId": "12769328602676688820"
     },
     "user_tz": -120
    },
    "id": "a3HkGcLPGZ0c",
    "outputId": "66152c2c-aa41-48e0-ab6b-3efdd1b9b7bd"
   },
   "outputs": [
    {
     "data": {
      "application/vnd.google.colaboratory.intrinsic+json": {
       "type": "string"
      },
      "text/plain": [
       "'felt'"
      ]
     },
     "execution_count": 19,
     "metadata": {},
     "output_type": "execute_result"
    }
   ],
   "source": [
    "train_sentences1[20800]"
   ]
  },
  {
   "cell_type": "code",
   "execution_count": null,
   "metadata": {
    "id": "gJ7AfMA2G_aI"
   },
   "outputs": [],
   "source": [
    "train_sentences2=train_sentences1.copy()\n",
    "del train_sentences2[18885]"
   ]
  },
  {
   "cell_type": "code",
   "execution_count": null,
   "metadata": {
    "id": "0LDVnRZQHqQr"
   },
   "outputs": [],
   "source": [
    "del train_sentences2[20799]"
   ]
  },
  {
   "cell_type": "code",
   "execution_count": null,
   "metadata": {
    "id": "z8IOrL1n7zCn"
   },
   "outputs": [],
   "source": [
    "del train_sentences2[18097]"
   ]
  },
  {
   "cell_type": "code",
   "execution_count": null,
   "metadata": {
    "id": "mERXqKx375Yt"
   },
   "outputs": [],
   "source": [
    "del train_sentences2[20578]"
   ]
  },
  {
   "cell_type": "markdown",
   "metadata": {
    "id": "QEh34j17xBvS"
   },
   "source": [
    "### WORD EMBEDDINGS\n",
    "Stima modello FastText"
   ]
  },
  {
   "cell_type": "code",
   "execution_count": null,
   "metadata": {
    "colab": {
     "base_uri": "https://localhost:8080/",
     "height": 366
    },
    "executionInfo": {
     "elapsed": 8874,
     "status": "ok",
     "timestamp": 1654095765916,
     "user": {
      "displayName": "Giorgia Gossi",
      "userId": "12769328602676688820"
     },
     "user_tz": -120
    },
    "id": "HAn1eaawyhfs",
    "outputId": "626d968d-e682-4b3a-fa4a-e0bb4745d66b"
   },
   "outputs": [
    {
     "name": "stdout",
     "output_type": "stream",
     "text": [
      "Looking in indexes: https://pypi.org/simple, https://us-python.pkg.dev/colab-wheels/public/simple/\n",
      "Requirement already satisfied: gensim in /usr/local/lib/python3.7/dist-packages (3.6.0)\n",
      "Collecting gensim\n",
      "  Downloading gensim-4.2.0-cp37-cp37m-manylinux_2_12_x86_64.manylinux2010_x86_64.whl (24.1 MB)\n",
      "\u001b[K     |████████████████████████████████| 24.1 MB 59.5 MB/s \n",
      "\u001b[?25hRequirement already satisfied: numpy>=1.17.0 in /usr/local/lib/python3.7/dist-packages (from gensim) (1.21.6)\n",
      "Requirement already satisfied: smart-open>=1.8.1 in /usr/local/lib/python3.7/dist-packages (from gensim) (6.0.0)\n",
      "Requirement already satisfied: scipy>=0.18.1 in /usr/local/lib/python3.7/dist-packages (from gensim) (1.4.1)\n",
      "Installing collected packages: gensim\n",
      "  Attempting uninstall: gensim\n",
      "    Found existing installation: gensim 3.6.0\n",
      "    Uninstalling gensim-3.6.0:\n",
      "      Successfully uninstalled gensim-3.6.0\n",
      "Successfully installed gensim-4.2.0\n"
     ]
    },
    {
     "data": {
      "application/vnd.colab-display-data+json": {
       "pip_warning": {
        "packages": [
         "gensim"
        ]
       }
      }
     },
     "metadata": {},
     "output_type": "display_data"
    }
   ],
   "source": [
    "!pip install gensim -U"
   ]
  },
  {
   "cell_type": "code",
   "execution_count": null,
   "metadata": {
    "colab": {
     "base_uri": "https://localhost:8080/"
    },
    "executionInfo": {
     "elapsed": 153715,
     "status": "ok",
     "timestamp": 1654096090436,
     "user": {
      "displayName": "Giorgia Gossi",
      "userId": "12769328602676688820"
     },
     "user_tz": -120
    },
    "id": "_Wdc0xNqxLzB",
    "outputId": "92c174e8-1c28-488a-8166-88f446768ddc"
   },
   "outputs": [
    {
     "name": "stdout",
     "output_type": "stream",
     "text": [
      "CPU times: user 4min 26s, sys: 683 ms, total: 4min 27s\n",
      "Wall time: 2min 33s\n"
     ]
    }
   ],
   "source": [
    "from gensim.models import FastText\n",
    "\n",
    "%time ft_model = FastText(sg=0, hs=1, sentences=train_sentences, vector_size=100, window=5, min_count=5, epochs=5, min_n=3, max_n=6) #gensim 4"
   ]
  },
  {
   "cell_type": "code",
   "execution_count": null,
   "metadata": {
    "id": "uth3K7g_xQrr"
   },
   "outputs": [],
   "source": [
    "ft_model.save(filepath+'/ft_model_gensim4.vec')"
   ]
  },
  {
   "cell_type": "code",
   "execution_count": null,
   "metadata": {
    "colab": {
     "base_uri": "https://localhost:8080/"
    },
    "executionInfo": {
     "elapsed": 264,
     "status": "ok",
     "timestamp": 1654097477973,
     "user": {
      "displayName": "Giorgia Gossi",
      "userId": "12769328602676688820"
     },
     "user_tz": -120
    },
    "id": "QjoauFof4-3E",
    "outputId": "b96e5ea1-1595-4232-91fd-bfaffddaae47"
   },
   "outputs": [
    {
     "data": {
      "text/plain": [
       "array([[ 6.7515089e-03, -4.7677588e-03, -7.8138923e-03, ...,\n",
       "        -7.9859281e-03,  2.1929742e-05, -9.2279194e-03],\n",
       "       [ 4.4298411e-04,  4.0389872e-03,  1.5851617e-03, ...,\n",
       "        -7.0407437e-03,  9.2093442e-03, -5.8022714e-03],\n",
       "       [ 5.3175022e-03, -1.1899114e-03,  5.4316879e-03, ...,\n",
       "        -7.6474883e-03, -7.6373150e-03,  9.3556950e-03],\n",
       "       ...,\n",
       "       [-2.2869252e-03, -3.7503266e-03, -2.5149847e-03, ...,\n",
       "         1.4015245e-03,  3.0747771e-03,  8.4030982e-03],\n",
       "       [-6.0103653e-04,  4.4853329e-03, -4.5032143e-03, ...,\n",
       "         7.4430513e-03, -4.4770148e-03,  1.7699481e-03],\n",
       "       [-6.2964391e-03,  5.1660539e-04,  5.2967072e-05, ...,\n",
       "         6.0262918e-03,  7.1268915e-03, -2.7080083e-03]], dtype=float32)"
      ]
     },
     "execution_count": 22,
     "metadata": {},
     "output_type": "execute_result"
    }
   ],
   "source": [
    "ft_model.wv.vectors_ngrams"
   ]
  },
  {
   "cell_type": "code",
   "execution_count": null,
   "metadata": {
    "id": "iztZ4g5W2J0d"
   },
   "outputs": [],
   "source": [
    "from gensim.test.utils import get_tmpfile\n",
    "fname = get_tmpfile(\"fasttext_gensim4.model\")\n",
    "ft_model.save(fname)"
   ]
  },
  {
   "cell_type": "markdown",
   "metadata": {
    "id": "58InBb6lVQEy"
   },
   "source": [
    "### STIMA MODELLO "
   ]
  },
  {
   "cell_type": "markdown",
   "metadata": {
    "id": "Sh0DCvCOVdXv"
   },
   "source": [
    "Vettorizzazione dei testi con TFIDF"
   ]
  },
  {
   "cell_type": "code",
   "execution_count": null,
   "metadata": {
    "colab": {
     "base_uri": "https://localhost:8080/"
    },
    "executionInfo": {
     "elapsed": 29955,
     "status": "ok",
     "timestamp": 1653309756587,
     "user": {
      "displayName": "Giorgia Gossi",
      "userId": "12769328602676688820"
     },
     "user_tz": -120
    },
    "id": "0DidznLl7U08",
    "outputId": "c1ad7c7e-9cb5-42aa-e45f-f083e2d43031"
   },
   "outputs": [
    {
     "name": "stderr",
     "output_type": "stream",
     "text": [
      "/usr/local/lib/python3.7/dist-packages/sklearn/utils/deprecation.py:87: FutureWarning: Function get_feature_names is deprecated; get_feature_names is deprecated in 1.0 and will be removed in 1.2. Please use get_feature_names_out instead.\n",
      "  warnings.warn(msg, category=FutureWarning)\n"
     ]
    }
   ],
   "source": [
    "import numpy as np\n",
    "from sklearn.feature_extraction.text import CountVectorizer, TfidfVectorizer\n",
    "#vectorizer = CountVectorizer(ngram_range=(1, 1), max_features=1000)   #countvectorizer\n",
    "vectorizer = TfidfVectorizer(ngram_range=(1, 3), max_features=1000).fit(train_sentences2)  #TFIDF\n",
    "x = vectorizer.transform(train_sentences2)\n",
    "feature_names = vectorizer.get_feature_names()\n",
    "x = x.toarray()\n",
    "x = np.array(x)\n",
    "y = np.array(df['new_topic'])"
   ]
  },
  {
   "cell_type": "code",
   "execution_count": null,
   "metadata": {
    "id": "uX-hwDcGDqBN"
   },
   "outputs": [],
   "source": [
    "# import pickle\n",
    "# pickle.dump(vectorizer, open(filepath+'vectorizer.sav', 'wb'))"
   ]
  },
  {
   "cell_type": "code",
   "execution_count": null,
   "metadata": {
    "id": "BS6vPhL2IShC"
   },
   "outputs": [],
   "source": [
    "y=np.delete(y, 18885)\n",
    "y=np.delete(y, 20799)\n",
    "y=np.delete(y, 18097)\n",
    "y=np.delete(y, 20578)"
   ]
  },
  {
   "cell_type": "markdown",
   "metadata": {
    "id": "ouRQegKqVjZk"
   },
   "source": [
    "split in train e test "
   ]
  },
  {
   "cell_type": "code",
   "execution_count": null,
   "metadata": {
    "id": "VXb4BaGz2oYL"
   },
   "outputs": [],
   "source": [
    "from sklearn.model_selection import train_test_split\n",
    "x_train, x_test, y_train, y_test = train_test_split(x, y, stratify=y, test_size=0.3, random_state=42)"
   ]
  },
  {
   "cell_type": "markdown",
   "metadata": {
    "id": "Bdxe9NglVret"
   },
   "source": [
    "## Stima modello random forest "
   ]
  },
  {
   "cell_type": "code",
   "execution_count": null,
   "metadata": {
    "id": "Fumb8ioK_uPy"
   },
   "outputs": [],
   "source": [
    "from tqdm import tqdm\n",
    "from sklearn import tree\n",
    "from sklearn.ensemble import RandomForestClassifier\n",
    "from sklearn.model_selection import StratifiedKFold, cross_val_score\n",
    "from sklearn.metrics import accuracy_score, recall_score"
   ]
  },
  {
   "cell_type": "code",
   "execution_count": null,
   "metadata": {
    "colab": {
     "base_uri": "https://localhost:8080/"
    },
    "executionInfo": {
     "elapsed": 641823,
     "status": "ok",
     "timestamp": 1653310476453,
     "user": {
      "displayName": "Giorgia Gossi",
      "userId": "12769328602676688820"
     },
     "user_tz": -120
    },
    "id": "wZ5KlRXg9fb0",
    "outputId": "95f619f7-afbf-4033-c636-71344965fe60"
   },
   "outputs": [
    {
     "name": "stdout",
     "output_type": "stream",
     "text": [
      "Fitting 3 folds for each of 36 candidates, totalling 108 fits\n",
      "CPU times: user 1min 5s, sys: 1.05 s, total: 1min 6s\n",
      "Wall time: 10min 41s\n",
      "Best: 0.565861 using {'criterion': 'gini', 'max_depth': None, 'min_samples_split': 2, 'n_estimators': 100}\n",
      "0.513352 (0.003221) with: {'criterion': 'gini', 'max_depth': None, 'min_samples_split': 2, 'n_estimators': 10}\n",
      "0.565861 (0.003553) with: {'criterion': 'gini', 'max_depth': None, 'min_samples_split': 2, 'n_estimators': 100}\n",
      "0.525640 (0.003343) with: {'criterion': 'gini', 'max_depth': None, 'min_samples_split': 10, 'n_estimators': 10}\n",
      "0.565032 (0.001521) with: {'criterion': 'gini', 'max_depth': None, 'min_samples_split': 10, 'n_estimators': 100}\n",
      "0.523544 (0.004363) with: {'criterion': 'gini', 'max_depth': None, 'min_samples_split': 20, 'n_estimators': 10}\n",
      "0.563650 (0.001953) with: {'criterion': 'gini', 'max_depth': None, 'min_samples_split': 20, 'n_estimators': 100}\n",
      "0.330656 (0.025878) with: {'criterion': 'gini', 'max_depth': 5, 'min_samples_split': 2, 'n_estimators': 10}\n",
      "0.413459 (0.005764) with: {'criterion': 'gini', 'max_depth': 5, 'min_samples_split': 2, 'n_estimators': 100}\n",
      "0.287587 (0.035665) with: {'criterion': 'gini', 'max_depth': 5, 'min_samples_split': 10, 'n_estimators': 10}\n",
      "0.413065 (0.009176) with: {'criterion': 'gini', 'max_depth': 5, 'min_samples_split': 10, 'n_estimators': 100}\n",
      "0.280212 (0.056928) with: {'criterion': 'gini', 'max_depth': 5, 'min_samples_split': 20, 'n_estimators': 10}\n",
      "0.396868 (0.007899) with: {'criterion': 'gini', 'max_depth': 5, 'min_samples_split': 20, 'n_estimators': 100}\n",
      "0.354701 (0.019541) with: {'criterion': 'gini', 'max_depth': 10, 'min_samples_split': 2, 'n_estimators': 10}\n",
      "0.442291 (0.006125) with: {'criterion': 'gini', 'max_depth': 10, 'min_samples_split': 2, 'n_estimators': 100}\n",
      "0.386992 (0.009474) with: {'criterion': 'gini', 'max_depth': 10, 'min_samples_split': 10, 'n_estimators': 10}\n",
      "0.453077 (0.001464) with: {'criterion': 'gini', 'max_depth': 10, 'min_samples_split': 10, 'n_estimators': 100}\n",
      "0.367524 (0.011089) with: {'criterion': 'gini', 'max_depth': 10, 'min_samples_split': 20, 'n_estimators': 10}\n",
      "0.442245 (0.002276) with: {'criterion': 'gini', 'max_depth': 10, 'min_samples_split': 20, 'n_estimators': 100}\n",
      "0.488657 (0.005332) with: {'criterion': 'entropy', 'max_depth': None, 'min_samples_split': 2, 'n_estimators': 10}\n",
      "0.550214 (0.003940) with: {'criterion': 'entropy', 'max_depth': None, 'min_samples_split': 2, 'n_estimators': 100}\n",
      "0.507116 (0.001627) with: {'criterion': 'entropy', 'max_depth': None, 'min_samples_split': 10, 'n_estimators': 10}\n",
      "0.559074 (0.003608) with: {'criterion': 'entropy', 'max_depth': None, 'min_samples_split': 10, 'n_estimators': 100}\n",
      "0.508830 (0.002166) with: {'criterion': 'entropy', 'max_depth': None, 'min_samples_split': 20, 'n_estimators': 10}\n",
      "0.550149 (0.000611) with: {'criterion': 'entropy', 'max_depth': None, 'min_samples_split': 20, 'n_estimators': 100}\n",
      "0.302839 (0.042680) with: {'criterion': 'entropy', 'max_depth': 5, 'min_samples_split': 2, 'n_estimators': 10}\n",
      "0.395898 (0.007103) with: {'criterion': 'entropy', 'max_depth': 5, 'min_samples_split': 2, 'n_estimators': 100}\n",
      "0.307199 (0.027779) with: {'criterion': 'entropy', 'max_depth': 5, 'min_samples_split': 10, 'n_estimators': 10}\n",
      "0.391008 (0.009796) with: {'criterion': 'entropy', 'max_depth': 5, 'min_samples_split': 10, 'n_estimators': 100}\n",
      "0.295222 (0.028612) with: {'criterion': 'entropy', 'max_depth': 5, 'min_samples_split': 20, 'n_estimators': 10}\n",
      "0.399115 (0.005539) with: {'criterion': 'entropy', 'max_depth': 5, 'min_samples_split': 20, 'n_estimators': 100}\n",
      "0.349169 (0.008240) with: {'criterion': 'entropy', 'max_depth': 10, 'min_samples_split': 2, 'n_estimators': 10}\n",
      "0.426843 (0.004297) with: {'criterion': 'entropy', 'max_depth': 10, 'min_samples_split': 2, 'n_estimators': 100}\n",
      "0.378500 (0.012613) with: {'criterion': 'entropy', 'max_depth': 10, 'min_samples_split': 10, 'n_estimators': 10}\n",
      "0.430442 (0.007082) with: {'criterion': 'entropy', 'max_depth': 10, 'min_samples_split': 10, 'n_estimators': 100}\n",
      "0.370916 (0.007339) with: {'criterion': 'entropy', 'max_depth': 10, 'min_samples_split': 20, 'n_estimators': 10}\n",
      "0.431352 (0.003374) with: {'criterion': 'entropy', 'max_depth': 10, 'min_samples_split': 20, 'n_estimators': 100}\n"
     ]
    }
   ],
   "source": [
    "import random \n",
    "random.seed(5)\n",
    "from sklearn.model_selection import GridSearchCV\n",
    "from sklearn import svm\n",
    "\n",
    "#cross_validated_grid_search for Random Forest\n",
    "model = RandomForestClassifier(class_weight='balanced')  #alternativa a balanced è 'custom'\n",
    "param_grid = {'n_estimators': [10, 100],\n",
    "               'criterion': ['gini', 'entropy'],\n",
    "               'max_depth': [None, 5, 10],\n",
    "               'min_samples_split': [2, 10, 20]}\n",
    "\n",
    "#cross_validated_grid_search for SVC\n",
    "# model = svm.SVC()\n",
    "# param_grid = [{'kernel': ['rbf'], 'gamma': [1e-3, 1e-4],'C': [1, 10, 100, 1000]}]\n",
    "\n",
    "grid = GridSearchCV(estimator = model, param_grid = param_grid, cv=3, verbose=2, n_jobs=-1, scoring='f1_weighted')\n",
    "# Fit the random search model\n",
    "%time grid_result = grid.fit(x_train, y_train)\n",
    "\n",
    "#print grid search results\n",
    "print(\"Best: %f using %s\" % (grid_result.best_score_, grid_result.best_params_))\n",
    "means = grid_result.cv_results_['mean_test_score']\n",
    "stds = grid_result.cv_results_['std_test_score']\n",
    "params = grid_result.cv_results_['params']\n",
    "for mean, stdev, param in zip(means, stds, params):\n",
    "    print(\"%f (%f) with: %r\" % (mean, stdev, param))"
   ]
  },
  {
   "cell_type": "markdown",
   "metadata": {
    "id": "2WtEdU03Vvay"
   },
   "source": [
    "Visualizzazione delle metriche "
   ]
  },
  {
   "cell_type": "code",
   "execution_count": null,
   "metadata": {
    "colab": {
     "base_uri": "https://localhost:8080/"
    },
    "executionInfo": {
     "elapsed": 1308,
     "status": "ok",
     "timestamp": 1653310477758,
     "user": {
      "displayName": "Giorgia Gossi",
      "userId": "12769328602676688820"
     },
     "user_tz": -120
    },
    "id": "cvOiH2gUVl17",
    "outputId": "0ad89389-c7d9-4883-9698-d3c0758f8c0c"
   },
   "outputs": [
    {
     "name": "stdout",
     "output_type": "stream",
     "text": [
      "              precision    recall  f1-score   support\n",
      "\n",
      "        life       0.54      0.54      0.54      1809\n",
      "       music       0.50      0.55      0.53       691\n",
      "  night/time       0.38      0.38      0.38       547\n",
      "     obscene       0.72      0.77      0.74      1465\n",
      "    romantic       0.45      0.40      0.42       457\n",
      "     sadness       0.56      0.55      0.56      1829\n",
      "    violence       0.61      0.59      0.60      1713\n",
      "\n",
      "    accuracy                           0.57      8511\n",
      "   macro avg       0.54      0.54      0.54      8511\n",
      "weighted avg       0.57      0.57      0.57      8511\n",
      "\n"
     ]
    }
   ],
   "source": [
    "from sklearn.metrics import classification_report\n",
    "best_model = grid_result.best_estimator_\n",
    "predicted = best_model.predict(x_test)\n",
    "print(classification_report(y_test, predicted))"
   ]
  },
  {
   "cell_type": "code",
   "execution_count": null,
   "metadata": {
    "id": "Ueiq1ez3AOGK"
   },
   "outputs": [],
   "source": [
    "# import pickle\n",
    "# pickle.dump(best_model, open(filepath+'modello.sav', 'wb'))"
   ]
  },
  {
   "cell_type": "markdown",
   "metadata": {
    "id": "LqIjJ3fmEHS1"
   },
   "source": [
    "Selezioniamo soltanto le canzoni che sono state correttamente classificate dalla random forest attraverso un indice\n"
   ]
  },
  {
   "cell_type": "code",
   "execution_count": null,
   "metadata": {
    "id": "VVxFDMdouF43"
   },
   "outputs": [],
   "source": [
    "prediction = best_model.predict(x_train)"
   ]
  },
  {
   "cell_type": "code",
   "execution_count": null,
   "metadata": {
    "id": "iWuOy7Hlu_0d"
   },
   "outputs": [],
   "source": [
    "indice=[i for i in range(len(y_train)) if y_train[i]==prediction[i]]"
   ]
  },
  {
   "cell_type": "markdown",
   "metadata": {
    "id": "jUVMBH2JwrD0"
   },
   "source": [
    "Creazione del nuovo dataset di training per modello surrogato (contiene soltanto le canzoni correttamente classificate dalla random forest)"
   ]
  },
  {
   "cell_type": "code",
   "execution_count": null,
   "metadata": {
    "id": "i8z1TCStwols"
   },
   "outputs": [],
   "source": [
    "x_train_OK = x_train[indice]\n",
    "y_train_OK = y_train[indice]"
   ]
  },
  {
   "cell_type": "code",
   "execution_count": null,
   "metadata": {
    "colab": {
     "base_uri": "https://localhost:8080/"
    },
    "executionInfo": {
     "elapsed": 5,
     "status": "ok",
     "timestamp": 1652449041940,
     "user": {
      "displayName": "Aurora Musitelli",
      "userId": "00035798595045306682"
     },
     "user_tz": -120
    },
    "id": "fkPLjmaXxCCp",
    "outputId": "293c57b5-fc89-4aa9-d801-530d18828427"
   },
   "outputs": [
    {
     "name": "stdout",
     "output_type": "stream",
     "text": [
      "19678\n",
      "19678\n",
      "19678\n"
     ]
    }
   ],
   "source": [
    "print(len(x_train_OK))\n",
    "print(len(y_train_OK))\n",
    "print(len(indice))"
   ]
  },
  {
   "cell_type": "markdown",
   "metadata": {
    "id": "rjkvAd-LV0KB"
   },
   "source": [
    "### Stima modello logistico surrogato"
   ]
  },
  {
   "cell_type": "code",
   "execution_count": null,
   "metadata": {
    "colab": {
     "base_uri": "https://localhost:8080/"
    },
    "executionInfo": {
     "elapsed": 45791,
     "status": "ok",
     "timestamp": 1653310525430,
     "user": {
      "displayName": "Giorgia Gossi",
      "userId": "12769328602676688820"
     },
     "user_tz": -120
    },
    "id": "xmm5FP2nWZdF",
    "outputId": "c59fc9dc-1b40-4b21-9881-77a5c27dbdb1"
   },
   "outputs": [
    {
     "name": "stderr",
     "output_type": "stream",
     "text": [
      "3it [00:43, 14.56s/it]"
     ]
    },
    {
     "name": "stdout",
     "output_type": "stream",
     "text": [
      "[64.77584629460202, 63.672411163641904, 64.20619185603172]\n"
     ]
    },
    {
     "name": "stderr",
     "output_type": "stream",
     "text": [
      "\n"
     ]
    }
   ],
   "source": [
    "import random \n",
    "random.seed(5)\n",
    "from tqdm import tqdm\n",
    "from sklearn import tree\n",
    "from sklearn.ensemble import RandomForestClassifier\n",
    "from sklearn.linear_model import LogisticRegression\n",
    "from sklearn.model_selection import StratifiedKFold, cross_val_score\n",
    "from sklearn.metrics import accuracy_score, recall_score\n",
    "\n",
    "kfold = StratifiedKFold(n_splits=3, shuffle=True, random_state=1)\n",
    "#surr = tree.DecisionTreeClassifier(max_depth=20)\n",
    "surr = LogisticRegression(class_weight=None, max_iter=150)\n",
    "#model = RandomForestClassifier()\n",
    "\n",
    "cvscores = []\n",
    "cvrecall = []\n",
    "\n",
    "pred = best_model.predict(x_train_OK)\n",
    "\n",
    "for train, test in tqdm(kfold.split(x_train_OK, pred)):\n",
    "    surr.fit(x_train_OK[train],pred[train])\n",
    "    predicted = surr.predict(x_train_OK[test])\n",
    "    scores = accuracy_score(predicted, pred[test])\n",
    "    recall = recall_score(predicted, pred[test], average=None)\n",
    "    cvrecall.append(recall)\n",
    "    cvscores.append(scores * 100)\n",
    "\n",
    "print(cvscores)"
   ]
  },
  {
   "cell_type": "markdown",
   "metadata": {
    "id": "RWs3sq0pWHkt"
   },
   "source": [
    "metriche "
   ]
  },
  {
   "cell_type": "code",
   "execution_count": null,
   "metadata": {
    "colab": {
     "base_uri": "https://localhost:8080/"
    },
    "executionInfo": {
     "elapsed": 781,
     "status": "ok",
     "timestamp": 1653310526190,
     "user": {
      "displayName": "Giorgia Gossi",
      "userId": "12769328602676688820"
     },
     "user_tz": -120
    },
    "id": "cV0PtnqUMHB_",
    "outputId": "092642dd-c1e9-48b5-e0f0-b4977a0a68b2"
   },
   "outputs": [
    {
     "name": "stdout",
     "output_type": "stream",
     "text": [
      "              precision    recall  f1-score   support\n",
      "\n",
      "        life       0.62      0.70      0.66      4170\n",
      "       music       0.74      0.58      0.65      1591\n",
      "  night/time       0.62      0.35      0.45      1274\n",
      "     obscene       0.82      0.84      0.83      3409\n",
      "    romantic       0.68      0.41      0.51      1048\n",
      "     sadness       0.65      0.71      0.68      4203\n",
      "    violence       0.71      0.77      0.74      3977\n",
      "\n",
      "    accuracy                           0.69     19672\n",
      "   macro avg       0.69      0.62      0.64     19672\n",
      "weighted avg       0.69      0.69      0.69     19672\n",
      "\n"
     ]
    }
   ],
   "source": [
    "from sklearn.metrics import classification_report\n",
    "#best_model = grid_resultALBERO.best_estimator_\n",
    "best_model_LOG = surr\n",
    "predicted_LOG = best_model_LOG.predict(x_train_OK)\n",
    "print(classification_report(y_train_OK, predicted_LOG))"
   ]
  },
  {
   "cell_type": "code",
   "execution_count": null,
   "metadata": {
    "id": "SIYI9O3C39RF"
   },
   "outputs": [],
   "source": [
    "coeff=best_model_LOG.coef_"
   ]
  },
  {
   "cell_type": "markdown",
   "metadata": {
    "id": "IAVtjxW_im_t"
   },
   "source": [
    "Ora dai 1000 elementi (coefficienti) ottenuti possiamo risalire alle parole associate "
   ]
  },
  {
   "cell_type": "code",
   "execution_count": null,
   "metadata": {
    "id": "XQWY7QOlYlhZ"
   },
   "outputs": [],
   "source": [
    "df1=pd.DataFrame([])\n",
    "df1['parole']=feature_names\n",
    "df1['coefficienti']=coeff[0]"
   ]
  },
  {
   "cell_type": "code",
   "execution_count": null,
   "metadata": {
    "id": "tAVplOxnZDWu"
   },
   "outputs": [],
   "source": [
    "df1['|coefficienti|']=abs(df1['coefficienti'])"
   ]
  },
  {
   "cell_type": "code",
   "execution_count": null,
   "metadata": {
    "id": "B3uoUvMeZUPT"
   },
   "outputs": [],
   "source": [
    "df1.sort_values(by='|coefficienti|', ascending=False, inplace=True)"
   ]
  },
  {
   "cell_type": "code",
   "execution_count": null,
   "metadata": {
    "colab": {
     "base_uri": "https://localhost:8080/",
     "height": 424
    },
    "executionInfo": {
     "elapsed": 9,
     "status": "ok",
     "timestamp": 1653310527175,
     "user": {
      "displayName": "Giorgia Gossi",
      "userId": "12769328602676688820"
     },
     "user_tz": -120
    },
    "id": "Uhd3c4WNZ8he",
    "outputId": "21fce2e8-6671-465d-cf3f-51c90b15b0c1"
   },
   "outputs": [
    {
     "data": {
      "text/html": [
       "\n",
       "  <div id=\"df-63d50b1f-6fb0-4ff8-ba31-db9fadec54e5\">\n",
       "    <div class=\"colab-df-container\">\n",
       "      <div>\n",
       "<style scoped>\n",
       "    .dataframe tbody tr th:only-of-type {\n",
       "        vertical-align: middle;\n",
       "    }\n",
       "\n",
       "    .dataframe tbody tr th {\n",
       "        vertical-align: top;\n",
       "    }\n",
       "\n",
       "    .dataframe thead th {\n",
       "        text-align: right;\n",
       "    }\n",
       "</style>\n",
       "<table border=\"1\" class=\"dataframe\">\n",
       "  <thead>\n",
       "    <tr style=\"text-align: right;\">\n",
       "      <th></th>\n",
       "      <th>parole</th>\n",
       "      <th>coefficienti</th>\n",
       "      <th>|coefficienti|</th>\n",
       "    </tr>\n",
       "  </thead>\n",
       "  <tbody>\n",
       "    <tr>\n",
       "      <th>471</th>\n",
       "      <td>life</td>\n",
       "      <td>3.629533</td>\n",
       "      <td>3.629533</td>\n",
       "    </tr>\n",
       "    <tr>\n",
       "      <th>985</th>\n",
       "      <td>world</td>\n",
       "      <td>3.476741</td>\n",
       "      <td>3.476741</td>\n",
       "    </tr>\n",
       "    <tr>\n",
       "      <th>484</th>\n",
       "      <td>live</td>\n",
       "      <td>3.282309</td>\n",
       "      <td>3.282309</td>\n",
       "    </tr>\n",
       "    <tr>\n",
       "      <th>485</th>\n",
       "      <td>live_life</td>\n",
       "      <td>3.137639</td>\n",
       "      <td>3.137639</td>\n",
       "    </tr>\n",
       "    <tr>\n",
       "      <th>110</th>\n",
       "      <td>change</td>\n",
       "      <td>2.922043</td>\n",
       "      <td>2.922043</td>\n",
       "    </tr>\n",
       "    <tr>\n",
       "      <th>...</th>\n",
       "      <td>...</td>\n",
       "      <td>...</td>\n",
       "      <td>...</td>\n",
       "    </tr>\n",
       "    <tr>\n",
       "      <th>442</th>\n",
       "      <td>knee</td>\n",
       "      <td>-0.003424</td>\n",
       "      <td>0.003424</td>\n",
       "    </tr>\n",
       "    <tr>\n",
       "      <th>644</th>\n",
       "      <td>radio</td>\n",
       "      <td>-0.002050</td>\n",
       "      <td>0.002050</td>\n",
       "    </tr>\n",
       "    <tr>\n",
       "      <th>347</th>\n",
       "      <td>goin</td>\n",
       "      <td>-0.001771</td>\n",
       "      <td>0.001771</td>\n",
       "    </tr>\n",
       "    <tr>\n",
       "      <th>372</th>\n",
       "      <td>half</td>\n",
       "      <td>-0.001442</td>\n",
       "      <td>0.001442</td>\n",
       "    </tr>\n",
       "    <tr>\n",
       "      <th>380</th>\n",
       "      <td>hat</td>\n",
       "      <td>-0.000410</td>\n",
       "      <td>0.000410</td>\n",
       "    </tr>\n",
       "  </tbody>\n",
       "</table>\n",
       "<p>1000 rows × 3 columns</p>\n",
       "</div>\n",
       "      <button class=\"colab-df-convert\" onclick=\"convertToInteractive('df-63d50b1f-6fb0-4ff8-ba31-db9fadec54e5')\"\n",
       "              title=\"Convert this dataframe to an interactive table.\"\n",
       "              style=\"display:none;\">\n",
       "        \n",
       "  <svg xmlns=\"http://www.w3.org/2000/svg\" height=\"24px\"viewBox=\"0 0 24 24\"\n",
       "       width=\"24px\">\n",
       "    <path d=\"M0 0h24v24H0V0z\" fill=\"none\"/>\n",
       "    <path d=\"M18.56 5.44l.94 2.06.94-2.06 2.06-.94-2.06-.94-.94-2.06-.94 2.06-2.06.94zm-11 1L8.5 8.5l.94-2.06 2.06-.94-2.06-.94L8.5 2.5l-.94 2.06-2.06.94zm10 10l.94 2.06.94-2.06 2.06-.94-2.06-.94-.94-2.06-.94 2.06-2.06.94z\"/><path d=\"M17.41 7.96l-1.37-1.37c-.4-.4-.92-.59-1.43-.59-.52 0-1.04.2-1.43.59L10.3 9.45l-7.72 7.72c-.78.78-.78 2.05 0 2.83L4 21.41c.39.39.9.59 1.41.59.51 0 1.02-.2 1.41-.59l7.78-7.78 2.81-2.81c.8-.78.8-2.07 0-2.86zM5.41 20L4 18.59l7.72-7.72 1.47 1.35L5.41 20z\"/>\n",
       "  </svg>\n",
       "      </button>\n",
       "      \n",
       "  <style>\n",
       "    .colab-df-container {\n",
       "      display:flex;\n",
       "      flex-wrap:wrap;\n",
       "      gap: 12px;\n",
       "    }\n",
       "\n",
       "    .colab-df-convert {\n",
       "      background-color: #E8F0FE;\n",
       "      border: none;\n",
       "      border-radius: 50%;\n",
       "      cursor: pointer;\n",
       "      display: none;\n",
       "      fill: #1967D2;\n",
       "      height: 32px;\n",
       "      padding: 0 0 0 0;\n",
       "      width: 32px;\n",
       "    }\n",
       "\n",
       "    .colab-df-convert:hover {\n",
       "      background-color: #E2EBFA;\n",
       "      box-shadow: 0px 1px 2px rgba(60, 64, 67, 0.3), 0px 1px 3px 1px rgba(60, 64, 67, 0.15);\n",
       "      fill: #174EA6;\n",
       "    }\n",
       "\n",
       "    [theme=dark] .colab-df-convert {\n",
       "      background-color: #3B4455;\n",
       "      fill: #D2E3FC;\n",
       "    }\n",
       "\n",
       "    [theme=dark] .colab-df-convert:hover {\n",
       "      background-color: #434B5C;\n",
       "      box-shadow: 0px 1px 3px 1px rgba(0, 0, 0, 0.15);\n",
       "      filter: drop-shadow(0px 1px 2px rgba(0, 0, 0, 0.3));\n",
       "      fill: #FFFFFF;\n",
       "    }\n",
       "  </style>\n",
       "\n",
       "      <script>\n",
       "        const buttonEl =\n",
       "          document.querySelector('#df-63d50b1f-6fb0-4ff8-ba31-db9fadec54e5 button.colab-df-convert');\n",
       "        buttonEl.style.display =\n",
       "          google.colab.kernel.accessAllowed ? 'block' : 'none';\n",
       "\n",
       "        async function convertToInteractive(key) {\n",
       "          const element = document.querySelector('#df-63d50b1f-6fb0-4ff8-ba31-db9fadec54e5');\n",
       "          const dataTable =\n",
       "            await google.colab.kernel.invokeFunction('convertToInteractive',\n",
       "                                                     [key], {});\n",
       "          if (!dataTable) return;\n",
       "\n",
       "          const docLinkHtml = 'Like what you see? Visit the ' +\n",
       "            '<a target=\"_blank\" href=https://colab.research.google.com/notebooks/data_table.ipynb>data table notebook</a>'\n",
       "            + ' to learn more about interactive tables.';\n",
       "          element.innerHTML = '';\n",
       "          dataTable['output_type'] = 'display_data';\n",
       "          await google.colab.output.renderOutput(dataTable, element);\n",
       "          const docLink = document.createElement('div');\n",
       "          docLink.innerHTML = docLinkHtml;\n",
       "          element.appendChild(docLink);\n",
       "        }\n",
       "      </script>\n",
       "    </div>\n",
       "  </div>\n",
       "  "
      ],
      "text/plain": [
       "        parole  coefficienti  |coefficienti|\n",
       "471       life      3.629533        3.629533\n",
       "985      world      3.476741        3.476741\n",
       "484       live      3.282309        3.282309\n",
       "485  live_life      3.137639        3.137639\n",
       "110     change      2.922043        2.922043\n",
       "..         ...           ...             ...\n",
       "442       knee     -0.003424        0.003424\n",
       "644      radio     -0.002050        0.002050\n",
       "347       goin     -0.001771        0.001771\n",
       "372       half     -0.001442        0.001442\n",
       "380        hat     -0.000410        0.000410\n",
       "\n",
       "[1000 rows x 3 columns]"
      ]
     },
     "execution_count": 46,
     "metadata": {},
     "output_type": "execute_result"
    }
   ],
   "source": [
    "df1"
   ]
  },
  {
   "cell_type": "markdown",
   "metadata": {
    "id": "h_FrwmnCjchu"
   },
   "source": [
    "Osserviamo i plot delle parole con i loro relativi coefficienti"
   ]
  },
  {
   "cell_type": "code",
   "execution_count": null,
   "metadata": {
    "colab": {
     "base_uri": "https://localhost:8080/",
     "height": 283
    },
    "executionInfo": {
     "elapsed": 9296,
     "status": "ok",
     "timestamp": 1653310536464,
     "user": {
      "displayName": "Giorgia Gossi",
      "userId": "12769328602676688820"
     },
     "user_tz": -120
    },
    "id": "GN7UE2sFZw5F",
    "outputId": "aa662b8d-b3b9-40b1-ff0d-b8a293f1323d"
   },
   "outputs": [
    {
     "data": {
      "text/plain": [
       "[<matplotlib.lines.Line2D at 0x7f3a3a73c050>]"
      ]
     },
     "execution_count": 47,
     "metadata": {},
     "output_type": "execute_result"
    },
    {
     "data": {
      "image/png": "[encoded data removed]",
      "text/plain": [
       "<Figure size 432x288 with 1 Axes>"
      ]
     },
     "metadata": {
      "needs_background": "light"
     },
     "output_type": "display_data"
    }
   ],
   "source": [
    "import matplotlib.pyplot as plt\n",
    "plt.plot(df1['parole'],df1['|coefficienti|'])"
   ]
  },
  {
   "cell_type": "code",
   "execution_count": null,
   "metadata": {
    "colab": {
     "base_uri": "https://localhost:8080/",
     "height": 424
    },
    "executionInfo": {
     "elapsed": 23,
     "status": "ok",
     "timestamp": 1653310536465,
     "user": {
      "displayName": "Giorgia Gossi",
      "userId": "12769328602676688820"
     },
     "user_tz": -120
    },
    "id": "eFOmxOvSadF3",
    "outputId": "6489c064-221e-4825-9d43-b9913c29398a"
   },
   "outputs": [
    {
     "data": {
      "text/html": [
       "\n",
       "  <div id=\"df-cf6cec40-0f53-49ae-8147-e962007fe25e\">\n",
       "    <div class=\"colab-df-container\">\n",
       "      <div>\n",
       "<style scoped>\n",
       "    .dataframe tbody tr th:only-of-type {\n",
       "        vertical-align: middle;\n",
       "    }\n",
       "\n",
       "    .dataframe tbody tr th {\n",
       "        vertical-align: top;\n",
       "    }\n",
       "\n",
       "    .dataframe thead th {\n",
       "        text-align: right;\n",
       "    }\n",
       "</style>\n",
       "<table border=\"1\" class=\"dataframe\">\n",
       "  <thead>\n",
       "    <tr style=\"text-align: right;\">\n",
       "      <th></th>\n",
       "      <th>parole</th>\n",
       "      <th>coefficienti</th>\n",
       "      <th>|coefficienti|</th>\n",
       "    </tr>\n",
       "  </thead>\n",
       "  <tbody>\n",
       "    <tr>\n",
       "      <th>471</th>\n",
       "      <td>life</td>\n",
       "      <td>3.629533</td>\n",
       "      <td>3.629533</td>\n",
       "    </tr>\n",
       "    <tr>\n",
       "      <th>985</th>\n",
       "      <td>world</td>\n",
       "      <td>3.476741</td>\n",
       "      <td>3.476741</td>\n",
       "    </tr>\n",
       "    <tr>\n",
       "      <th>484</th>\n",
       "      <td>live</td>\n",
       "      <td>3.282309</td>\n",
       "      <td>3.282309</td>\n",
       "    </tr>\n",
       "    <tr>\n",
       "      <th>485</th>\n",
       "      <td>live_life</td>\n",
       "      <td>3.137639</td>\n",
       "      <td>3.137639</td>\n",
       "    </tr>\n",
       "    <tr>\n",
       "      <th>110</th>\n",
       "      <td>change</td>\n",
       "      <td>2.922043</td>\n",
       "      <td>2.922043</td>\n",
       "    </tr>\n",
       "    <tr>\n",
       "      <th>...</th>\n",
       "      <td>...</td>\n",
       "      <td>...</td>\n",
       "      <td>...</td>\n",
       "    </tr>\n",
       "    <tr>\n",
       "      <th>559</th>\n",
       "      <td>nigga</td>\n",
       "      <td>-1.222354</td>\n",
       "      <td>1.222354</td>\n",
       "    </tr>\n",
       "    <tr>\n",
       "      <th>345</th>\n",
       "      <td>go</td>\n",
       "      <td>1.220138</td>\n",
       "      <td>1.220138</td>\n",
       "    </tr>\n",
       "    <tr>\n",
       "      <th>701</th>\n",
       "      <td>save</td>\n",
       "      <td>1.216907</td>\n",
       "      <td>1.216907</td>\n",
       "    </tr>\n",
       "    <tr>\n",
       "      <th>479</th>\n",
       "      <td>lip</td>\n",
       "      <td>-1.213049</td>\n",
       "      <td>1.213049</td>\n",
       "    </tr>\n",
       "    <tr>\n",
       "      <th>146</th>\n",
       "      <td>come_true</td>\n",
       "      <td>1.204774</td>\n",
       "      <td>1.204774</td>\n",
       "    </tr>\n",
       "  </tbody>\n",
       "</table>\n",
       "<p>91 rows × 3 columns</p>\n",
       "</div>\n",
       "      <button class=\"colab-df-convert\" onclick=\"convertToInteractive('df-cf6cec40-0f53-49ae-8147-e962007fe25e')\"\n",
       "              title=\"Convert this dataframe to an interactive table.\"\n",
       "              style=\"display:none;\">\n",
       "        \n",
       "  <svg xmlns=\"http://www.w3.org/2000/svg\" height=\"24px\"viewBox=\"0 0 24 24\"\n",
       "       width=\"24px\">\n",
       "    <path d=\"M0 0h24v24H0V0z\" fill=\"none\"/>\n",
       "    <path d=\"M18.56 5.44l.94 2.06.94-2.06 2.06-.94-2.06-.94-.94-2.06-.94 2.06-2.06.94zm-11 1L8.5 8.5l.94-2.06 2.06-.94-2.06-.94L8.5 2.5l-.94 2.06-2.06.94zm10 10l.94 2.06.94-2.06 2.06-.94-2.06-.94-.94-2.06-.94 2.06-2.06.94z\"/><path d=\"M17.41 7.96l-1.37-1.37c-.4-.4-.92-.59-1.43-.59-.52 0-1.04.2-1.43.59L10.3 9.45l-7.72 7.72c-.78.78-.78 2.05 0 2.83L4 21.41c.39.39.9.59 1.41.59.51 0 1.02-.2 1.41-.59l7.78-7.78 2.81-2.81c.8-.78.8-2.07 0-2.86zM5.41 20L4 18.59l7.72-7.72 1.47 1.35L5.41 20z\"/>\n",
       "  </svg>\n",
       "      </button>\n",
       "      \n",
       "  <style>\n",
       "    .colab-df-container {\n",
       "      display:flex;\n",
       "      flex-wrap:wrap;\n",
       "      gap: 12px;\n",
       "    }\n",
       "\n",
       "    .colab-df-convert {\n",
       "      background-color: #E8F0FE;\n",
       "      border: none;\n",
       "      border-radius: 50%;\n",
       "      cursor: pointer;\n",
       "      display: none;\n",
       "      fill: #1967D2;\n",
       "      height: 32px;\n",
       "      padding: 0 0 0 0;\n",
       "      width: 32px;\n",
       "    }\n",
       "\n",
       "    .colab-df-convert:hover {\n",
       "      background-color: #E2EBFA;\n",
       "      box-shadow: 0px 1px 2px rgba(60, 64, 67, 0.3), 0px 1px 3px 1px rgba(60, 64, 67, 0.15);\n",
       "      fill: #174EA6;\n",
       "    }\n",
       "\n",
       "    [theme=dark] .colab-df-convert {\n",
       "      background-color: #3B4455;\n",
       "      fill: #D2E3FC;\n",
       "    }\n",
       "\n",
       "    [theme=dark] .colab-df-convert:hover {\n",
       "      background-color: #434B5C;\n",
       "      box-shadow: 0px 1px 3px 1px rgba(0, 0, 0, 0.15);\n",
       "      filter: drop-shadow(0px 1px 2px rgba(0, 0, 0, 0.3));\n",
       "      fill: #FFFFFF;\n",
       "    }\n",
       "  </style>\n",
       "\n",
       "      <script>\n",
       "        const buttonEl =\n",
       "          document.querySelector('#df-cf6cec40-0f53-49ae-8147-e962007fe25e button.colab-df-convert');\n",
       "        buttonEl.style.display =\n",
       "          google.colab.kernel.accessAllowed ? 'block' : 'none';\n",
       "\n",
       "        async function convertToInteractive(key) {\n",
       "          const element = document.querySelector('#df-cf6cec40-0f53-49ae-8147-e962007fe25e');\n",
       "          const dataTable =\n",
       "            await google.colab.kernel.invokeFunction('convertToInteractive',\n",
       "                                                     [key], {});\n",
       "          if (!dataTable) return;\n",
       "\n",
       "          const docLinkHtml = 'Like what you see? Visit the ' +\n",
       "            '<a target=\"_blank\" href=https://colab.research.google.com/notebooks/data_table.ipynb>data table notebook</a>'\n",
       "            + ' to learn more about interactive tables.';\n",
       "          element.innerHTML = '';\n",
       "          dataTable['output_type'] = 'display_data';\n",
       "          await google.colab.output.renderOutput(dataTable, element);\n",
       "          const docLink = document.createElement('div');\n",
       "          docLink.innerHTML = docLinkHtml;\n",
       "          element.appendChild(docLink);\n",
       "        }\n",
       "      </script>\n",
       "    </div>\n",
       "  </div>\n",
       "  "
      ],
      "text/plain": [
       "        parole  coefficienti  |coefficienti|\n",
       "471       life      3.629533        3.629533\n",
       "985      world      3.476741        3.476741\n",
       "484       live      3.282309        3.282309\n",
       "485  live_life      3.137639        3.137639\n",
       "110     change      2.922043        2.922043\n",
       "..         ...           ...             ...\n",
       "559      nigga     -1.222354        1.222354\n",
       "345         go      1.220138        1.220138\n",
       "701       save      1.216907        1.216907\n",
       "479        lip     -1.213049        1.213049\n",
       "146  come_true      1.204774        1.204774\n",
       "\n",
       "[91 rows x 3 columns]"
      ]
     },
     "execution_count": 48,
     "metadata": {},
     "output_type": "execute_result"
    }
   ],
   "source": [
    "df1[df1['|coefficienti|']>=1.2]"
   ]
  },
  {
   "cell_type": "code",
   "execution_count": null,
   "metadata": {
    "colab": {
     "base_uri": "https://localhost:8080/",
     "height": 286
    },
    "executionInfo": {
     "elapsed": 10317,
     "status": "ok",
     "timestamp": 1653310546766,
     "user": {
      "displayName": "Giorgia Gossi",
      "userId": "12769328602676688820"
     },
     "user_tz": -120
    },
    "id": "K5kBnQCmbCiH",
    "outputId": "8f8cbaae-fbbe-4294-95d8-4b24026daf58"
   },
   "outputs": [
    {
     "data": {
      "text/plain": [
       "[<matplotlib.lines.Line2D at 0x7f3a32ea5810>]"
      ]
     },
     "execution_count": 49,
     "metadata": {},
     "output_type": "execute_result"
    },
    {
     "data": {
      "image/png": "[encoded data removed]",
      "text/plain": [
       "<Figure size 432x288 with 1 Axes>"
      ]
     },
     "metadata": {
      "needs_background": "light"
     },
     "output_type": "display_data"
    }
   ],
   "source": [
    "df2=pd.DataFrame([])\n",
    "df2['parole']=feature_names\n",
    "df2['coefficienti']=coeff[1]\n",
    "df2['|coefficienti|']=abs(df2['coefficienti'])\n",
    "df2.sort_values(by='|coefficienti|', ascending=False, inplace=True)\n",
    "plt.plot(df2['parole'],df2['|coefficienti|'])"
   ]
  },
  {
   "cell_type": "code",
   "execution_count": null,
   "metadata": {
    "colab": {
     "base_uri": "https://localhost:8080/",
     "height": 283
    },
    "executionInfo": {
     "elapsed": 9231,
     "status": "ok",
     "timestamp": 1653310555987,
     "user": {
      "displayName": "Giorgia Gossi",
      "userId": "12769328602676688820"
     },
     "user_tz": -120
    },
    "id": "BCiLPuqKbym6",
    "outputId": "d2fc97fd-2a62-45d4-fdb0-78af9dfc6b67"
   },
   "outputs": [
    {
     "data": {
      "text/plain": [
       "[<matplotlib.lines.Line2D at 0x7f3a3b4e6cd0>]"
      ]
     },
     "execution_count": 50,
     "metadata": {},
     "output_type": "execute_result"
    },
    {
     "data": {
      "image/png": "[encoded data removed]",
      "text/plain": [
       "<Figure size 432x288 with 1 Axes>"
      ]
     },
     "metadata": {
      "needs_background": "light"
     },
     "output_type": "display_data"
    }
   ],
   "source": [
    "df3=pd.DataFrame([])\n",
    "df3['parole']=feature_names\n",
    "df3['coefficienti']=coeff[2]\n",
    "df3['|coefficienti|']=abs(df3['coefficienti'])\n",
    "df3.sort_values(by='|coefficienti|', ascending=False, inplace=True)\n",
    "plt.plot(df3['parole'],df3['|coefficienti|'])"
   ]
  },
  {
   "cell_type": "code",
   "execution_count": null,
   "metadata": {
    "colab": {
     "base_uri": "https://localhost:8080/",
     "height": 283
    },
    "executionInfo": {
     "elapsed": 9800,
     "status": "ok",
     "timestamp": 1653310565763,
     "user": {
      "displayName": "Giorgia Gossi",
      "userId": "12769328602676688820"
     },
     "user_tz": -120
    },
    "id": "7XbLMKqvb6rY",
    "outputId": "d537df7c-f331-4c45-8162-e00b729fca10"
   },
   "outputs": [
    {
     "data": {
      "text/plain": [
       "[<matplotlib.lines.Line2D at 0x7f3a3528a390>]"
      ]
     },
     "execution_count": 51,
     "metadata": {},
     "output_type": "execute_result"
    },
    {
     "data": {
      "image/png": "[encoded data removed]",
      "text/plain": [
       "<Figure size 432x288 with 1 Axes>"
      ]
     },
     "metadata": {
      "needs_background": "light"
     },
     "output_type": "display_data"
    }
   ],
   "source": [
    "df4=pd.DataFrame([])\n",
    "df4['parole']=feature_names\n",
    "df4['coefficienti']=coeff[3]\n",
    "df4['|coefficienti|']=abs(df4['coefficienti'])\n",
    "df4.sort_values(by='|coefficienti|', ascending=False, inplace=True)\n",
    "plt.plot(df4['parole'],df4['|coefficienti|'])"
   ]
  },
  {
   "cell_type": "code",
   "execution_count": null,
   "metadata": {
    "colab": {
     "base_uri": "https://localhost:8080/",
     "height": 286
    },
    "executionInfo": {
     "elapsed": 9131,
     "status": "ok",
     "timestamp": 1653310574887,
     "user": {
      "displayName": "Giorgia Gossi",
      "userId": "12769328602676688820"
     },
     "user_tz": -120
    },
    "id": "CqBGlc6ycDjQ",
    "outputId": "dc4c8b88-acac-4f76-c1e8-07ce07cd2756"
   },
   "outputs": [
    {
     "data": {
      "text/plain": [
       "[<matplotlib.lines.Line2D at 0x7f3a3b0bce50>]"
      ]
     },
     "execution_count": 52,
     "metadata": {},
     "output_type": "execute_result"
    },
    {
     "data": {
      "image/png": "[encoded data removed]",
      "text/plain": [
       "<Figure size 432x288 with 1 Axes>"
      ]
     },
     "metadata": {
      "needs_background": "light"
     },
     "output_type": "display_data"
    }
   ],
   "source": [
    "df5=pd.DataFrame([])\n",
    "df5['parole']=feature_names\n",
    "df5['coefficienti']=coeff[4]\n",
    "df5['|coefficienti|']=abs(df5['coefficienti'])\n",
    "df5.sort_values(by='|coefficienti|', ascending=False, inplace=True)\n",
    "plt.plot(df5['parole'],df5['|coefficienti|'])"
   ]
  },
  {
   "cell_type": "code",
   "execution_count": null,
   "metadata": {
    "colab": {
     "base_uri": "https://localhost:8080/",
     "height": 283
    },
    "executionInfo": {
     "elapsed": 9439,
     "status": "ok",
     "timestamp": 1653310584320,
     "user": {
      "displayName": "Giorgia Gossi",
      "userId": "12769328602676688820"
     },
     "user_tz": -120
    },
    "id": "YswWLbqicLi6",
    "outputId": "8f0c7aa9-f6a3-43c3-a3d9-a3f9f975d705"
   },
   "outputs": [
    {
     "data": {
      "text/plain": [
       "[<matplotlib.lines.Line2D at 0x7f3a35706110>]"
      ]
     },
     "execution_count": 53,
     "metadata": {},
     "output_type": "execute_result"
    },
    {
     "data": {
      "image/png": "[encoded data removed]",
      "text/plain": [
       "<Figure size 432x288 with 1 Axes>"
      ]
     },
     "metadata": {
      "needs_background": "light"
     },
     "output_type": "display_data"
    }
   ],
   "source": [
    "df6=pd.DataFrame([])\n",
    "df6['parole']=feature_names\n",
    "df6['coefficienti']=coeff[5]\n",
    "df6['|coefficienti|']=abs(df6['coefficienti'])\n",
    "df6.sort_values(by='|coefficienti|', ascending=False, inplace=True)\n",
    "plt.plot(df6['parole'],df6['|coefficienti|'])"
   ]
  },
  {
   "cell_type": "code",
   "execution_count": null,
   "metadata": {
    "colab": {
     "base_uri": "https://localhost:8080/",
     "height": 283
    },
    "executionInfo": {
     "elapsed": 10058,
     "status": "ok",
     "timestamp": 1653310594375,
     "user": {
      "displayName": "Giorgia Gossi",
      "userId": "12769328602676688820"
     },
     "user_tz": -120
    },
    "id": "qr1QOzmxcSYK",
    "outputId": "0f290730-727a-49bf-c38e-ab9861558d4f"
   },
   "outputs": [
    {
     "data": {
      "text/plain": [
       "[<matplotlib.lines.Line2D at 0x7f3a43f6d4d0>]"
      ]
     },
     "execution_count": 54,
     "metadata": {},
     "output_type": "execute_result"
    },
    {
     "data": {
      "image/png": "[encoded data removed]",
      "text/plain": [
       "<Figure size 432x288 with 1 Axes>"
      ]
     },
     "metadata": {
      "needs_background": "light"
     },
     "output_type": "display_data"
    }
   ],
   "source": [
    "df7=pd.DataFrame([])\n",
    "df7['parole']=feature_names\n",
    "df7['coefficienti']=coeff[6]\n",
    "df7['|coefficienti|']=abs(df7['coefficienti'])\n",
    "df7.sort_values(by='|coefficienti|', ascending=False, inplace=True)\n",
    "plt.plot(df7['parole'],df7['|coefficienti|'])"
   ]
  },
  {
   "cell_type": "markdown",
   "metadata": {
    "id": "HtDbNDvAkR0H"
   },
   "source": [
    "Scegliamo le parole più importanti"
   ]
  },
  {
   "cell_type": "code",
   "execution_count": null,
   "metadata": {
    "colab": {
     "base_uri": "https://localhost:8080/"
    },
    "executionInfo": {
     "elapsed": 31,
     "status": "ok",
     "timestamp": 1653310594377,
     "user": {
      "displayName": "Giorgia Gossi",
      "userId": "12769328602676688820"
     },
     "user_tz": -120
    },
    "id": "UMaFGDSDcv1D",
    "outputId": "1bd04c6f-5cae-4ef8-89af-89b795a98fe0"
   },
   "outputs": [
    {
     "name": "stdout",
     "output_type": "stream",
     "text": [
      "91\n",
      "60\n",
      "40\n",
      "132\n",
      "41\n",
      "84\n",
      "139\n"
     ]
    }
   ],
   "source": [
    "print(len(df1[df1['|coefficienti|']>=1.2]))\n",
    "print(len(df2[df2['|coefficienti|']>=1.2]))\n",
    "print(len(df3[df3['|coefficienti|']>=1.2]))\n",
    "print(len(df4[df4['|coefficienti|']>=1.2]))\n",
    "print(len(df5[df5['|coefficienti|']>=1.2]))\n",
    "print(len(df6[df6['|coefficienti|']>=1.2]))\n",
    "print(len(df7[df7['|coefficienti|']>=1.2]))"
   ]
  },
  {
   "cell_type": "markdown",
   "metadata": {
    "id": "4Zvx9OHT9gOY"
   },
   "source": [
    "Prendiamo le 85 parole più importanti per ogni livello"
   ]
  },
  {
   "cell_type": "code",
   "execution_count": null,
   "metadata": {
    "id": "YG45H1CChBYh"
   },
   "outputs": [],
   "source": [
    "life=list(df1['parole'][0:85])"
   ]
  },
  {
   "cell_type": "code",
   "execution_count": null,
   "metadata": {
    "id": "i_SYFMmLh4AG"
   },
   "outputs": [],
   "source": [
    "music=list(df2['parole'][0:85])"
   ]
  },
  {
   "cell_type": "code",
   "execution_count": null,
   "metadata": {
    "id": "L-PyzLcNiPDh"
   },
   "outputs": [],
   "source": [
    "night_time=list(df3['parole'][0:85])"
   ]
  },
  {
   "cell_type": "code",
   "execution_count": null,
   "metadata": {
    "id": "4Xh4gX1jiVbt"
   },
   "outputs": [],
   "source": [
    "obscene=list(df4['parole'][0:85])"
   ]
  },
  {
   "cell_type": "code",
   "execution_count": null,
   "metadata": {
    "id": "-8yUofq1icPW"
   },
   "outputs": [],
   "source": [
    "romantic=list(df5['parole'][0:85])"
   ]
  },
  {
   "cell_type": "code",
   "execution_count": null,
   "metadata": {
    "id": "MItFqe00igFL"
   },
   "outputs": [],
   "source": [
    "sadness=list(df6['parole'][0:85])"
   ]
  },
  {
   "cell_type": "code",
   "execution_count": null,
   "metadata": {
    "id": "xqWib73Uij6K"
   },
   "outputs": [],
   "source": [
    "violence=list(df7['parole'][0:85])"
   ]
  },
  {
   "cell_type": "code",
   "execution_count": null,
   "metadata": {
    "colab": {
     "base_uri": "https://localhost:8080/"
    },
    "executionInfo": {
     "elapsed": 213,
     "status": "ok",
     "timestamp": 1653482196728,
     "user": {
      "displayName": "Giorgia Gossi",
      "userId": "12769328602676688820"
     },
     "user_tz": -120
    },
    "id": "V2PpE_oPNoLV",
    "outputId": "70fb35dc-ec01-4b86-853c-e6ff7ba082b2"
   },
   "outputs": [
    {
     "name": "stdout",
     "output_type": "stream",
     "text": [
      "['life', 'world', 'live', 'live_life', 'change', 'believe', 'thank', 'life_live', 'remember', 'way', 'search', 'day', 'today', 'tomorrow', 'give', 'learn', 'happiness', 'feel_good', 'hear', 'forgive', 'straight', 'dream', 'grow', 'wife', 'yesterday', 'trust', 'sorrow', 'teach', 'count', 'choose', 'forever', 'future', 'mouth', 'put', 'room', 'promise', 'spend', 'show', 'everyday', 'crawl', 'answer', 'share', 'change_mind', 'sleep', 'shut', 'neck', 'forget', 'tryin', 'small', 'reason', 'settle', 'morning', 'cold', 'perfect', 'rainbow', 'regret', 'drop', 'true', 'wander', 'blow', 'sure', 'view', 'lick', 'imagine', 'moment', 'year', 'knock', 'hop', 'kick', 'pound', 'end', 'road', 'brain', 'struggle', 'tell', 'beat', 'good_time', 'shame', 'come_home', 'swing', 'close', 'night', 'play_game', 'smoke', 'pas']\n",
      "['sing_song', 'sing', 'song', 'music', 'guitar', 'song_sing', 'home', 'blue', 'come_home', 'tune', 'call', 'hear', 'listen', 'lonesome', 'play', 'radio', 'band', 'spring', 'note', 'blow', 'wind_blow', 'write', 'sound', 'summer', 'string', 'ring', 'voice', 'year', 'belong', 'swing', 'send', 'hold', 'mister', 'letter', 'drum', 'life', 'christmas', 'winter', 'word', 'even', 'loud', 'breeze', 'record', 'tree', 'playin', 'sky', 'bring', 'fly', 'soon', 'snow', 'dark', 'go_away', 'lose', 'echo', 'blind', 'read', 'face', 'throw', 'hard', 'wind', 'instrumental', 'knock', 'hate', 'kiss', 'baby', 'look_like', 'crowd', 'message', 'stop', 'day', 'cry', 'piece', 'door', 'wanna', 'folk', 'sail', 'mind', 'live', 'thing_know', 'fight', 'buy', 'true', 'flower', 'round', 'matter']\n",
      "['time', 'tonight', 'night_long', 'long_time', 'wait', 'right', 'late', 'night', 'long', 'ready', 'waste_time', 'good_time', 'give', 'mind', 'true', 'clock', 'right_wrong', 'fine', 'time_know', 'sign', 'tire', 'late_night', 'stay', 'catch', 'blue', 'sight', 'land', 'line', 'know_time', 'time_go', 'divine', 'save', 'tear', 'walk', 'jump', 'warm', 'go', 'rockin', 'rest', 'game', 'second', 'grind', 'hurt', 'life', 'gold', 'trust', 'world', 'song', 'fight', 'surprise', 'wall', 'rhythm', 'pray', 'pain', 'sing_song', 'know_want', 'home', 'arm', 'word', 'shall', 'alright', 'live', 'ring', 'room', 'wise', 'follow', 'hand', 'truth', 'let', 'forgive', 'return', 'speak', 'free', 'roll', 'nothin', 'rule', 'rain', 'face', 'kill', 'steady', 'survive', 'instrumental', 'count', 'dress', 'know']\n",
      "['shit', 'nigga', 'money', 'fuck', 'bitch', 'check', 'gettin', 'party', 'nothin', 'talkin', 'bout', 'smoke', 'game', 'talkin_bout', 'damn', 'comin', 'sittin', 'livin', 'tryna', 'bust', 'lookin', 'better', 'outta', 'block', 'like', 'stuff', 'cause', 'style', 'doin', 'walkin', 'gotta', 'play_game', 'club', 'tryin', 'paper', 'playin', 'bullshit', 'stick', 'goin', 'fuckin', 'sell', 'fake', 'rhyme', 'scene', 'pocket', 'runnin', 'sayin', 'throw', 'spot', 'beat', 'record', 'somethin', 'ball', 'motherfucker', 'weed', 'talk', 'grab', 'drop', 'school', 'thinkin', 'play', 'track', 'deal', 'flow', 'people', 'energy', 'kid', 'pussy', 'kick', 'start', 'makin', 'probably', 'week', 'yeah_know', 'quit', 'wanna', 'everybody', 'figure', 'number', 'boy', 'kinda', 'joke', 'gonna', 'waitin', 'rapper']\n",
      "['kiss', 'woman', 'hold', 'thrill', 'hold_tight', 'arm', 'love', 'lip', 'dear', 'sweet', 'darlin', 'touch', 'lover', 'darling', 'hand', 'true', 'tight', 'lovely', 'whisper', 'goodbye', 'romance', 'charm', 'hold_hand', 'warm', 'soft', 'lyric_commercial', 'treat', 'meet', 'understand', 'believe', 'close', 'heaven', 'gonna', 'share', 'friend', 'repeat', 'break', 'forever', 'call', 'heart_break', 'hurt', 'heart', 'real', 'time', 'moment', 'like', 'hang', 'free', 'know_want', 'fight', 'sigh', 'keep', 'offer', 'save', 'stay', 'waste', 'rose', 'time_come', 'hide', 'tell', 'dream', 'listen', 'day', 'today', 'game', 'die', 'dead', 'fall', 'black', 'kid', 'chick', 'world', 'good', 'step', 'fever', 'count', 'sail', 'band', 'goin', 'stick', 'throw_away', 'bring', 'white', 'darkness', 'sense']\n",
      "['break_heart', 'walk_away', 'fall', 'away', 'heart_break', 'apart', 'hurt', 'cry', 'pain', 'break', 'heart', 'fall_apart', 'tear_apart', 'walk', 'slip_away', 'heart_know', 'throw_away', 'fool', 'memory', 'tear', 'lonely', 'inside', 'deep_inside', 'wish', 'hide', 'fade_away', 'piece', 'blame', 'leave', 'remind', 'safe', 'dead', 'ready', 'someday', 'grand', 'open_eye', 'take', 'go_away', 'keep', 'escape', 'music', 'hell', 'check', 'fade', 'steal', 'afraid', 'money', 'long_time', 'misery', 'longer', 'awake', 'water', 'read', 'stranger', 'woman', 'open', 'disappear', 'pretend', 'playin', 'glow', 'fell', 'food', 'song', 'fuck', 'brother', 'smile', 'devil', 'follow', 'desert', 'spread', 'second', 'heal', 'tune', 'talkin_bout', 'folk', 'bend', 'soldier', 'party', 'shoot', 'sorrow', 'swear', 'grab', 'slowly', 'neck', 'everyday']\n",
      "['dead', 'black', 'hell', 'kill', 'blood', 'head', 'death', 'devil', 'bone', 'crawl', 'scream', 'breathe', 'fight', 'wall', 'white', 'shoot', 'lie', 'bleed', 'freeze', 'brain', 'edge', 'mouth', 'ghost', 'tongue', 'skin', 'black_white', 'bury', 'enemy', 'die', 'stand', 'human', 'darkness', 'sick', 'evil', 'grind', 'hole', 'shut', 'mirror', 'truth', 'fear', 'grave', 'face', 'sink', 'vein', 'alive', 'dust', 'outside', 'build', 'power', 'raise', 'tall', 'fee', 'neck', 'day', 'speak', 'follow', 'dirty', 'blind', 'race', 'memory', 'field', 'lonely', 'clean', 'insane', 'scar', 'battle', 'point', 'style', 'cold', 'sweat', 'cover', 'stone', 'yesterday', 'drag', 'fate', 'strike', 'crack', 'play', 'question', 'home', 'knock', 'sense', 'body', 'foot', 'nothin']\n"
     ]
    }
   ],
   "source": [
    "print(life)\n",
    "print(music)\n",
    "print(night_time)\n",
    "print(obscene)\n",
    "print(romantic)\n",
    "print(sadness)\n",
    "print(violence)"
   ]
  },
  {
   "cell_type": "markdown",
   "metadata": {
    "id": "Sy2lZocjirBj"
   },
   "source": [
    "##Salviamo quello fatto fino ad ora\n"
   ]
  },
  {
   "cell_type": "code",
   "execution_count": null,
   "metadata": {
    "id": "UT3CvS9UdDnJ"
   },
   "outputs": [],
   "source": [
    "import dill \n",
    "fileName='/content/drive/MyDrive/statistica spaziale2/topic_analysis1.pkl'\n",
    "dill.dump_session(fileName)"
   ]
  }
 ],
 "metadata": {
  "accelerator": "TPU",
  "colab": {
   "collapsed_sections": [],
   "name": "topic analysis1.ipynb",
   "provenance": []
  },
  "kernelspec": {
   "display_name": "Python 3",
   "language": "python",
   "name": "python3"
  },
  "language_info": {
   "codemirror_mode": {
    "name": "ipython",
    "version": 3
   },
   "file_extension": ".py",
   "mimetype": "text/x-python",
   "name": "python",
   "nbconvert_exporter": "python",
   "pygments_lexer": "ipython3",
   "version": "3.8.8"
  },
  "toc": {
   "base_numbering": 1,
   "nav_menu": {},
   "number_sections": true,
   "sideBar": true,
   "skip_h1_title": false,
   "title_cell": "Table of Contents",
   "title_sidebar": "Contents",
   "toc_cell": false,
   "toc_position": {
    "height": "calc(100% - 180px)",
    "left": "10px",
    "top": "150px",
    "width": "238.475px"
   },
   "toc_section_display": true,
   "toc_window_display": true
  }
 },
 "nbformat": 4,
 "nbformat_minor": 1
}
